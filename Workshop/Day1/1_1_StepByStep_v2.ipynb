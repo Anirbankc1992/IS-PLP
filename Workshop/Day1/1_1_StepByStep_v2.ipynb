{
 "cells": [
  {
   "cell_type": "code",
   "execution_count": 3,
   "metadata": {
    "colab": {
     "base_uri": "https://localhost:8080/"
    },
    "id": "a2i8dAnylyi2",
    "outputId": "3a1cac15-9c6a-4f38-81f4-20c4b638815d"
   },
   "outputs": [
    {
     "name": "stdout",
     "output_type": "stream",
     "text": [
      "Requirement already satisfied: nltk in c:\\anaconda\\envs\\anirban\\lib\\site-packages (3.5)\n",
      "Requirement already satisfied: click in c:\\anaconda\\envs\\anirban\\lib\\site-packages (from nltk) (7.1.2)\n",
      "Requirement already satisfied: joblib in c:\\anaconda\\envs\\anirban\\lib\\site-packages (from nltk) (0.16.0)\n",
      "Requirement already satisfied: tqdm in c:\\anaconda\\envs\\anirban\\lib\\site-packages (from nltk) (4.47.0)\n",
      "Requirement already satisfied: regex in c:\\anaconda\\envs\\anirban\\lib\\site-packages (from nltk) (2020.6.8)\n"
     ]
    }
   ],
   "source": [
    "# Colab environment already has nltk\n",
    "!pip install nltk"
   ]
  },
  {
   "cell_type": "code",
   "execution_count": 4,
   "metadata": {
    "id": "MEE3zRYnlyjB"
   },
   "outputs": [],
   "source": [
    "# -*- coding: utf-8 -*-\n",
    "\"\"\"\n",
    "TA Workshop : Text preparation step by step\n",
    "\"\"\"\n",
    "\n",
    "import os\n",
    "import json\n",
    "import string\n",
    "import nltk\n",
    "from nltk import word_tokenize, FreqDist\n",
    "from nltk.corpus import stopwords\n"
   ]
  },
  {
   "cell_type": "code",
   "execution_count": 5,
   "metadata": {
    "colab": {
     "base_uri": "https://localhost:8080/"
    },
    "id": "mpVHm89FlyjC",
    "outputId": "b5f69dec-fb20-461d-b453-b20da8bed659"
   },
   "outputs": [
    {
     "name": "stderr",
     "output_type": "stream",
     "text": [
      "[nltk_data] Downloading package punkt to\n",
      "[nltk_data]     C:\\Users\\anirban\\AppData\\Roaming\\nltk_data...\n",
      "[nltk_data]   Package punkt is already up-to-date!\n",
      "[nltk_data] Downloading package stopwords to\n",
      "[nltk_data]     C:\\Users\\anirban\\AppData\\Roaming\\nltk_data...\n",
      "[nltk_data]   Package stopwords is already up-to-date!\n",
      "[nltk_data] Downloading package wordnet to\n",
      "[nltk_data]     C:\\Users\\anirban\\AppData\\Roaming\\nltk_data...\n",
      "[nltk_data]   Package wordnet is already up-to-date!\n"
     ]
    },
    {
     "data": {
      "text/plain": [
       "True"
      ]
     },
     "execution_count": 5,
     "metadata": {},
     "output_type": "execute_result"
    }
   ],
   "source": [
    "#load required data for NLTK \n",
    "## Note: on local machine, you just need to run it once only using \"nltk.download()\"\n",
    "##       at the 'NLTK Downloader' dialogue window, choose 'book', then click 'Download'\n",
    "\n",
    "nltk.download('punkt')\n",
    "nltk.download('stopwords')\n",
    "nltk.download('wordnet')"
   ]
  },
  {
   "cell_type": "code",
   "execution_count": 6,
   "metadata": {
    "id": "gXskdcJTlyjC"
   },
   "outputs": [],
   "source": [
    "# Or open the JSON data file from your current working directory\n",
    "data =  open(\"Article_1.json\", \"r\")"
   ]
  },
  {
   "cell_type": "code",
   "execution_count": 7,
   "metadata": {
    "colab": {
     "base_uri": "https://localhost:8080/"
    },
    "id": "aZnuqC-2lyjD",
    "outputId": "4d22a0e1-dbd9-4893-d5de-d6bf91cdaa8e"
   },
   "outputs": [
    {
     "data": {
      "text/plain": [
       "dict_keys(['URL', 'Text', '_id'])"
      ]
     },
     "execution_count": 7,
     "metadata": {},
     "output_type": "execute_result"
    }
   ],
   "source": [
    "# Load in the JSON object in the file\n",
    "jdata = json.load(data)\n",
    "jdata.keys()"
   ]
  },
  {
   "cell_type": "code",
   "execution_count": 8,
   "metadata": {
    "colab": {
     "base_uri": "https://localhost:8080/"
    },
    "id": "mgpglH8olyjD",
    "outputId": "d98118eb-661b-42bd-b256-6a7f5a599bff"
   },
   "outputs": [
    {
     "name": "stdout",
     "output_type": "stream",
     "text": [
      "http://www.slate.com/articles/life/food/2015/08/i_was_gluten_free_before_it_was_cool_diagnosed_with_celiac_in_the_1990s.html\n",
      "Gluten, it turns out, is not an actual grain or visible ingredient but the substance, made of two proteins, that gives dough its elasticity. Celiac is an autoimmune disorder in which gluten wreaks havoc on the small intestine, blocking other nutrients from being absorbed. When I was diagnosed with celiac, my doctor taught me to pinpoint wheaty assassins lurking in foods you’d never suspect: soy sauce, gravy, candy bars. Back then, the crunchiest health food store in my hometown was the only place where you could find wheat-free products. My mom and I would go there to eat terrible sandwiches in a tiny café in the back that was decorated like a ’70s rainforest, beaded curtains strung alongside fake agave plants. It was always empty. The wild-haired store owner would emerge from the kitchen with her hands full of rolls.\n",
      "\n",
      "As someone who once mail-ordered a frozen pack of sorghum donuts to my dorm room, I’ve found the gluten-free boom weird to live through. I went from feeling mildly exotic, like some odd but domesticated tropical pet, to the unwitting embodiment of a whole host of clichés about fad dieting and female calorie-phobia. My reason for saying this is not (just) to assert my primacy in the great war against gluten, or lay claim to O.G. status when it comes to asking the question, “Is this soup thickened with a roux?” It’s also to convey the uniquely strange feeling of having a lifelong trait—even one as arbitrary as intolerance to a wheat protein hybrid—turned into a punch line by the culture at large.\n",
      "\n",
      "We are now in a golden age of glutenlessness. Gluten-free food sales grew by more than 60 percent from 2012 to 2014, and by 2019 the number is projected to increase by 140 percent. A 2013 study claimed that only 2 percent of shoppers who buy gluten-free goods do so because they have been diagnosed with celiac disease, while 59 percent buy them because they think gluten is unhealthy. That’s 59 percent of gluten-free shoppers who are willingly subjecting themselves to rock-hard bagels and cookies that—in the absence of the springiness that characterizes normal dough—crumble to nothingness when touched by a breeze.\n",
      "\n",
      "In two decades since I first heard the word gluten, it’s evolved from the obscure scourge of the small population of people with celiac disease into a fad-diet obsession for carb-phobics. Along the way, it’s become a nutritional bogeyman, a shorthand for a kind of phony asceticism, a pop-cultural joke. It started with a few scattered articles about “gluten sensitivity” and some scientific papers speculating about whether American wheat had become less digestible. Then there was the surest sign of mass-cultural anointment: Gluten coverage migrated from the health and science pages to the style section . With growing awareness of gluten came a surge in self-diagnosed allergies to it. South Park skewered the alarmism of the anti-gluten set by devoting an entire 2014 episode to the imaginary plague of Gluten Free Ebola . A Tumblr called Gluten Free Museum went viral by Photoshopping out the wheat products from famous works of art. A real dating website launched called glutenfreesingles.com .\n",
      "\n",
      "I was crushed. It was the fall of 1995, and the Atkins diet hadn’t begun to vilify carbs in the America dietary imagination. Also, gluten sounded made-up. What was gluten? The word itself, that cartoonish little “oo,” seemed too dopey to mean anything at all. The first time my mom brought home gluten-free bread—a sickly, bleached loaf as dense as a paperweight—I could not believe it was food. I would wander sorrowfully down the supermarket aisles, beholding the rows of delectable poison. Tastykakes. Twix. Cinnamon Toast Crunch. At a classmate’s birthday party, as my peers joyfully forked cake into their mouths, I stared at my untouched slice and cried.\n",
      "\n",
      "I was 9 years old when I first heard the word gluten. “You can’t eat gluten anymore,” my mom informed me after we’d left the doctor’s office. “No more spaghetti.” Her face suggested this was good news. I hadn’t gained weight in more than a year and I looked like a tiny goblin with bangs. The doctor had described my predicament as “failure to thrive.” But I was a pasta machine. As far as my third-grade self was concerned, no food was more perfect than noodles: so blandly reliable, such a useful vehicle for cheese.\n",
      "\n",
      "I don’t remember the taste so much as the thrill of admittance into a secret world of benign eccentrics and magical-sounding ingredients like “teff.” I had a yen for low-risk adventuring. My classmates, palates gone soft on SpaghettiOs, would never venture here.\n",
      "\n",
      "At school, everyone handled me gingerly at first. The other third-graders eyed my grayish lunches of potato penne or corn tortillas without saying anything; the lunch ladies quietly retrieved my private stash of sandwich bread from the cafeteria freezers when I arrived. But eventually, avoiding gluten started to feel like a sort of shtick. I’ve now spent so many years inflicting the same questions on unsuspecting waiters that my friends can recite them from memory. “Is there Worcestershire sauce in this Caesar dressing?” “Are these fries cooked in recycled oil?”\n",
      "\n",
      "Photo illustration by Lisa Larson-Walker. Photo courtesy Laura Bennett.\n",
      "\n",
      "I began to notice a general chill in my relationships with waiters across the tristate area.\n",
      "\n",
      "Celiac has still, to this day, given me something of a survivalist’s mindset when it comes to any doughy food. Put me in front of a bowl of quinoa noodles or a cake made of tapioca flour and I am a bear lining my intestines before the frost.\n",
      "\n",
      "For me, the exact moment when I knew the tide had turned against gluten came in 2013. I was at an Italian restaurant, and asked the waiter, a big guy with a mustache like a pelt, whether the chicken wings were breaded. He leaned down and squinted at me. “Why would you want to know that?” he asked.\n",
      "\n",
      "“I’m allergic to gluten,” I replied.\n",
      "\n",
      "He gave a mighty eye roll. “Not another one,” he said, and left.\n",
      "\n",
      "After that, I began to notice a general chill in my relationships with waiters across the tristate area. Whereas they had once reacted to the word gluten with befuddlement and concern, now they knew what gluten was and responded to my questions like GIs snapping to attention, with marked-up menus and rattled-off ingredients. But the curl in their lip was unmistakable. I remember seeing This Is the End, in which Seth Rogen and Jay Baruchel debate the merits of a gluten-free diet, both leaning on the gloo syllable as if it were independently hilarious. I felt like some private sanctum of my life had been breached. If gluten has found its way into the mass-targeted shenanigans of Apatovian doofuses, I thought, how much further can it fall?\n",
      "\n",
      "A lot. A few weeks ago, I visited a new dentist for the first time, and he asked if I had any food allergies. “Gluten,” I said. “Let me try again,” he replied. “Do you have any real allergies?” That old whiff of strangeness I relished as a kid, the slightly alien quality of an allergy no one had heard of—it had all been converted into something much more pungent: a dumb bougie trend.\n",
      "\n",
      "All this has made me realize something that my spindly 9-year-old self never could have expected. When you spend your formative decades with an inconvenient food allergy, it lodges itself in your self-conception in surprising ways. To be a kid suddenly forced to squint at food packaging and learn the meaning of “monosodium glutamate” and plunk a bricklike wheatless “sandwich” onto the cafeteria table every day in front of your friends—it gives you a healthy sense of absurdity and also a tiny persecution complex. Maybe your “failure to thrive” stunts your growth and results in a staggering lack of athletic prowess throughout your elementary school years, including, in required swim meets, a breaststroke so feeble and panicky that it looks less like swimming than drowning. Maybe you memorize some precocious lines to recite when asked what happens when you eat gluten. (“Well, it flattens the villi in my small intestines.”) Maybe you begin to take a slight but distinct pride in your reserves of grain-related expertise, realizing that you are one of few 9-year-olds who knows that maltodextrin does not in fact contain malt. And in the end, once you’ve gotten the hang of things, maybe you write a song on a sheet of legal paper that is still tacked to the wall of your childhood bedroom and includes the lyrics “Laura can’t eat gluten/ but she’s still hootin’/ for joy.”\n",
      "\n",
      "I imagine that being an ur-gluten-intolerant is a bit like loving a band no one has heard of and then watching it climb the Billboard Hot 100: the mix of puzzlement (“how did everyone find out about it?”) and possessiveness (“they don’t even really get it”), the slight internal reshuffling required to disentangle it from your self-image, the chip that materializes on your shoulder whenever you hear its name. For most of my life, though, being allergic to gluten had been a quirk that was at once specific to me and, unlike most quirks, safely meaningless—in no way a symptom of my character or my tastes or my brain. Now, when I turn down a beer at a party, I try to arrange my face in a way that says “I know, right.” When I ask a waiter if there’s gluten-free pasta in the kitchen, I offer a sympathetic little grimace.\n",
      "{'$oid': '55daedff04235215b082e159'}\n"
     ]
    }
   ],
   "source": [
    "# Take a look at the values in the JSON object\n",
    "print(jdata['URL'])\n",
    "print(jdata['Text'])\n",
    "print(jdata['_id'])"
   ]
  },
  {
   "cell_type": "code",
   "execution_count": 9,
   "metadata": {
    "colab": {
     "base_uri": "https://localhost:8080/"
    },
    "id": "BGggTwr-lyjE",
    "outputId": "faf2d99b-5b80-4896-f2b7-6a0a189fec8a"
   },
   "outputs": [
    {
     "name": "stdout",
     "output_type": "stream",
     "text": [
      "<class 'str'>\n",
      "9336\n",
      "Gluten, it turns out\n"
     ]
    }
   ],
   "source": [
    "text=jdata['Text']\n",
    "print(type(text))\n",
    "print(len(text))\n",
    "print(text[:20])"
   ]
  },
  {
   "cell_type": "code",
   "execution_count": 8,
   "metadata": {
    "colab": {
     "base_uri": "https://localhost:8080/"
    },
    "id": "BlVYd242lyjF",
    "outputId": "e5e7e119-3506-4c43-cda6-5a1ea80d0f32"
   },
   "outputs": [
    {
     "data": {
      "text/plain": [
       "list"
      ]
     },
     "execution_count": 8,
     "metadata": {},
     "output_type": "execute_result"
    }
   ],
   "source": [
    "# Convert the free text into tokens\n",
    "tokens = word_tokenize(text)\n",
    "type(tokens)"
   ]
  },
  {
   "cell_type": "code",
   "execution_count": 9,
   "metadata": {
    "colab": {
     "base_uri": "https://localhost:8080/"
    },
    "id": "rUBhEjbJlyjG",
    "outputId": "7a35aceb-f1a7-4e99-d73d-a6a0ecdad316"
   },
   "outputs": [
    {
     "name": "stdout",
     "output_type": "stream",
     "text": [
      "1855\n"
     ]
    },
    {
     "data": {
      "text/plain": [
       "['Gluten',\n",
       " ',',\n",
       " 'it',\n",
       " 'turns',\n",
       " 'out',\n",
       " ',',\n",
       " 'is',\n",
       " 'not',\n",
       " 'an',\n",
       " 'actual',\n",
       " 'grain',\n",
       " 'or',\n",
       " 'visible',\n",
       " 'ingredient',\n",
       " 'but',\n",
       " 'the',\n",
       " 'substance',\n",
       " ',',\n",
       " 'made',\n",
       " 'of',\n",
       " 'two',\n",
       " 'proteins',\n",
       " ',',\n",
       " 'that',\n",
       " 'gives',\n",
       " 'dough',\n",
       " 'its',\n",
       " 'elasticity',\n",
       " '.',\n",
       " 'Celiac']"
      ]
     },
     "execution_count": 9,
     "metadata": {},
     "output_type": "execute_result"
    }
   ],
   "source": [
    "# A little exploration: How many tokens are there in this article? \n",
    "print(len(tokens))\n",
    "tokens[:30]"
   ]
  },
  {
   "cell_type": "code",
   "execution_count": 10,
   "metadata": {
    "colab": {
     "base_uri": "https://localhost:8080/"
    },
    "id": "hwl5s8D6lyjH",
    "outputId": "69b43145-c684-449e-cc8d-b6da6dbefe2e"
   },
   "outputs": [
    {
     "name": "stdout",
     "output_type": "stream",
     "text": [
      "No. of unique tokens:  815\n",
      "Average frequency of tokens:  2.276073619631902\n"
     ]
    },
    {
     "data": {
      "text/plain": [
       "['(',\n",
       " ')',\n",
       " ',',\n",
       " '.',\n",
       " '/',\n",
       " '100',\n",
       " '140',\n",
       " '1995',\n",
       " '2',\n",
       " '2012',\n",
       " '2013',\n",
       " '2014',\n",
       " '2019',\n",
       " '59',\n",
       " '60',\n",
       " '70s',\n",
       " '9',\n",
       " '9-year-old',\n",
       " '9-year-olds',\n",
       " ':',\n",
       " ';',\n",
       " '?',\n",
       " 'A',\n",
       " 'After',\n",
       " 'All',\n",
       " 'Along',\n",
       " 'Also',\n",
       " 'America',\n",
       " 'American',\n",
       " 'And']"
      ]
     },
     "execution_count": 10,
     "metadata": {},
     "output_type": "execute_result"
    }
   ],
   "source": [
    "#How many unique words?\n",
    "unique = set(tokens)\n",
    "print(\"No. of unique tokens: \", len(unique))\n",
    "print(\"Average frequency of tokens: \", len(tokens)/len(unique))\n",
    "sorted(unique)[:30]"
   ]
  },
  {
   "cell_type": "code",
   "execution_count": 11,
   "metadata": {
    "colab": {
     "base_uri": "https://localhost:8080/"
    },
    "id": "io6u6J0OlyjI",
    "outputId": "cdd2432c-2f42-4274-dfcd-be0051a58465"
   },
   "outputs": [
    {
     "name": "stdout",
     "output_type": "stream",
     "text": [
      "No. of single character tokens:  20\n"
     ]
    },
    {
     "data": {
      "text/plain": [
       "['9',\n",
       " 'd',\n",
       " '?',\n",
       " 'm',\n",
       " '”',\n",
       " 't',\n",
       " ')',\n",
       " '“',\n",
       " 'a',\n",
       " ':',\n",
       " '.',\n",
       " '/',\n",
       " ';',\n",
       " '2',\n",
       " 's',\n",
       " ',',\n",
       " '(',\n",
       " 'A',\n",
       " 'I',\n",
       " '’']"
      ]
     },
     "execution_count": 11,
     "metadata": {},
     "output_type": "execute_result"
    }
   ],
   "source": [
    "# Any single character words?\n",
    "single=[w for w in unique if len(w) == 1 ]\n",
    "print(\"No. of single character tokens: \", len(single))\n",
    "single"
   ]
  },
  {
   "cell_type": "code",
   "execution_count": 12,
   "metadata": {
    "colab": {
     "base_uri": "https://localhost:8080/"
    },
    "id": "3KajrR5LlyjI",
    "outputId": "f2b49d01-f16a-4dab-90cf-fc1087481e9f"
   },
   "outputs": [
    {
     "data": {
      "text/plain": [
       "5"
      ]
     },
     "execution_count": 12,
     "metadata": {},
     "output_type": "execute_result"
    }
   ],
   "source": [
    "# the frequency of a single token\n",
    "tokens.count('Gluten')"
   ]
  },
  {
   "cell_type": "code",
   "execution_count": 13,
   "metadata": {
    "colab": {
     "base_uri": "https://localhost:8080/",
     "height": 362
    },
    "id": "zFHIQvtslyjJ",
    "outputId": "c244997e-7b4f-4a8b-9be3-49b05815ba6b"
   },
   "outputs": [
    {
     "name": "stdout",
     "output_type": "stream",
     "text": [
      "[('.', 76), (',', 75), ('the', 65), ('a', 58), ('of', 47), ('to', 39), ('I', 37), ('in', 29), ('and', 28), ('my', 25), ('’', 23), ('“', 23), ('”', 23), ('gluten', 18), ('was', 18), ('that', 17), ('it', 16), ('with', 13), ('you', 13), ('from', 10), ('me', 10), ('like', 10), ('as', 10), ('had', 10), ('your', 10), ('when', 9), ('s', 9), ('at', 9), ('food', 8), ('?', 8), ('by', 8), ('is', 7), ('an', 7), ('for', 7), ('or', 6), ('on', 6), ('gluten-free', 6), ('this', 6), ('into', 6), ('t', 6), ('Gluten', 5), (':', 5), ('would', 5), ('The', 5), ('one', 5), ('more', 5), ('percent', 5), ('A', 5), ('so', 5), ('they', 5)]\n"
     ]
    },
    {
     "name": "stderr",
     "output_type": "stream",
     "text": [
      "\n",
      "Bad key \"text.kerning_factor\" on line 4 in\n",
      "C:\\anaconda\\envs\\anirban\\lib\\site-packages\\matplotlib\\mpl-data\\stylelib\\_classic_test_patch.mplstyle.\n",
      "You probably need to get an updated matplotlibrc file from\n",
      "http://github.com/matplotlib/matplotlib/blob/master/matplotlibrc.template\n",
      "or from the matplotlib source distribution\n"
     ]
    },
    {
     "data": {
      "text/plain": [
       "<Figure size 640x480 with 1 Axes>"
      ]
     },
     "metadata": {},
     "output_type": "display_data"
    },
    {
     "data": {
      "text/plain": [
       "<matplotlib.axes._subplots.AxesSubplot at 0x19a30e68388>"
      ]
     },
     "execution_count": 13,
     "metadata": {},
     "output_type": "execute_result"
    }
   ],
   "source": [
    "# Frequency distribution of the tokens\n",
    "\n",
    "fd = nltk.FreqDist(tokens)\n",
    "print(fd.most_common(50))\n",
    "fd.plot(50)"
   ]
  },
  {
   "cell_type": "code",
   "execution_count": 14,
   "metadata": {
    "colab": {
     "base_uri": "https://localhost:8080/"
    },
    "id": "fv09UAMclyjJ",
    "outputId": "6ef9ddb3-cf80-4161-869e-e93abbbac45c"
   },
   "outputs": [
    {
     "data": {
      "text/plain": [
       "[(1, 20),\n",
       " (2, 38),\n",
       " (3, 79),\n",
       " (4, 133),\n",
       " (5, 120),\n",
       " (6, 110),\n",
       " (7, 98),\n",
       " (8, 69),\n",
       " (9, 49),\n",
       " (10, 37),\n",
       " (11, 28),\n",
       " (12, 12),\n",
       " (13, 12),\n",
       " (14, 6),\n",
       " (15, 1),\n",
       " (16, 1),\n",
       " (20, 1),\n",
       " (21, 1)]"
      ]
     },
     "execution_count": 14,
     "metadata": {},
     "output_type": "execute_result"
    }
   ],
   "source": [
    "# More explorations: how long are the words?\n",
    "fd_wlen = nltk.FreqDist([len(w) for w in unique])\n",
    "sorted(fd_wlen.items())"
   ]
  },
  {
   "cell_type": "code",
   "execution_count": 15,
   "metadata": {
    "colab": {
     "base_uri": "https://localhost:8080/"
    },
    "id": "R8QFvBHslyjK",
    "outputId": "8aa6dc7d-4063-4024-d2d0-14905a7934b8"
   },
   "outputs": [
    {
     "data": {
      "text/plain": [
       "['Gluten', ',', 'it', 'turns', 'out', ',', 'is', 'not', 'an', 'actual']"
      ]
     },
     "execution_count": 15,
     "metadata": {},
     "output_type": "execute_result"
    }
   ],
   "source": [
    "# What about bigrams and trigrams?\n",
    "bigr = nltk.bigrams(tokens[:10])\n",
    "trigr = nltk.trigrams(tokens[:10])\n",
    "tokens[:10]"
   ]
  },
  {
   "cell_type": "code",
   "execution_count": 16,
   "metadata": {
    "colab": {
     "base_uri": "https://localhost:8080/"
    },
    "id": "x1cSibDVlyjK",
    "outputId": "4356f351-a6e5-48cb-b68a-ef210e89391d"
   },
   "outputs": [
    {
     "data": {
      "text/plain": [
       "[('Gluten', ','),\n",
       " (',', 'it'),\n",
       " ('it', 'turns'),\n",
       " ('turns', 'out'),\n",
       " ('out', ','),\n",
       " (',', 'is'),\n",
       " ('is', 'not'),\n",
       " ('not', 'an'),\n",
       " ('an', 'actual')]"
      ]
     },
     "execution_count": 16,
     "metadata": {},
     "output_type": "execute_result"
    }
   ],
   "source": [
    "list(bigr)"
   ]
  },
  {
   "cell_type": "code",
   "execution_count": 17,
   "metadata": {
    "colab": {
     "base_uri": "https://localhost:8080/"
    },
    "id": "Fay62qpdlyjL",
    "outputId": "8cd7c878-08e1-4bb2-f11c-d8fbe9d0e579"
   },
   "outputs": [
    {
     "data": {
      "text/plain": [
       "[('Gluten', ',', 'it'),\n",
       " (',', 'it', 'turns'),\n",
       " ('it', 'turns', 'out'),\n",
       " ('turns', 'out', ','),\n",
       " ('out', ',', 'is'),\n",
       " (',', 'is', 'not'),\n",
       " ('is', 'not', 'an'),\n",
       " ('not', 'an', 'actual')]"
      ]
     },
     "execution_count": 17,
     "metadata": {},
     "output_type": "execute_result"
    }
   ],
   "source": [
    "list(trigr)"
   ]
  },
  {
   "cell_type": "code",
   "execution_count": 18,
   "metadata": {
    "colab": {
     "base_uri": "https://localhost:8080/"
    },
    "id": "R7u7gMJDlyjL",
    "outputId": "b8b267fe-17e4-47d1-c48d-c93dede4bcc5"
   },
   "outputs": [
    {
     "name": "stdout",
     "output_type": "stream",
     "text": [
      "Before punctuation removal:  ['Gluten', ',', 'it', 'turns', 'out', ',', 'is', 'not', 'an', 'actual', 'grain', 'or', 'visible', 'ingredient', 'but', 'the', 'substance', ',', 'made', 'of', 'two', 'proteins', ',', 'that', 'gives', 'dough', 'its', 'elasticity', '.', 'Celiac', 'is', 'an', 'autoimmune', 'disorder', 'in', 'which', 'gluten', 'wreaks', 'havoc', 'on', 'the', 'small', 'intestine', ',', 'blocking', 'other', 'nutrients', 'from', 'being', 'absorbed']\n",
      "After punctuation removal:  ['Gluten', 'it', 'turns', 'out', 'is', 'not', 'an', 'actual', 'grain', 'or', 'visible', 'ingredient', 'but', 'the', 'substance', 'made', 'of', 'two', 'proteins', 'that', 'gives', 'dough', 'its', 'elasticity', 'Celiac', 'is', 'an', 'autoimmune', 'disorder', 'in', 'which', 'gluten', 'wreaks', 'havoc', 'on', 'the', 'small', 'intestine', 'blocking', 'other', 'nutrients', 'from', 'being', 'absorbed', 'When', 'I', 'was', 'diagnosed', 'with', 'celiac']\n",
      "No. of tokens (before punc removal):  1855\n",
      "No. of tokens (after punc removal):  1681\n",
      "No. of unique tokens after punc removal:  807\n"
     ]
    }
   ],
   "source": [
    "# Now let's perform text preprocessing: \n",
    "# remove punctuations\n",
    "tokens_nop = [ t for t in tokens if t not in string.punctuation ]\n",
    "print(\"Before punctuation removal: \", tokens[:50])\n",
    "print(\"After punctuation removal: \", tokens_nop[:50])\n",
    "print(\"No. of tokens (before punc removal): \", len(tokens))\n",
    "print(\"No. of tokens (after punc removal): \", len(tokens_nop))\n",
    "print(\"No. of unique tokens after punc removal: \", len(set(tokens_nop)))"
   ]
  },
  {
   "cell_type": "code",
   "execution_count": 19,
   "metadata": {
    "colab": {
     "base_uri": "https://localhost:8080/"
    },
    "id": "uF5_INYOlyjM",
    "outputId": "7cf66e0a-bd85-47d5-bd11-e438698f2424"
   },
   "outputs": [
    {
     "name": "stdout",
     "output_type": "stream",
     "text": [
      "['gluten', 'it', 'turns', 'out', 'is', 'not', 'an', 'actual', 'grain', 'or', 'visible', 'ingredient', 'but', 'the', 'substance', 'made', 'of', 'two', 'proteins', 'that', 'gives', 'dough', 'its', 'elasticity', 'celiac', 'is', 'an', 'autoimmune', 'disorder', 'in', 'which', 'gluten', 'wreaks', 'havoc', 'on', 'the', 'small', 'intestine', 'blocking', 'other', 'nutrients', 'from', 'being', 'absorbed', 'when', 'i', 'was', 'diagnosed', 'with', 'celiac']\n"
     ]
    },
    {
     "data": {
      "text/plain": [
       "770"
      ]
     },
     "execution_count": 19,
     "metadata": {},
     "output_type": "execute_result"
    }
   ],
   "source": [
    "# Convert all characters to lower case\n",
    "tokens_lower=[ t.lower() for t in tokens_nop ]\n",
    "print(tokens_lower[:50])\n",
    "len(set(tokens_lower))"
   ]
  },
  {
   "cell_type": "code",
   "execution_count": 20,
   "metadata": {
    "colab": {
     "base_uri": "https://localhost:8080/"
    },
    "id": "_doESKROlyjM",
    "outputId": "89cbd22a-ec1d-4842-b07d-2f75a546589a"
   },
   "outputs": [
    {
     "name": "stdout",
     "output_type": "stream",
     "text": [
      "['i', 'me', 'my', 'myself', 'we', 'our', 'ours', 'ourselves', 'you', \"you're\", \"you've\", \"you'll\", \"you'd\", 'your', 'yours', 'yourself', 'yourselves', 'he', 'him', 'his', 'himself', 'she', \"she's\", 'her', 'hers', 'herself', 'it', \"it's\", 'its', 'itself', 'they', 'them', 'their', 'theirs', 'themselves', 'what', 'which', 'who', 'whom', 'this', 'that', \"that'll\", 'these', 'those', 'am', 'is', 'are', 'was', 'were', 'be', 'been', 'being', 'have', 'has', 'had', 'having', 'do', 'does', 'did', 'doing', 'a', 'an', 'the', 'and', 'but', 'if', 'or', 'because', 'as', 'until', 'while', 'of', 'at', 'by', 'for', 'with', 'about', 'against', 'between', 'into', 'through', 'during', 'before', 'after', 'above', 'below', 'to', 'from', 'up', 'down', 'in', 'out', 'on', 'off', 'over', 'under', 'again', 'further', 'then', 'once', 'here', 'there', 'when', 'where', 'why', 'how', 'all', 'any', 'both', 'each', 'few', 'more', 'most', 'other', 'some', 'such', 'no', 'nor', 'not', 'only', 'own', 'same', 'so', 'than', 'too', 'very', 's', 't', 'can', 'will', 'just', 'don', \"don't\", 'should', \"should've\", 'now', 'd', 'll', 'm', 'o', 're', 've', 'y', 'ain', 'aren', \"aren't\", 'couldn', \"couldn't\", 'didn', \"didn't\", 'doesn', \"doesn't\", 'hadn', \"hadn't\", 'hasn', \"hasn't\", 'haven', \"haven't\", 'isn', \"isn't\", 'ma', 'mightn', \"mightn't\", 'mustn', \"mustn't\", 'needn', \"needn't\", 'shan', \"shan't\", 'shouldn', \"shouldn't\", 'wasn', \"wasn't\", 'weren', \"weren't\", 'won', \"won't\", 'wouldn', \"wouldn't\"]\n"
     ]
    },
    {
     "data": {
      "text/plain": [
       "179"
      ]
     },
     "execution_count": 20,
     "metadata": {},
     "output_type": "execute_result"
    }
   ],
   "source": [
    "# Create a stopword list from the standard list of stopwords available in nltk\n",
    "stop = stopwords.words('english')\n",
    "print(stop)\n",
    "len(stop)"
   ]
  },
  {
   "cell_type": "code",
   "execution_count": 21,
   "metadata": {
    "colab": {
     "base_uri": "https://localhost:8080/"
    },
    "id": "OdazG458lyjN",
    "outputId": "ba53b1d2-04b4-4759-ffff-9ba220cb6355"
   },
   "outputs": [
    {
     "name": "stdout",
     "output_type": "stream",
     "text": [
      "['gluten', 'turns', 'actual', 'grain', 'visible', 'ingredient', 'substance', 'made', 'two', 'proteins', 'gives', 'dough', 'elasticity', 'celiac', 'autoimmune', 'disorder', 'gluten', 'wreaks', 'havoc', 'small', 'intestine', 'blocking', 'nutrients', 'absorbed', 'diagnosed', 'celiac', 'doctor', 'taught', 'pinpoint', 'wheaty', 'assassins', 'lurking', 'foods', '’', 'never', 'suspect', 'soy', 'sauce', 'gravy', 'candy', 'bars', 'back', 'crunchiest', 'health', 'food', 'store', 'hometown', 'place', 'could', 'find']\n",
      "No. of tokens(before stopword removal):  1681\n",
      "No. of tokens(after stopword removal):  926\n"
     ]
    }
   ],
   "source": [
    "# Remove all these stopwords from the text\n",
    "tokens_nostop=[ t for t in tokens_lower if t not in stop ]\n",
    "print(tokens_nostop[:50])\n",
    "print(\"No. of tokens(before stopword removal): \", len(tokens_lower))\n",
    "print(\"No. of tokens(after stopword removal): \", len(tokens_nostop))"
   ]
  },
  {
   "cell_type": "code",
   "execution_count": 22,
   "metadata": {
    "colab": {
     "base_uri": "https://localhost:8080/"
    },
    "id": "zXXnpPHPlyjN",
    "outputId": "21292fc0-d850-4351-f03d-e80fd49de813"
   },
   "outputs": [
    {
     "name": "stdout",
     "output_type": "stream",
     "text": [
      "No. of tokens(after number removal):  912\n"
     ]
    }
   ],
   "source": [
    "# And remove the numbers\n",
    "tokens_nonum = [ t for t in tokens_nostop if not t.isnumeric() ]\n",
    "print(\"No. of tokens(after number removal): \", len(tokens_nonum))"
   ]
  },
  {
   "cell_type": "code",
   "execution_count": 23,
   "metadata": {
    "colab": {
     "base_uri": "https://localhost:8080/"
    },
    "id": "mzfdQ5pzlyjO",
    "outputId": "8151c10c-bb03-451a-d53c-7ac4839b0b90"
   },
   "outputs": [
    {
     "data": {
      "text/plain": [
       "[('gluten', 23),\n",
       " ('’', 23),\n",
       " ('“', 23),\n",
       " ('”', 23),\n",
       " ('like', 10),\n",
       " ('food', 8),\n",
       " ('gluten-free', 7),\n",
       " ('celiac', 5),\n",
       " ('would', 5),\n",
       " ('one', 5),\n",
       " ('percent', 5),\n",
       " ('first', 5),\n",
       " ('eat', 4),\n",
       " ('heard', 4),\n",
       " ('word', 4),\n",
       " ('way', 4),\n",
       " ('asked', 4),\n",
       " ('maybe', 4),\n",
       " ('made', 3),\n",
       " ('small', 3),\n",
       " ('doctor', 3),\n",
       " ('never', 3),\n",
       " ('could', 3),\n",
       " ('mom', 3),\n",
       " ('tiny', 3),\n",
       " ('also', 3),\n",
       " ('wheat', 3),\n",
       " ('allergies', 3),\n",
       " ('years', 3),\n",
       " ('much', 3),\n",
       " ('waiters', 3),\n",
       " ('still', 3),\n",
       " ('something', 3),\n",
       " ('two', 2),\n",
       " ('gives', 2),\n",
       " ('diagnosed', 2),\n",
       " ('sauce', 2),\n",
       " ('back', 2),\n",
       " ('health', 2),\n",
       " ('store', 2),\n",
       " ('find', 2),\n",
       " ('products', 2),\n",
       " ('kitchen', 2),\n",
       " ('found', 2),\n",
       " ('went', 2),\n",
       " ('feeling', 2),\n",
       " ('saying', 2),\n",
       " ('comes', 2),\n",
       " ('shoppers', 2),\n",
       " ('buy', 2)]"
      ]
     },
     "execution_count": 23,
     "metadata": {},
     "output_type": "execute_result"
    }
   ],
   "source": [
    "#now let's check the most common words again\n",
    "FreqDist(tokens_nonum).most_common(50)\n",
    "#What do you observe from the result? what would you do? Hint:\"’“”\""
   ]
  },
  {
   "cell_type": "code",
   "execution_count": 24,
   "metadata": {
    "colab": {
     "base_uri": "https://localhost:8080/"
    },
    "id": "hQrgMghzlyjO",
    "outputId": "bcbd369f-b0fa-4bf2-ec0c-e3665986aa90"
   },
   "outputs": [
    {
     "data": {
      "text/plain": [
       "[('gluten', 23),\n",
       " ('like', 10),\n",
       " ('food', 8),\n",
       " ('gluten-free', 7),\n",
       " ('celiac', 5),\n",
       " ('one', 5),\n",
       " ('percent', 5),\n",
       " ('first', 5),\n",
       " ('eat', 4),\n",
       " ('heard', 4),\n",
       " ('word', 4),\n",
       " ('way', 4),\n",
       " ('asked', 4),\n",
       " ('maybe', 4),\n",
       " ('made', 3),\n",
       " ('small', 3),\n",
       " ('doctor', 3),\n",
       " ('never', 3),\n",
       " ('mom', 3),\n",
       " ('tiny', 3),\n",
       " ('also', 3),\n",
       " ('wheat', 3),\n",
       " ('allergies', 3),\n",
       " ('years', 3),\n",
       " ('much', 3),\n",
       " ('waiters', 3),\n",
       " ('still', 3),\n",
       " ('something', 3),\n",
       " ('two', 2),\n",
       " ('gives', 2),\n",
       " ('diagnosed', 2),\n",
       " ('sauce', 2),\n",
       " ('back', 2),\n",
       " ('health', 2),\n",
       " ('store', 2),\n",
       " ('find', 2),\n",
       " ('products', 2),\n",
       " ('kitchen', 2),\n",
       " ('found', 2),\n",
       " ('went', 2),\n",
       " ('feeling', 2),\n",
       " ('saying', 2),\n",
       " ('comes', 2),\n",
       " ('shoppers', 2),\n",
       " ('buy', 2),\n",
       " ('disease', 2),\n",
       " ('decades', 2),\n",
       " ('become', 2),\n",
       " ('started', 2),\n",
       " ('whether', 2)]"
      ]
     },
     "execution_count": 24,
     "metadata": {},
     "output_type": "execute_result"
    }
   ],
   "source": [
    "# you can add these tokens to the punctuation list and stopword list above\n",
    "# e.g. \n",
    "# tokens_nop = [ t for t in tokens if t not in string.punctuation+\"’“”\" ]\n",
    "# stop = stopwords.words('english')+[\"would\", \"could\"]\n",
    "# Or do a cleanup here\n",
    "filter_list = [ \"’\", \"“\", \"”\",\"would\", \"could\", ]\n",
    "tokens_clean = [ t for t in tokens_nonum if t not in filter_list ]\n",
    "FreqDist(tokens_clean).most_common(50)"
   ]
  },
  {
   "cell_type": "code",
   "execution_count": 25,
   "metadata": {
    "colab": {
     "base_uri": "https://localhost:8080/"
    },
    "id": "OYPOTdHllyjP",
    "outputId": "3655e66c-71f1-4364-ef7f-461f605a0c49"
   },
   "outputs": [
    {
     "name": "stdout",
     "output_type": "stream",
     "text": [
      "gluten         gluten         \n",
      "turns          turn           \n",
      "actual         actual         \n",
      "grain          grain          \n",
      "visible        visibl         \n",
      "ingredient     ingredi        \n",
      "substance      substanc       \n",
      "made           made           \n",
      "two            two            \n",
      "proteins       protein        \n",
      "gives          give           \n",
      "dough          dough          \n",
      "elasticity     elast          \n",
      "celiac         celiac         \n",
      "autoimmune     autoimmun      \n",
      "disorder       disord         \n",
      "gluten         gluten         \n",
      "wreaks         wreak          \n",
      "havoc          havoc          \n",
      "small          small          \n"
     ]
    }
   ],
   "source": [
    "# Now, let's do some Stemming!\n",
    "# There are different stemmers available in Python. Let's take a look at a few\n",
    "\n",
    "# The most popular stemmer\n",
    "porter = nltk.PorterStemmer()\n",
    "tokens_porter=[ porter.stem(t) for t in tokens_clean ] \n",
    "#print(\"Before stemming: \", tokens_clean[:30])\n",
    "#print(\"After stemming(Porter): \", tokens_porter[:30])\n",
    "for t0, t1 in zip(tokens_clean[:20], tokens_porter[:20]):\n",
    "    print(\"{:15s}{:15s}\".format(t0, t1))"
   ]
  },
  {
   "cell_type": "code",
   "execution_count": 26,
   "metadata": {
    "colab": {
     "base_uri": "https://localhost:8080/"
    },
    "id": "4TyMkJIGlyjP",
    "outputId": "594be25a-e76d-42c2-b831-0a4e120ea6c0"
   },
   "outputs": [
    {
     "name": "stdout",
     "output_type": "stream",
     "text": [
      "gluten         glut           \n",
      "turns          turn           \n",
      "actual         act            \n",
      "grain          grain          \n",
      "visible        vis            \n",
      "ingredient     ingredy        \n",
      "substance      subst          \n",
      "made           mad            \n",
      "two            two            \n",
      "proteins       protein        \n",
      "gives          giv            \n",
      "dough          dough          \n",
      "elasticity     elast          \n",
      "celiac         celiac         \n",
      "autoimmune     autoimmun      \n",
      "disorder       disord         \n",
      "gluten         glut           \n",
      "wreaks         wreak          \n",
      "havoc          havoc          \n",
      "small          smal           \n"
     ]
    }
   ],
   "source": [
    "# The Lancaster Stemmer - developed at Lancaster University\n",
    "# What do you think about the results?\n",
    "lancaster = nltk.LancasterStemmer()\n",
    "tokens_lanc = [ lancaster.stem(t) for t in tokens_clean ] \n",
    "for t0, t1 in zip(tokens_clean[:20], tokens_lanc[:20]):\n",
    "    print(\"{:15s}{:15s}\".format(t0, t1))"
   ]
  },
  {
   "cell_type": "code",
   "execution_count": 27,
   "metadata": {
    "colab": {
     "base_uri": "https://localhost:8080/"
    },
    "id": "Rvt1pF7ulyjQ",
    "outputId": "95436271-7f94-4a91-8540-71d3e1cd1167"
   },
   "outputs": [
    {
     "name": "stdout",
     "output_type": "stream",
     "text": [
      "gluten         gluten         \n",
      "turns          turn           \n",
      "actual         actual         \n",
      "grain          grain          \n",
      "visible        visibl         \n",
      "ingredient     ingredi        \n",
      "substance      substanc       \n",
      "made           made           \n",
      "two            two            \n",
      "proteins       protein        \n",
      "gives          give           \n",
      "dough          dough          \n",
      "elasticity     elast          \n",
      "celiac         celiac         \n",
      "autoimmune     autoimmun      \n",
      "disorder       disord         \n",
      "gluten         gluten         \n",
      "wreaks         wreak          \n",
      "havoc          havoc          \n",
      "small          small          \n"
     ]
    }
   ],
   "source": [
    "# The snowball stemmer -  which supports 13 non-English languages as well!\n",
    "\n",
    "snowball = nltk.SnowballStemmer('english')\n",
    "tokens_snow = [ snowball.stem(t) for t in tokens_clean ]\n",
    "for t0, t1 in zip(tokens_clean[:20], tokens_snow[:20]):\n",
    "    print(\"{:15s}{:15s}\".format(t0, t1))\n"
   ]
  },
  {
   "cell_type": "code",
   "execution_count": 28,
   "metadata": {
    "colab": {
     "base_uri": "https://localhost:8080/"
    },
    "id": "Z6ZHtns1lyjQ",
    "outputId": "b2d4e72f-a4a4-4ffd-8ada-e112454480f7",
    "scrolled": true
   },
   "outputs": [
    {
     "data": {
      "text/plain": [
       "611"
      ]
     },
     "execution_count": 28,
     "metadata": {},
     "output_type": "execute_result"
    }
   ],
   "source": [
    "len(set(tokens_snow))"
   ]
  },
  {
   "cell_type": "code",
   "execution_count": 29,
   "metadata": {
    "colab": {
     "base_uri": "https://localhost:8080/"
    },
    "id": "cSCIeIvelyjR",
    "outputId": "74f6377f-aac1-4762-f837-199f4771b2dc"
   },
   "outputs": [
    {
     "name": "stdout",
     "output_type": "stream",
     "text": [
      "gluten         gluten         \n",
      "turns          turn           \n",
      "actual         actual         \n",
      "grain          grain          \n",
      "visible        visible        \n",
      "ingredient     ingredient     \n",
      "substance      substance      \n",
      "made           made           \n",
      "two            two            \n",
      "proteins       protein        \n",
      "gives          give           \n",
      "dough          dough          \n",
      "elasticity     elasticity     \n",
      "celiac         celiac         \n",
      "autoimmune     autoimmune     \n",
      "disorder       disorder       \n",
      "gluten         gluten         \n",
      "wreaks         wreaks         \n",
      "havoc          havoc          \n",
      "small          small          \n"
     ]
    }
   ],
   "source": [
    "# Now, for Lemmatization, which converts each word to it's corresponding lemma, use the Lemmatizer provided by nltk\n",
    "wnl = nltk.WordNetLemmatizer()\n",
    "tokens_lem = [ wnl.lemmatize(t) for t in tokens_clean ]\n",
    "for t0, t1 in zip(tokens_clean[:20], tokens_lem[:20]):\n",
    "    print(\"{:15s}{:15s}\".format(t0, t1))"
   ]
  },
  {
   "cell_type": "code",
   "execution_count": 30,
   "metadata": {
    "colab": {
     "base_uri": "https://localhost:8080/"
    },
    "id": "DLVFUNvQlyjR",
    "outputId": "d0eecf35-62a4-45b3-f7ad-790fa8ee8891"
   },
   "outputs": [
    {
     "name": "stdout",
     "output_type": "stream",
     "text": [
      "absorb\n",
      "good\n"
     ]
    }
   ],
   "source": [
    "# Check the lemmatization results. Why are some words not lemmatized?\n",
    "# The reason is it needs to know the POS of the words. The default is 'n'.\n",
    "# We'll learn how to do POS tagging later.\n",
    "print(wnl.lemmatize('absorbed', pos = 'v'))\n",
    "print(wnl.lemmatize('better', pos = 'a'))"
   ]
  },
  {
   "cell_type": "code",
   "execution_count": 31,
   "metadata": {
    "colab": {
     "base_uri": "https://localhost:8080/"
    },
    "id": "cXjWfFKrlyjR",
    "outputId": "fae8f359-8053-4dc7-9261-638bad6a1fe5"
   },
   "outputs": [
    {
     "data": {
      "text/plain": [
       "[('gluten', 23),\n",
       " ('like', 10),\n",
       " ('food', 9),\n",
       " ('gluten-fre', 7),\n",
       " ('ask', 6),\n",
       " ('celiac', 5),\n",
       " ('one', 5),\n",
       " ('percent', 5),\n",
       " ('first', 5),\n",
       " ('way', 5),\n",
       " ('allergi', 5),\n",
       " ('waiter', 5),\n",
       " ('eat', 4),\n",
       " ('heard', 4),\n",
       " ('word', 4),\n",
       " ('year', 4),\n",
       " ('mayb', 4),\n",
       " ('turn', 3),\n",
       " ('ingredi', 3),\n",
       " ('made', 3)]"
      ]
     },
     "execution_count": 31,
     "metadata": {},
     "output_type": "execute_result"
    }
   ],
   "source": [
    "# Let's use Snowball Stemmer's result for now.\n",
    "fd_snow = nltk.FreqDist(tokens_snow)\n",
    "fd_snow.most_common(20)"
   ]
  },
  {
   "cell_type": "code",
   "execution_count": 32,
   "metadata": {
    "colab": {
     "base_uri": "https://localhost:8080/"
    },
    "id": "0Tsl0KvYlyjS",
    "outputId": "128acab2-b160-4f00-ce5f-71abf1b6d155"
   },
   "outputs": [],
   "source": [
    "# Colab environment already has wordcloud package\n",
    "#!pip install wordcloud"
   ]
  },
  {
   "cell_type": "code",
   "execution_count": 33,
   "metadata": {
    "id": "4vdmk03WlyjT"
   },
   "outputs": [],
   "source": [
    "#if you have not installed matplotlib, pandas, please also install them\n",
    "import wordcloud\n",
    "from wordcloud import WordCloud, ImageColorGenerator\n",
    "import matplotlib.pyplot as plt\n",
    "import numpy as np\n",
    "from PIL import Image"
   ]
  },
  {
   "cell_type": "code",
   "execution_count": 34,
   "metadata": {
    "colab": {
     "base_uri": "https://localhost:8080/",
     "height": 198
    },
    "id": "xKpzq3F2lyjU",
    "outputId": "ee059dfe-bb39-4473-d0f4-64fdf3f4a38c"
   },
   "outputs": [
    {
     "data": {
      "image/png": "[encoded data removed]",
      "text/plain": [
       "<Figure size 432x288 with 1 Axes>"
      ]
     },
     "metadata": {
      "needs_background": "light"
     },
     "output_type": "display_data"
    }
   ],
   "source": [
    "# 1. Generate word cloud from the frequency information\n",
    "wc_fd = WordCloud(background_color=\"white\")\n",
    "wc_fd.generate_from_frequencies(fd_snow)\n",
    "plt.imshow(wc_fd, interpolation='bilinear')\n",
    "plt.axis(\"off\")\n",
    "plt.show()"
   ]
  },
  {
   "cell_type": "code",
   "execution_count": 36,
   "metadata": {
    "colab": {
     "base_uri": "https://localhost:8080/",
     "height": 198
    },
    "id": "b-NGA06JlyjU",
    "outputId": "e8daf15b-eb8f-401f-fb51-c9f5fe76bb21"
   },
   "outputs": [
    {
     "data": {
      "image/png": "[encoded data removed]",
      "text/plain": [
       "<Figure size 432x288 with 1 Axes>"
      ]
     },
     "metadata": {
      "needs_background": "light"
     },
     "output_type": "display_data"
    }
   ],
   "source": [
    "# 2. Generate word cloud from text string, using WordCloud's default processing \n",
    "\n",
    "wc_original = WordCloud(background_color=\"white\").generate(text)\n",
    "\n",
    "plt.imshow(wc_original, interpolation='bilinear')\n",
    "plt.axis(\"off\")\n",
    "plt.show()"
   ]
  },
  {
   "cell_type": "code",
   "execution_count": null,
   "metadata": {},
   "outputs": [],
   "source": []
  }
 ],
 "metadata": {
  "colab": {
   "collapsed_sections": [],
   "name": "1.1-StepByStep_v2.0.ipynb",
   "provenance": []
  },
  "kernelspec": {
   "display_name": "Python 3",
   "language": "python",
   "name": "python3"
  },
  "language_info": {
   "codemirror_mode": {
    "name": "ipython",
    "version": 3
   },
   "file_extension": ".py",
   "mimetype": "text/x-python",
   "name": "python",
   "nbconvert_exporter": "python",
   "pygments_lexer": "ipython3",
   "version": "3.7.10"
  }
 },
 "nbformat": 4,
 "nbformat_minor": 1
}
