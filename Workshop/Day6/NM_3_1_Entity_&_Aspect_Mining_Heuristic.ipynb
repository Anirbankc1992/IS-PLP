{
 "cells": [
  {
   "cell_type": "markdown",
   "metadata": {
    "id": "mHMK9S-5Xx5E"
   },
   "source": [
    "### Entities & Aspect Mining : An example of heuristic approach\n",
    "\n",
    "This workshop illustrates two tasks. \n",
    "1. To illustrate the extraction of dependencies and triples. It is very useful for extracting granular information from a document. \n",
    "2. To extract 'sentiment-related' words on the aspects to generate their aspects scores. \n"
   ]
  },
  {
   "cell_type": "code",
   "execution_count": 2,
   "metadata": {
    "colab": {
     "base_uri": "https://localhost:8080/"
    },
    "id": "XN_8j-nEXx5O",
    "outputId": "4b96879a-0527-4714-c91c-82d6f9e9289e"
   },
   "outputs": [
    {
     "name": "stdout",
     "output_type": "stream",
     "text": [
      "Collecting vaderSentiment\n",
      "  Downloading vaderSentiment-3.3.2-py2.py3-none-any.whl (125 kB)\n",
      "\u001b[?25l\r",
      "\u001b[K     |██▋                             | 10 kB 15.2 MB/s eta 0:00:01\r",
      "\u001b[K     |█████▏                          | 20 kB 18.5 MB/s eta 0:00:01\r",
      "\u001b[K     |███████▉                        | 30 kB 20.8 MB/s eta 0:00:01\r",
      "\u001b[K     |██████████▍                     | 40 kB 21.9 MB/s eta 0:00:01\r",
      "\u001b[K     |█████████████                   | 51 kB 23.5 MB/s eta 0:00:01\r",
      "\u001b[K     |███████████████▋                | 61 kB 24.6 MB/s eta 0:00:01\r",
      "\u001b[K     |██████████████████▏             | 71 kB 25.4 MB/s eta 0:00:01\r",
      "\u001b[K     |████████████████████▉           | 81 kB 26.7 MB/s eta 0:00:01\r",
      "\u001b[K     |███████████████████████▍        | 92 kB 28.2 MB/s eta 0:00:01\r",
      "\u001b[K     |██████████████████████████      | 102 kB 29.5 MB/s eta 0:00:01\r",
      "\u001b[K     |████████████████████████████▋   | 112 kB 29.5 MB/s eta 0:00:01\r",
      "\u001b[K     |███████████████████████████████▏| 122 kB 29.5 MB/s eta 0:00:01\r",
      "\u001b[K     |████████████████████████████████| 125 kB 29.5 MB/s \n",
      "\u001b[?25hRequirement already satisfied: requests in /usr/local/lib/python3.7/dist-packages (from vaderSentiment) (2.23.0)\n",
      "Requirement already satisfied: certifi>=2017.4.17 in /usr/local/lib/python3.7/dist-packages (from requests->vaderSentiment) (2021.5.30)\n",
      "Requirement already satisfied: idna<3,>=2.5 in /usr/local/lib/python3.7/dist-packages (from requests->vaderSentiment) (2.10)\n",
      "Requirement already satisfied: chardet<4,>=3.0.2 in /usr/local/lib/python3.7/dist-packages (from requests->vaderSentiment) (3.0.4)\n",
      "Requirement already satisfied: urllib3!=1.25.0,!=1.25.1,<1.26,>=1.21.1 in /usr/local/lib/python3.7/dist-packages (from requests->vaderSentiment) (1.24.3)\n",
      "Installing collected packages: vaderSentiment\n",
      "Successfully installed vaderSentiment-3.3.2\n"
     ]
    }
   ],
   "source": [
    "# Import packages\n",
    "import spacy\n",
    "import numpy as np\n",
    "from spacy import displacy\n",
    "import pickle as pk\n",
    "from os import getcwd\n",
    "import pandas as pd\n",
    "import json\n",
    "\n",
    "!pip install vaderSentiment\n",
    "from vaderSentiment.vaderSentiment import SentimentIntensityAnalyzer\n",
    "\n"
   ]
  },
  {
   "cell_type": "code",
   "execution_count": null,
   "metadata": {
    "colab": {
     "base_uri": "https://localhost:8080/"
    },
    "id": "BWVV0l0QacZo",
    "outputId": "7af68cd2-ce52-490e-e3fa-9ac9323e403f"
   },
   "outputs": [
    {
     "name": "stdout",
     "output_type": "stream",
     "text": [
      "Mounted at /content/drive\n"
     ]
    }
   ],
   "source": [
    "# You may mount your Google drive where the data files are held.\n",
    "#from google.colab import drive\n",
    "#drive.mount('/content/drive')\n",
    "\n",
    "#Alternatively, upload the data file to this Colab session temporarily."
   ]
  },
  {
   "cell_type": "markdown",
   "metadata": {
    "id": "KvUGK_5oXx5R"
   },
   "source": [
    "## First Task : extraction of triples (dependencies)\n",
    "\n",
    "These sample reviews were extracted from Yelp for a Chinese restaurant (only 21 of them for illustration)."
   ]
  },
  {
   "cell_type": "code",
   "execution_count": 3,
   "metadata": {
    "colab": {
     "base_uri": "https://localhost:8080/",
     "height": 701
    },
    "id": "QJZNvFjDXx5S",
    "outputId": "563c8aab-14e8-4cf7-b0e0-44ebc2cfaca6"
   },
   "outputs": [
    {
     "data": {
      "text/html": [
       "<div>\n",
       "<style scoped>\n",
       "    .dataframe tbody tr th:only-of-type {\n",
       "        vertical-align: middle;\n",
       "    }\n",
       "\n",
       "    .dataframe tbody tr th {\n",
       "        vertical-align: top;\n",
       "    }\n",
       "\n",
       "    .dataframe thead th {\n",
       "        text-align: right;\n",
       "    }\n",
       "</style>\n",
       "<table border=\"1\" class=\"dataframe\">\n",
       "  <thead>\n",
       "    <tr style=\"text-align: right;\">\n",
       "      <th></th>\n",
       "      <th>reviews</th>\n",
       "    </tr>\n",
       "  </thead>\n",
       "  <tbody>\n",
       "    <tr>\n",
       "      <th>0</th>\n",
       "      <td>I love this place. I visit this place (or one ...</td>\n",
       "    </tr>\n",
       "    <tr>\n",
       "      <th>1</th>\n",
       "      <td>Must try: xiao long bao, chili crab bun, fried...</td>\n",
       "    </tr>\n",
       "    <tr>\n",
       "      <th>2</th>\n",
       "      <td>Highly recommend trying the chili sauce also. ...</td>\n",
       "    </tr>\n",
       "    <tr>\n",
       "      <th>3</th>\n",
       "      <td>For those who are not familiar with asian food...</td>\n",
       "    </tr>\n",
       "    <tr>\n",
       "      <th>4</th>\n",
       "      <td>This Din Tai Fung is located on the 4th floor ...</td>\n",
       "    </tr>\n",
       "    <tr>\n",
       "      <th>5</th>\n",
       "      <td>The staff at the entrance gave me a number and...</td>\n",
       "    </tr>\n",
       "    <tr>\n",
       "      <th>6</th>\n",
       "      <td>Staffs were all friendly and attentive. I like...</td>\n",
       "    </tr>\n",
       "    <tr>\n",
       "      <th>7</th>\n",
       "      <td>FOOD 4/5 The legendary xiao long bao (steamed ...</td>\n",
       "    </tr>\n",
       "    <tr>\n",
       "      <th>8</th>\n",
       "      <td>AMBIENCE 3/5 It was noisy but I did not expect...</td>\n",
       "    </tr>\n",
       "    <tr>\n",
       "      <th>9</th>\n",
       "      <td>STAFFS 5/5 Staffs were attentive, helpful and ...</td>\n",
       "    </tr>\n",
       "    <tr>\n",
       "      <th>10</th>\n",
       "      <td>Andrew and I always wondered how Din Tai Fung ...</td>\n",
       "    </tr>\n",
       "    <tr>\n",
       "      <th>11</th>\n",
       "      <td>Two things that we always ordered in Din Tai F...</td>\n",
       "    </tr>\n",
       "    <tr>\n",
       "      <th>12</th>\n",
       "      <td>The shao mai was also always very delicious wi...</td>\n",
       "    </tr>\n",
       "    <tr>\n",
       "      <th>13</th>\n",
       "      <td>Delicious dumplings and vegetable dishes. Not ...</td>\n",
       "    </tr>\n",
       "    <tr>\n",
       "      <th>14</th>\n",
       "      <td>Love love love DTF. Go out of my way to visit ...</td>\n",
       "    </tr>\n",
       "    <tr>\n",
       "      <th>15</th>\n",
       "      <td>Very good food and efficient service. I came h...</td>\n",
       "    </tr>\n",
       "    <tr>\n",
       "      <th>16</th>\n",
       "      <td>Gah!  The taro buns from this place still haun...</td>\n",
       "    </tr>\n",
       "    <tr>\n",
       "      <th>17</th>\n",
       "      <td>Couldn't decide what to eat, and stumbled on D...</td>\n",
       "    </tr>\n",
       "    <tr>\n",
       "      <th>18</th>\n",
       "      <td>The dumplings are small and succulent.  The dr...</td>\n",
       "    </tr>\n",
       "    <tr>\n",
       "      <th>19</th>\n",
       "      <td>The food tastes really good, but the price is ...</td>\n",
       "    </tr>\n",
       "    <tr>\n",
       "      <th>20</th>\n",
       "      <td>Fantastic location and food. I heard you have ...</td>\n",
       "    </tr>\n",
       "  </tbody>\n",
       "</table>\n",
       "</div>"
      ],
      "text/plain": [
       "                                              reviews\n",
       "0   I love this place. I visit this place (or one ...\n",
       "1   Must try: xiao long bao, chili crab bun, fried...\n",
       "2   Highly recommend trying the chili sauce also. ...\n",
       "3   For those who are not familiar with asian food...\n",
       "4   This Din Tai Fung is located on the 4th floor ...\n",
       "5   The staff at the entrance gave me a number and...\n",
       "6   Staffs were all friendly and attentive. I like...\n",
       "7   FOOD 4/5 The legendary xiao long bao (steamed ...\n",
       "8   AMBIENCE 3/5 It was noisy but I did not expect...\n",
       "9   STAFFS 5/5 Staffs were attentive, helpful and ...\n",
       "10  Andrew and I always wondered how Din Tai Fung ...\n",
       "11  Two things that we always ordered in Din Tai F...\n",
       "12  The shao mai was also always very delicious wi...\n",
       "13  Delicious dumplings and vegetable dishes. Not ...\n",
       "14  Love love love DTF. Go out of my way to visit ...\n",
       "15  Very good food and efficient service. I came h...\n",
       "16  Gah!  The taro buns from this place still haun...\n",
       "17  Couldn't decide what to eat, and stumbled on D...\n",
       "18  The dumplings are small and succulent.  The dr...\n",
       "19  The food tastes really good, but the price is ...\n",
       "20  Fantastic location and food. I heard you have ..."
      ]
     },
     "execution_count": 3,
     "metadata": {
      "tags": []
     },
     "output_type": "execute_result"
    }
   ],
   "source": [
    "# replace the file path with one appropriate for your drive\n",
    "df_reviews = pd.read_csv('Reviews_DTF.txt', sep = '\\t', names=[\"reviews\"])\n",
    "df_reviews"
   ]
  },
  {
   "cell_type": "markdown",
   "metadata": {
    "id": "oOHObVRJXx5T"
   },
   "source": [
    "We'll use spacy to do the dependency parsing. In Colab, you don't need to download the spacy models."
   ]
  },
  {
   "cell_type": "code",
   "execution_count": 4,
   "metadata": {
    "id": "DKHxFsKXXx5U"
   },
   "outputs": [],
   "source": [
    "#!python -m spacy download en_core_web_sm\n",
    "nlp = spacy.load('en_core_web_sm')"
   ]
  },
  {
   "cell_type": "code",
   "execution_count": 5,
   "metadata": {
    "colab": {
     "base_uri": "https://localhost:8080/"
    },
    "id": "boKzWQotoEId",
    "outputId": "ee7f58b9-66ae-4d92-e889-9ebe8fa6bb6d"
   },
   "outputs": [
    {
     "name": "stdout",
     "output_type": "stream",
     "text": [
      "I love this place. I visit this place (or one of the other din tai fung outlets) at least once a month. \n",
      "Sentence 1: I love this place.\n",
      "Sentence 2: I visit this place (or one of the other din tai fung outlets) at least once a month.\n"
     ]
    }
   ],
   "source": [
    "#let's pick a review\n",
    "eg=0\n",
    "print(df_reviews[\"reviews\"][eg])\n",
    "#process it using spacy\n",
    "doc = nlp(df_reviews[\"reviews\"][eg])\n",
    "for idno, sentence in enumerate(doc.sents):\n",
    "    print ('Sentence {}:'.format(idno + 1), sentence)\n"
   ]
  },
  {
   "cell_type": "markdown",
   "metadata": {
    "id": "lAeJ1KLTpNum"
   },
   "source": [
    "A review has one or more sentences. It's often assumed that a sentence has one target and one sentiment, but it's not always like that.\n",
    "Let's take look at the dependency information sentence by sentence."
   ]
  },
  {
   "cell_type": "code",
   "execution_count": null,
   "metadata": {
    "colab": {
     "base_uri": "https://localhost:8080/"
    },
    "id": "Ls0OcEnGXx5U",
    "outputId": "764cc9e8-79d0-4042-bb66-671cae704b9b"
   },
   "outputs": [
    {
     "name": "stdout",
     "output_type": "stream",
     "text": [
      "------\n",
      "I nsubj love VERB []\n",
      "love ROOT love VERB [I, place, .]\n",
      "this det place NOUN []\n",
      "place dobj love VERB [this]\n",
      ". punct love VERB []\n",
      "------\n",
      "I nsubj visit VERB []\n",
      "visit ROOT visit VERB [I, place, once, .]\n",
      "this det place NOUN []\n",
      "place dobj visit VERB [this, (, or, one]\n",
      "( punct place NOUN []\n",
      "or cc place NOUN []\n",
      "one conj place NOUN [of, )]\n",
      "of prep one NUM [din]\n",
      "the det din NOUN []\n",
      "other amod din NOUN []\n",
      "din pobj of ADP [the, other, outlets]\n",
      "tai compound outlets NOUN []\n",
      "fung compound outlets NOUN []\n",
      "outlets appos din NOUN [tai, fung]\n",
      ") punct one NUM []\n",
      "at advmod least ADJ []\n",
      "least advmod once ADV [at]\n",
      "once advmod visit VERB [least, month]\n",
      "a det month NOUN []\n",
      "month npadvmod once ADV [a]\n",
      ". punct visit VERB []\n"
     ]
    }
   ],
   "source": [
    "for sent in doc.sents:\n",
    "    print (\"------\")\n",
    "    for token in sent:\n",
    "        print(token.text, token.dep_, token.head.text, token.head.pos_,\n",
    "              [child for child in token.children])\n"
   ]
  },
  {
   "cell_type": "code",
   "execution_count": null,
   "metadata": {
    "colab": {
     "base_uri": "https://localhost:8080/",
     "height": 558
    },
    "id": "7sHoteu6Xx5W",
    "outputId": "6b7a0bd4-8067-4c19-92cc-e7ba6fac4acb"
   },
   "outputs": [
    {
     "data": {
      "text/html": [
       "<span class=\"tex2jax_ignore\"><svg xmlns=\"http://www.w3.org/2000/svg\" xmlns:xlink=\"http://www.w3.org/1999/xlink\" xml:lang=\"en\" id=\"499cd97ac6044261acc4dc84460e29d3-0\" class=\"displacy\" width=\"370\" height=\"217.0\" direction=\"ltr\" style=\"max-width: none; height: 217.0px; color: #000000; background: #ffffff; font-family: Arial; direction: ltr\">\n",
       "<text class=\"displacy-token\" fill=\"currentColor\" text-anchor=\"middle\" y=\"127.0\">\n",
       "    <tspan class=\"displacy-word\" fill=\"currentColor\" x=\"50\">I</tspan>\n",
       "    <tspan class=\"displacy-tag\" dy=\"2em\" fill=\"currentColor\" x=\"50\">PRON</tspan>\n",
       "</text>\n",
       "\n",
       "<text class=\"displacy-token\" fill=\"currentColor\" text-anchor=\"middle\" y=\"127.0\">\n",
       "    <tspan class=\"displacy-word\" fill=\"currentColor\" x=\"130\">love</tspan>\n",
       "    <tspan class=\"displacy-tag\" dy=\"2em\" fill=\"currentColor\" x=\"130\">VERB</tspan>\n",
       "</text>\n",
       "\n",
       "<text class=\"displacy-token\" fill=\"currentColor\" text-anchor=\"middle\" y=\"127.0\">\n",
       "    <tspan class=\"displacy-word\" fill=\"currentColor\" x=\"210\">this</tspan>\n",
       "    <tspan class=\"displacy-tag\" dy=\"2em\" fill=\"currentColor\" x=\"210\">DET</tspan>\n",
       "</text>\n",
       "\n",
       "<text class=\"displacy-token\" fill=\"currentColor\" text-anchor=\"middle\" y=\"127.0\">\n",
       "    <tspan class=\"displacy-word\" fill=\"currentColor\" x=\"290\">place.</tspan>\n",
       "    <tspan class=\"displacy-tag\" dy=\"2em\" fill=\"currentColor\" x=\"290\">NOUN</tspan>\n",
       "</text>\n",
       "\n",
       "<g class=\"displacy-arrow\">\n",
       "    <path class=\"displacy-arc\" id=\"arrow-499cd97ac6044261acc4dc84460e29d3-0-0\" stroke-width=\"2px\" d=\"M70,82.0 C70,42.0 125.0,42.0 125.0,82.0\" fill=\"none\" stroke=\"currentColor\"/>\n",
       "    <text dy=\"1.25em\" style=\"font-size: 0.8em; letter-spacing: 1px\">\n",
       "        <textPath xlink:href=\"#arrow-499cd97ac6044261acc4dc84460e29d3-0-0\" class=\"displacy-label\" startOffset=\"50%\" side=\"left\" fill=\"currentColor\" text-anchor=\"middle\">nsubj</textPath>\n",
       "    </text>\n",
       "    <path class=\"displacy-arrowhead\" d=\"M70,84.0 L62,72.0 78,72.0\" fill=\"currentColor\"/>\n",
       "</g>\n",
       "\n",
       "<g class=\"displacy-arrow\">\n",
       "    <path class=\"displacy-arc\" id=\"arrow-499cd97ac6044261acc4dc84460e29d3-0-1\" stroke-width=\"2px\" d=\"M230,82.0 C230,42.0 285.0,42.0 285.0,82.0\" fill=\"none\" stroke=\"currentColor\"/>\n",
       "    <text dy=\"1.25em\" style=\"font-size: 0.8em; letter-spacing: 1px\">\n",
       "        <textPath xlink:href=\"#arrow-499cd97ac6044261acc4dc84460e29d3-0-1\" class=\"displacy-label\" startOffset=\"50%\" side=\"left\" fill=\"currentColor\" text-anchor=\"middle\">det</textPath>\n",
       "    </text>\n",
       "    <path class=\"displacy-arrowhead\" d=\"M230,84.0 L222,72.0 238,72.0\" fill=\"currentColor\"/>\n",
       "</g>\n",
       "\n",
       "<g class=\"displacy-arrow\">\n",
       "    <path class=\"displacy-arc\" id=\"arrow-499cd97ac6044261acc4dc84460e29d3-0-2\" stroke-width=\"2px\" d=\"M150,82.0 C150,2.0 290.0,2.0 290.0,82.0\" fill=\"none\" stroke=\"currentColor\"/>\n",
       "    <text dy=\"1.25em\" style=\"font-size: 0.8em; letter-spacing: 1px\">\n",
       "        <textPath xlink:href=\"#arrow-499cd97ac6044261acc4dc84460e29d3-0-2\" class=\"displacy-label\" startOffset=\"50%\" side=\"left\" fill=\"currentColor\" text-anchor=\"middle\">dobj</textPath>\n",
       "    </text>\n",
       "    <path class=\"displacy-arrowhead\" d=\"M290.0,84.0 L298.0,72.0 282.0,72.0\" fill=\"currentColor\"/>\n",
       "</g>\n",
       "</svg>\n",
       "\n",
       "<svg xmlns=\"http://www.w3.org/2000/svg\" xmlns:xlink=\"http://www.w3.org/1999/xlink\" xml:lang=\"en\" id=\"499cd97ac6044261acc4dc84460e29d3-1\" class=\"displacy\" width=\"1490\" height=\"297.0\" direction=\"ltr\" style=\"max-width: none; height: 297.0px; color: #000000; background: #ffffff; font-family: Arial; direction: ltr\">\n",
       "<text class=\"displacy-token\" fill=\"currentColor\" text-anchor=\"middle\" y=\"207.0\">\n",
       "    <tspan class=\"displacy-word\" fill=\"currentColor\" x=\"50\">I</tspan>\n",
       "    <tspan class=\"displacy-tag\" dy=\"2em\" fill=\"currentColor\" x=\"50\">PRON</tspan>\n",
       "</text>\n",
       "\n",
       "<text class=\"displacy-token\" fill=\"currentColor\" text-anchor=\"middle\" y=\"207.0\">\n",
       "    <tspan class=\"displacy-word\" fill=\"currentColor\" x=\"130\">visit</tspan>\n",
       "    <tspan class=\"displacy-tag\" dy=\"2em\" fill=\"currentColor\" x=\"130\">VERB</tspan>\n",
       "</text>\n",
       "\n",
       "<text class=\"displacy-token\" fill=\"currentColor\" text-anchor=\"middle\" y=\"207.0\">\n",
       "    <tspan class=\"displacy-word\" fill=\"currentColor\" x=\"210\">this</tspan>\n",
       "    <tspan class=\"displacy-tag\" dy=\"2em\" fill=\"currentColor\" x=\"210\">DET</tspan>\n",
       "</text>\n",
       "\n",
       "<text class=\"displacy-token\" fill=\"currentColor\" text-anchor=\"middle\" y=\"207.0\">\n",
       "    <tspan class=\"displacy-word\" fill=\"currentColor\" x=\"290\">place (</tspan>\n",
       "    <tspan class=\"displacy-tag\" dy=\"2em\" fill=\"currentColor\" x=\"290\">NOUN</tspan>\n",
       "</text>\n",
       "\n",
       "<text class=\"displacy-token\" fill=\"currentColor\" text-anchor=\"middle\" y=\"207.0\">\n",
       "    <tspan class=\"displacy-word\" fill=\"currentColor\" x=\"370\">or</tspan>\n",
       "    <tspan class=\"displacy-tag\" dy=\"2em\" fill=\"currentColor\" x=\"370\">CCONJ</tspan>\n",
       "</text>\n",
       "\n",
       "<text class=\"displacy-token\" fill=\"currentColor\" text-anchor=\"middle\" y=\"207.0\">\n",
       "    <tspan class=\"displacy-word\" fill=\"currentColor\" x=\"450\">one</tspan>\n",
       "    <tspan class=\"displacy-tag\" dy=\"2em\" fill=\"currentColor\" x=\"450\">NUM</tspan>\n",
       "</text>\n",
       "\n",
       "<text class=\"displacy-token\" fill=\"currentColor\" text-anchor=\"middle\" y=\"207.0\">\n",
       "    <tspan class=\"displacy-word\" fill=\"currentColor\" x=\"530\">of</tspan>\n",
       "    <tspan class=\"displacy-tag\" dy=\"2em\" fill=\"currentColor\" x=\"530\">ADP</tspan>\n",
       "</text>\n",
       "\n",
       "<text class=\"displacy-token\" fill=\"currentColor\" text-anchor=\"middle\" y=\"207.0\">\n",
       "    <tspan class=\"displacy-word\" fill=\"currentColor\" x=\"610\">the</tspan>\n",
       "    <tspan class=\"displacy-tag\" dy=\"2em\" fill=\"currentColor\" x=\"610\">DET</tspan>\n",
       "</text>\n",
       "\n",
       "<text class=\"displacy-token\" fill=\"currentColor\" text-anchor=\"middle\" y=\"207.0\">\n",
       "    <tspan class=\"displacy-word\" fill=\"currentColor\" x=\"690\">other</tspan>\n",
       "    <tspan class=\"displacy-tag\" dy=\"2em\" fill=\"currentColor\" x=\"690\">ADJ</tspan>\n",
       "</text>\n",
       "\n",
       "<text class=\"displacy-token\" fill=\"currentColor\" text-anchor=\"middle\" y=\"207.0\">\n",
       "    <tspan class=\"displacy-word\" fill=\"currentColor\" x=\"770\">din</tspan>\n",
       "    <tspan class=\"displacy-tag\" dy=\"2em\" fill=\"currentColor\" x=\"770\">NOUN</tspan>\n",
       "</text>\n",
       "\n",
       "<text class=\"displacy-token\" fill=\"currentColor\" text-anchor=\"middle\" y=\"207.0\">\n",
       "    <tspan class=\"displacy-word\" fill=\"currentColor\" x=\"850\">tai</tspan>\n",
       "    <tspan class=\"displacy-tag\" dy=\"2em\" fill=\"currentColor\" x=\"850\">DET</tspan>\n",
       "</text>\n",
       "\n",
       "<text class=\"displacy-token\" fill=\"currentColor\" text-anchor=\"middle\" y=\"207.0\">\n",
       "    <tspan class=\"displacy-word\" fill=\"currentColor\" x=\"930\">fung</tspan>\n",
       "    <tspan class=\"displacy-tag\" dy=\"2em\" fill=\"currentColor\" x=\"930\">NOUN</tspan>\n",
       "</text>\n",
       "\n",
       "<text class=\"displacy-token\" fill=\"currentColor\" text-anchor=\"middle\" y=\"207.0\">\n",
       "    <tspan class=\"displacy-word\" fill=\"currentColor\" x=\"1010\">outlets)</tspan>\n",
       "    <tspan class=\"displacy-tag\" dy=\"2em\" fill=\"currentColor\" x=\"1010\">NOUN</tspan>\n",
       "</text>\n",
       "\n",
       "<text class=\"displacy-token\" fill=\"currentColor\" text-anchor=\"middle\" y=\"207.0\">\n",
       "    <tspan class=\"displacy-word\" fill=\"currentColor\" x=\"1090\">at</tspan>\n",
       "    <tspan class=\"displacy-tag\" dy=\"2em\" fill=\"currentColor\" x=\"1090\">ADP</tspan>\n",
       "</text>\n",
       "\n",
       "<text class=\"displacy-token\" fill=\"currentColor\" text-anchor=\"middle\" y=\"207.0\">\n",
       "    <tspan class=\"displacy-word\" fill=\"currentColor\" x=\"1170\">least</tspan>\n",
       "    <tspan class=\"displacy-tag\" dy=\"2em\" fill=\"currentColor\" x=\"1170\">ADJ</tspan>\n",
       "</text>\n",
       "\n",
       "<text class=\"displacy-token\" fill=\"currentColor\" text-anchor=\"middle\" y=\"207.0\">\n",
       "    <tspan class=\"displacy-word\" fill=\"currentColor\" x=\"1250\">once</tspan>\n",
       "    <tspan class=\"displacy-tag\" dy=\"2em\" fill=\"currentColor\" x=\"1250\">ADV</tspan>\n",
       "</text>\n",
       "\n",
       "<text class=\"displacy-token\" fill=\"currentColor\" text-anchor=\"middle\" y=\"207.0\">\n",
       "    <tspan class=\"displacy-word\" fill=\"currentColor\" x=\"1330\">a</tspan>\n",
       "    <tspan class=\"displacy-tag\" dy=\"2em\" fill=\"currentColor\" x=\"1330\">DET</tspan>\n",
       "</text>\n",
       "\n",
       "<text class=\"displacy-token\" fill=\"currentColor\" text-anchor=\"middle\" y=\"207.0\">\n",
       "    <tspan class=\"displacy-word\" fill=\"currentColor\" x=\"1410\">month.</tspan>\n",
       "    <tspan class=\"displacy-tag\" dy=\"2em\" fill=\"currentColor\" x=\"1410\">NOUN</tspan>\n",
       "</text>\n",
       "\n",
       "<g class=\"displacy-arrow\">\n",
       "    <path class=\"displacy-arc\" id=\"arrow-499cd97ac6044261acc4dc84460e29d3-1-0\" stroke-width=\"2px\" d=\"M70,162.0 C70,122.0 115.0,122.0 115.0,162.0\" fill=\"none\" stroke=\"currentColor\"/>\n",
       "    <text dy=\"1.25em\" style=\"font-size: 0.8em; letter-spacing: 1px\">\n",
       "        <textPath xlink:href=\"#arrow-499cd97ac6044261acc4dc84460e29d3-1-0\" class=\"displacy-label\" startOffset=\"50%\" side=\"left\" fill=\"currentColor\" text-anchor=\"middle\">nsubj</textPath>\n",
       "    </text>\n",
       "    <path class=\"displacy-arrowhead\" d=\"M70,164.0 L62,152.0 78,152.0\" fill=\"currentColor\"/>\n",
       "</g>\n",
       "\n",
       "<g class=\"displacy-arrow\">\n",
       "    <path class=\"displacy-arc\" id=\"arrow-499cd97ac6044261acc4dc84460e29d3-1-1\" stroke-width=\"2px\" d=\"M230,162.0 C230,122.0 275.0,122.0 275.0,162.0\" fill=\"none\" stroke=\"currentColor\"/>\n",
       "    <text dy=\"1.25em\" style=\"font-size: 0.8em; letter-spacing: 1px\">\n",
       "        <textPath xlink:href=\"#arrow-499cd97ac6044261acc4dc84460e29d3-1-1\" class=\"displacy-label\" startOffset=\"50%\" side=\"left\" fill=\"currentColor\" text-anchor=\"middle\">det</textPath>\n",
       "    </text>\n",
       "    <path class=\"displacy-arrowhead\" d=\"M230,164.0 L222,152.0 238,152.0\" fill=\"currentColor\"/>\n",
       "</g>\n",
       "\n",
       "<g class=\"displacy-arrow\">\n",
       "    <path class=\"displacy-arc\" id=\"arrow-499cd97ac6044261acc4dc84460e29d3-1-2\" stroke-width=\"2px\" d=\"M150,162.0 C150,82.0 280.0,82.0 280.0,162.0\" fill=\"none\" stroke=\"currentColor\"/>\n",
       "    <text dy=\"1.25em\" style=\"font-size: 0.8em; letter-spacing: 1px\">\n",
       "        <textPath xlink:href=\"#arrow-499cd97ac6044261acc4dc84460e29d3-1-2\" class=\"displacy-label\" startOffset=\"50%\" side=\"left\" fill=\"currentColor\" text-anchor=\"middle\">dobj</textPath>\n",
       "    </text>\n",
       "    <path class=\"displacy-arrowhead\" d=\"M280.0,164.0 L288.0,152.0 272.0,152.0\" fill=\"currentColor\"/>\n",
       "</g>\n",
       "\n",
       "<g class=\"displacy-arrow\">\n",
       "    <path class=\"displacy-arc\" id=\"arrow-499cd97ac6044261acc4dc84460e29d3-1-3\" stroke-width=\"2px\" d=\"M310,162.0 C310,122.0 355.0,122.0 355.0,162.0\" fill=\"none\" stroke=\"currentColor\"/>\n",
       "    <text dy=\"1.25em\" style=\"font-size: 0.8em; letter-spacing: 1px\">\n",
       "        <textPath xlink:href=\"#arrow-499cd97ac6044261acc4dc84460e29d3-1-3\" class=\"displacy-label\" startOffset=\"50%\" side=\"left\" fill=\"currentColor\" text-anchor=\"middle\">cc</textPath>\n",
       "    </text>\n",
       "    <path class=\"displacy-arrowhead\" d=\"M355.0,164.0 L363.0,152.0 347.0,152.0\" fill=\"currentColor\"/>\n",
       "</g>\n",
       "\n",
       "<g class=\"displacy-arrow\">\n",
       "    <path class=\"displacy-arc\" id=\"arrow-499cd97ac6044261acc4dc84460e29d3-1-4\" stroke-width=\"2px\" d=\"M310,162.0 C310,82.0 440.0,82.0 440.0,162.0\" fill=\"none\" stroke=\"currentColor\"/>\n",
       "    <text dy=\"1.25em\" style=\"font-size: 0.8em; letter-spacing: 1px\">\n",
       "        <textPath xlink:href=\"#arrow-499cd97ac6044261acc4dc84460e29d3-1-4\" class=\"displacy-label\" startOffset=\"50%\" side=\"left\" fill=\"currentColor\" text-anchor=\"middle\">conj</textPath>\n",
       "    </text>\n",
       "    <path class=\"displacy-arrowhead\" d=\"M440.0,164.0 L448.0,152.0 432.0,152.0\" fill=\"currentColor\"/>\n",
       "</g>\n",
       "\n",
       "<g class=\"displacy-arrow\">\n",
       "    <path class=\"displacy-arc\" id=\"arrow-499cd97ac6044261acc4dc84460e29d3-1-5\" stroke-width=\"2px\" d=\"M470,162.0 C470,122.0 515.0,122.0 515.0,162.0\" fill=\"none\" stroke=\"currentColor\"/>\n",
       "    <text dy=\"1.25em\" style=\"font-size: 0.8em; letter-spacing: 1px\">\n",
       "        <textPath xlink:href=\"#arrow-499cd97ac6044261acc4dc84460e29d3-1-5\" class=\"displacy-label\" startOffset=\"50%\" side=\"left\" fill=\"currentColor\" text-anchor=\"middle\">prep</textPath>\n",
       "    </text>\n",
       "    <path class=\"displacy-arrowhead\" d=\"M515.0,164.0 L523.0,152.0 507.0,152.0\" fill=\"currentColor\"/>\n",
       "</g>\n",
       "\n",
       "<g class=\"displacy-arrow\">\n",
       "    <path class=\"displacy-arc\" id=\"arrow-499cd97ac6044261acc4dc84460e29d3-1-6\" stroke-width=\"2px\" d=\"M630,162.0 C630,82.0 760.0,82.0 760.0,162.0\" fill=\"none\" stroke=\"currentColor\"/>\n",
       "    <text dy=\"1.25em\" style=\"font-size: 0.8em; letter-spacing: 1px\">\n",
       "        <textPath xlink:href=\"#arrow-499cd97ac6044261acc4dc84460e29d3-1-6\" class=\"displacy-label\" startOffset=\"50%\" side=\"left\" fill=\"currentColor\" text-anchor=\"middle\">det</textPath>\n",
       "    </text>\n",
       "    <path class=\"displacy-arrowhead\" d=\"M630,164.0 L622,152.0 638,152.0\" fill=\"currentColor\"/>\n",
       "</g>\n",
       "\n",
       "<g class=\"displacy-arrow\">\n",
       "    <path class=\"displacy-arc\" id=\"arrow-499cd97ac6044261acc4dc84460e29d3-1-7\" stroke-width=\"2px\" d=\"M710,162.0 C710,122.0 755.0,122.0 755.0,162.0\" fill=\"none\" stroke=\"currentColor\"/>\n",
       "    <text dy=\"1.25em\" style=\"font-size: 0.8em; letter-spacing: 1px\">\n",
       "        <textPath xlink:href=\"#arrow-499cd97ac6044261acc4dc84460e29d3-1-7\" class=\"displacy-label\" startOffset=\"50%\" side=\"left\" fill=\"currentColor\" text-anchor=\"middle\">amod</textPath>\n",
       "    </text>\n",
       "    <path class=\"displacy-arrowhead\" d=\"M710,164.0 L702,152.0 718,152.0\" fill=\"currentColor\"/>\n",
       "</g>\n",
       "\n",
       "<g class=\"displacy-arrow\">\n",
       "    <path class=\"displacy-arc\" id=\"arrow-499cd97ac6044261acc4dc84460e29d3-1-8\" stroke-width=\"2px\" d=\"M550,162.0 C550,42.0 765.0,42.0 765.0,162.0\" fill=\"none\" stroke=\"currentColor\"/>\n",
       "    <text dy=\"1.25em\" style=\"font-size: 0.8em; letter-spacing: 1px\">\n",
       "        <textPath xlink:href=\"#arrow-499cd97ac6044261acc4dc84460e29d3-1-8\" class=\"displacy-label\" startOffset=\"50%\" side=\"left\" fill=\"currentColor\" text-anchor=\"middle\">pobj</textPath>\n",
       "    </text>\n",
       "    <path class=\"displacy-arrowhead\" d=\"M765.0,164.0 L773.0,152.0 757.0,152.0\" fill=\"currentColor\"/>\n",
       "</g>\n",
       "\n",
       "<g class=\"displacy-arrow\">\n",
       "    <path class=\"displacy-arc\" id=\"arrow-499cd97ac6044261acc4dc84460e29d3-1-9\" stroke-width=\"2px\" d=\"M870,162.0 C870,82.0 1000.0,82.0 1000.0,162.0\" fill=\"none\" stroke=\"currentColor\"/>\n",
       "    <text dy=\"1.25em\" style=\"font-size: 0.8em; letter-spacing: 1px\">\n",
       "        <textPath xlink:href=\"#arrow-499cd97ac6044261acc4dc84460e29d3-1-9\" class=\"displacy-label\" startOffset=\"50%\" side=\"left\" fill=\"currentColor\" text-anchor=\"middle\">compound</textPath>\n",
       "    </text>\n",
       "    <path class=\"displacy-arrowhead\" d=\"M870,164.0 L862,152.0 878,152.0\" fill=\"currentColor\"/>\n",
       "</g>\n",
       "\n",
       "<g class=\"displacy-arrow\">\n",
       "    <path class=\"displacy-arc\" id=\"arrow-499cd97ac6044261acc4dc84460e29d3-1-10\" stroke-width=\"2px\" d=\"M950,162.0 C950,122.0 995.0,122.0 995.0,162.0\" fill=\"none\" stroke=\"currentColor\"/>\n",
       "    <text dy=\"1.25em\" style=\"font-size: 0.8em; letter-spacing: 1px\">\n",
       "        <textPath xlink:href=\"#arrow-499cd97ac6044261acc4dc84460e29d3-1-10\" class=\"displacy-label\" startOffset=\"50%\" side=\"left\" fill=\"currentColor\" text-anchor=\"middle\">compound</textPath>\n",
       "    </text>\n",
       "    <path class=\"displacy-arrowhead\" d=\"M950,164.0 L942,152.0 958,152.0\" fill=\"currentColor\"/>\n",
       "</g>\n",
       "\n",
       "<g class=\"displacy-arrow\">\n",
       "    <path class=\"displacy-arc\" id=\"arrow-499cd97ac6044261acc4dc84460e29d3-1-11\" stroke-width=\"2px\" d=\"M790,162.0 C790,42.0 1005.0,42.0 1005.0,162.0\" fill=\"none\" stroke=\"currentColor\"/>\n",
       "    <text dy=\"1.25em\" style=\"font-size: 0.8em; letter-spacing: 1px\">\n",
       "        <textPath xlink:href=\"#arrow-499cd97ac6044261acc4dc84460e29d3-1-11\" class=\"displacy-label\" startOffset=\"50%\" side=\"left\" fill=\"currentColor\" text-anchor=\"middle\">appos</textPath>\n",
       "    </text>\n",
       "    <path class=\"displacy-arrowhead\" d=\"M1005.0,164.0 L1013.0,152.0 997.0,152.0\" fill=\"currentColor\"/>\n",
       "</g>\n",
       "\n",
       "<g class=\"displacy-arrow\">\n",
       "    <path class=\"displacy-arc\" id=\"arrow-499cd97ac6044261acc4dc84460e29d3-1-12\" stroke-width=\"2px\" d=\"M1110,162.0 C1110,122.0 1155.0,122.0 1155.0,162.0\" fill=\"none\" stroke=\"currentColor\"/>\n",
       "    <text dy=\"1.25em\" style=\"font-size: 0.8em; letter-spacing: 1px\">\n",
       "        <textPath xlink:href=\"#arrow-499cd97ac6044261acc4dc84460e29d3-1-12\" class=\"displacy-label\" startOffset=\"50%\" side=\"left\" fill=\"currentColor\" text-anchor=\"middle\">advmod</textPath>\n",
       "    </text>\n",
       "    <path class=\"displacy-arrowhead\" d=\"M1110,164.0 L1102,152.0 1118,152.0\" fill=\"currentColor\"/>\n",
       "</g>\n",
       "\n",
       "<g class=\"displacy-arrow\">\n",
       "    <path class=\"displacy-arc\" id=\"arrow-499cd97ac6044261acc4dc84460e29d3-1-13\" stroke-width=\"2px\" d=\"M1190,162.0 C1190,122.0 1235.0,122.0 1235.0,162.0\" fill=\"none\" stroke=\"currentColor\"/>\n",
       "    <text dy=\"1.25em\" style=\"font-size: 0.8em; letter-spacing: 1px\">\n",
       "        <textPath xlink:href=\"#arrow-499cd97ac6044261acc4dc84460e29d3-1-13\" class=\"displacy-label\" startOffset=\"50%\" side=\"left\" fill=\"currentColor\" text-anchor=\"middle\">advmod</textPath>\n",
       "    </text>\n",
       "    <path class=\"displacy-arrowhead\" d=\"M1190,164.0 L1182,152.0 1198,152.0\" fill=\"currentColor\"/>\n",
       "</g>\n",
       "\n",
       "<g class=\"displacy-arrow\">\n",
       "    <path class=\"displacy-arc\" id=\"arrow-499cd97ac6044261acc4dc84460e29d3-1-14\" stroke-width=\"2px\" d=\"M150,162.0 C150,2.0 1250.0,2.0 1250.0,162.0\" fill=\"none\" stroke=\"currentColor\"/>\n",
       "    <text dy=\"1.25em\" style=\"font-size: 0.8em; letter-spacing: 1px\">\n",
       "        <textPath xlink:href=\"#arrow-499cd97ac6044261acc4dc84460e29d3-1-14\" class=\"displacy-label\" startOffset=\"50%\" side=\"left\" fill=\"currentColor\" text-anchor=\"middle\">advmod</textPath>\n",
       "    </text>\n",
       "    <path class=\"displacy-arrowhead\" d=\"M1250.0,164.0 L1258.0,152.0 1242.0,152.0\" fill=\"currentColor\"/>\n",
       "</g>\n",
       "\n",
       "<g class=\"displacy-arrow\">\n",
       "    <path class=\"displacy-arc\" id=\"arrow-499cd97ac6044261acc4dc84460e29d3-1-15\" stroke-width=\"2px\" d=\"M1350,162.0 C1350,122.0 1395.0,122.0 1395.0,162.0\" fill=\"none\" stroke=\"currentColor\"/>\n",
       "    <text dy=\"1.25em\" style=\"font-size: 0.8em; letter-spacing: 1px\">\n",
       "        <textPath xlink:href=\"#arrow-499cd97ac6044261acc4dc84460e29d3-1-15\" class=\"displacy-label\" startOffset=\"50%\" side=\"left\" fill=\"currentColor\" text-anchor=\"middle\">det</textPath>\n",
       "    </text>\n",
       "    <path class=\"displacy-arrowhead\" d=\"M1350,164.0 L1342,152.0 1358,152.0\" fill=\"currentColor\"/>\n",
       "</g>\n",
       "\n",
       "<g class=\"displacy-arrow\">\n",
       "    <path class=\"displacy-arc\" id=\"arrow-499cd97ac6044261acc4dc84460e29d3-1-16\" stroke-width=\"2px\" d=\"M1270,162.0 C1270,82.0 1400.0,82.0 1400.0,162.0\" fill=\"none\" stroke=\"currentColor\"/>\n",
       "    <text dy=\"1.25em\" style=\"font-size: 0.8em; letter-spacing: 1px\">\n",
       "        <textPath xlink:href=\"#arrow-499cd97ac6044261acc4dc84460e29d3-1-16\" class=\"displacy-label\" startOffset=\"50%\" side=\"left\" fill=\"currentColor\" text-anchor=\"middle\">npadvmod</textPath>\n",
       "    </text>\n",
       "    <path class=\"displacy-arrowhead\" d=\"M1400.0,164.0 L1408.0,152.0 1392.0,152.0\" fill=\"currentColor\"/>\n",
       "</g>\n",
       "</svg></span>"
      ],
      "text/plain": [
       "<IPython.core.display.HTML object>"
      ]
     },
     "metadata": {
      "tags": []
     },
     "output_type": "display_data"
    }
   ],
   "source": [
    "# visualize the dependencies.\n",
    "displacy.render(doc.sents, style='dep', jupyter=True, options = { 'distance':80 })"
   ]
  },
  {
   "cell_type": "markdown",
   "metadata": {
    "id": "p3j0Lj-QXx5Z"
   },
   "source": [
    "Let's look at the breakdown of a sentence in detail. In this sentence, where is the root of the sentence, where everything is joined together? However, it is possible that sometimes due to the sentence structure there may be no root in the results.\n",
    "We can filter for specific dependencies in the result."
   ]
  },
  {
   "cell_type": "code",
   "execution_count": 6,
   "metadata": {
    "colab": {
     "base_uri": "https://localhost:8080/"
    },
    "id": "NSC-UNhWXx5Z",
    "outputId": "c54d0843-1c54-45f7-8732-945e12afc62a"
   },
   "outputs": [
    {
     "name": "stdout",
     "output_type": "stream",
     "text": [
      "Input sentence is: John likes the apple.\n",
      "('John', 'nsubj', '---> ', 'likes')\n",
      "('likes', 'ROOT', '---> ', 'likes')\n",
      "('the', 'det', '---> ', 'apple')\n",
      "('apple', 'dobj', '---> ', 'likes')\n",
      "('.', 'punct', '---> ', 'likes')\n",
      "The result is :[('apple', 'dobj', '---> ', 'likes')]\n"
     ]
    }
   ],
   "source": [
    "def getDep(sentence, rel):\n",
    "    deps=[]\n",
    "    print (\"Input sentence is: \" + str(sentence))\n",
    "    for tok in sentence:\n",
    "        dep =  (tok.text, tok.dep_, \"---> \", tok.head.text)\n",
    "        print(dep)\n",
    "        deps.append(dep)\n",
    "    result = list(filter(lambda x : x[1]==rel or x[1].find(rel)!=-1, deps))\n",
    "    if len(result) == 0 : return 999\n",
    "    return result\n",
    "\n",
    "sentence = \"John likes the apple.\"\n",
    "found = getDep(nlp(sentence), \"obj\")\n",
    "print (\"The result is :\" + str(found))"
   ]
  },
  {
   "cell_type": "markdown",
   "metadata": {
    "id": "zkFW2i8MXx5a"
   },
   "source": [
    "We can also use the dependency information to extract 'triples'. The predicate can come from the root or a clause without its own object/subject. The noun subject would be 'nsubj', and the object usually follow as 'dobj'. Putting it altogether, and we get a triple."
   ]
  },
  {
   "cell_type": "code",
   "execution_count": 7,
   "metadata": {
    "colab": {
     "base_uri": "https://localhost:8080/"
    },
    "id": "UBbkVFriXx5b",
    "outputId": "976afce0-c1da-43fa-af18-a05e8b179797"
   },
   "outputs": [
    {
     "name": "stdout",
     "output_type": "stream",
     "text": [
      "Triple is ('John', 'likes', 'apple')\n",
      "Pattern incorrect. No triples for The apple tastes delicious.\n",
      "The dependencies are: [('The', 'det', '---> ', 'apple'), ('apple', 'nsubj', '---> ', 'tastes'), ('tastes', 'ROOT', '---> ', 'tastes'), ('delicious', 'acomp', '---> ', 'tastes'), ('.', 'punct', '---> ', 'tastes')]\n",
      "Triple is None\n"
     ]
    }
   ],
   "source": [
    "def getTriple(sentence):\n",
    "    deps=[]\n",
    "    for tok in sentence:  \n",
    "        dep =  (tok.text, tok.dep_, \"---> \", tok.head.text)\n",
    "        deps.append(dep)\n",
    "    subj = list(filter(lambda x : x[1]==\"nsubj\", deps))\n",
    "    obj = list(filter(lambda x : x[1]==\"dobj\", deps))\n",
    "    root = list(filter(lambda x : x[1]==\"ROOT\" , deps))\n",
    "\n",
    "    try: \n",
    "        triple = (subj[0][0], root[0][0], obj[0][0])\n",
    "    except IndexError:\n",
    "        print (\"Pattern incorrect. No triples for \" + str(sentence)) # rules needed to be written to extract some triples\n",
    "        print (\"The dependencies are: \" + str(deps))\n",
    "        return None\n",
    "    return triple\n",
    "\n",
    "triples=[]\n",
    "s = \"John likes big apple. The apple tastes delicious.\"\n",
    "#doing it sentence by sentence\n",
    "for sentence in nlp(s).sents:\n",
    "  triple = getTriple(sentence)  # obtain triples in that sentence\n",
    "  print (\"Triple is \" + str(triple))\n",
    "  triples.append(triple)\n"
   ]
  },
  {
   "cell_type": "markdown",
   "metadata": {
    "id": "O9_-t89RXx5c"
   },
   "source": [
    "## Extraction of aspect and entities\n",
    "\n",
    "As taught in class, the extraction of entities/aspects and their sentiment scores is often done in a semi-supervised way. A 'mapping function' is often used to group the aspect expressions into the aspect categories in the domain. In the case of restaurants, the usual aspect categories are 'food', 'service' and 'price'. "
   ]
  },
  {
   "cell_type": "code",
   "execution_count": 44,
   "metadata": {
    "id": "PgIWTSE3Xx5d"
   },
   "outputs": [],
   "source": [
    "# aspect categories\n",
    "# From Frequency approach\n",
    "aspect = {\"food\": [\"xiao long bao\", \"noodles\", \"food\", \"dumplings\", \"pork\", \"flavour\", \"chili\", \n",
    "                   \"dishes\", \"lunch\", \"bun\", \"shrimp\", \"dimsum\", \"rice\", \"chicken\"],\n",
    "        \"service\" : [\"staff\", \"wait\", \"water\", \"queue\" ],\n",
    "        \"price\" : [\"price\", \"cost\"]   }\n",
    "# Let's also use a category 'overall' to cover everything else    \n",
    "\n",
    "# Helper function for categorising aspects:\n",
    "# Here the input is output from Spacy\n",
    "def aspectCat(sentence):\n",
    "    category=[]\n",
    "    for tok in sentence:\n",
    "        tok = tok.text.lower()\n",
    "        for key, val in aspect.items():\n",
    "            if tok in val: category.append(key)\n",
    "    if len(category) == 0 : category.append(\"overall\")\n",
    "    return category"
   ]
  },
  {
   "cell_type": "markdown",
   "metadata": {
    "id": "LGeRYz-QXx5e"
   },
   "source": [
    "Next, we'll use Vader to do sentiment classification of sentences."
   ]
  },
  {
   "cell_type": "code",
   "execution_count": 21,
   "metadata": {
    "id": "xjoHGYX9Uuq7"
   },
   "outputs": [],
   "source": [
    "analyzer = SentimentIntensityAnalyzer()"
   ]
  },
  {
   "cell_type": "code",
   "execution_count": 22,
   "metadata": {
    "colab": {
     "base_uri": "https://localhost:8080/"
    },
    "id": "-cdrZ15OYuxQ",
    "outputId": "69db0783-a092-476e-c8d7-0b9648de0a72"
   },
   "outputs": [
    {
     "data": {
      "text/plain": [
       "{'compound': -0.4588, 'neg': 0.5, 'neu': 0.5, 'pos': 0.0}"
      ]
     },
     "execution_count": 22,
     "metadata": {
      "tags": []
     },
     "output_type": "execute_result"
    }
   ],
   "source": [
    "#Vader returns 4 scores. We take the 'compound' score as overall sentiment for the sentence.\n",
    "res = analyzer.polarity_scores(\"The apple is awful.\")\n",
    "res"
   ]
  },
  {
   "cell_type": "markdown",
   "metadata": {
    "id": "VmNZ1zcEgAa7"
   },
   "source": [
    "Given a review, for each sentence, we get its sentiment score and aspect category."
   ]
  },
  {
   "cell_type": "code",
   "execution_count": 36,
   "metadata": {
    "colab": {
     "base_uri": "https://localhost:8080/"
    },
    "id": "6gbY1q71Xx5f",
    "outputId": "1530e80d-01cc-497b-f94e-54f7cc7080d7"
   },
   "outputs": [
    {
     "name": "stdout",
     "output_type": "stream",
     "text": [
      "{'scores': 0.64, 'text': I love this place., 'category': ['overall']}\n",
      "{'scores': 0.0, 'text': I visit this place (or one of the other din tai fung outlets) at least once a month., 'category': ['overall']}\n"
     ]
    }
   ],
   "source": [
    "result_sents =[] \n",
    "\n",
    "def getSentiment(span):\n",
    "    res = analyzer.polarity_scores(span.text)\n",
    "    senti = np.round(res['compound'],2)\n",
    "    return (senti)\n",
    "\n",
    "ex=0\n",
    "doc = nlp(df_reviews[\"reviews\"][ex])\n",
    "for idx, sentence in enumerate(doc.sents):\n",
    "    #print (sentence)\n",
    "    res = getSentiment(sentence)\n",
    "\n",
    "    try:\n",
    "        cat = aspectCat(sentence)      \n",
    "        result_sents.append({\"scores\":res, \"text\":sentence, \"category\":cat})\n",
    "    except IndexError:\n",
    "        # there are no specific aspects talked about. Just in general\n",
    "        result_sents.append({\"scores\":res, \"text\":sentence, \"category\":\"overall\"})\n",
    "\n",
    "for s in result_sents:\n",
    "  print(s)"
   ]
  },
  {
   "cell_type": "markdown",
   "metadata": {
    "id": "hEoO5foUXx5j"
   },
   "source": [
    "Let's do it for the whole set of reviews and do a summarisation. "
   ]
  },
  {
   "cell_type": "code",
   "execution_count": 45,
   "metadata": {
    "colab": {
     "base_uri": "https://localhost:8080/"
    },
    "id": "C_3r2SMYXx5l",
    "outputId": "d4ffa9fe-f075-44cb-df00-3271d003e222"
   },
   "outputs": [
    {
     "name": "stdout",
     "output_type": "stream",
     "text": [
      "{'overall': [0.64, 0.0, -0.04, 0.42, 0.44, -0.34, 0.49, 0.36, 0.82, 0.88, 0.3, 0.0, 0.59, 0.0, -0.18, 0.45, 0.0, 0.42, 0.44, 0.42, 0.25, 0.0, 0.79, 0.93, 0.36, 0.62, 0.0, 0.0, 0.0, 0.46, 0.0, 0.64, 0.64, 0.0, -0.18, 0.0, 0.59], 'service': [0.47, 0.08, 0.43, 0.0, 0.0], 'price': [0.42, 0.62, 0.27], 'food': [0.0, 0.0, 0.0, 0.0, 0.0, 0.42, 0.61, 0.61, 0.61, 0.0, 0.0, 0.0, 0.0, 0.48, 0.0, 0.0, 0.71, 0.56, 0.32, 0.32, 0.61, 0.64, 0.42, 0.53, 0.53, 0.0, 0.03, 0.62, 0.0, 0.48, 0.48, 0.72, 0.48, 0.77, -0.08, -0.08, 0.79, 0.79, 0.74, 0.74, -0.48, -0.08, 0.0, 0.27, 0.56, 0.0]}\n"
     ]
    }
   ],
   "source": [
    "reviews = {}\n",
    "for i in range(len(df_reviews[\"reviews\"])):\n",
    "    doc = nlp(df_reviews[\"reviews\"][i])\n",
    "    review_sents =[] \n",
    "    for idx, sentence in enumerate(doc.sents):\n",
    "        #print (sentence)\n",
    "        res = getSentiment(sentence)\n",
    "\n",
    "        try:\n",
    "            cat = aspectCat(sentence)      \n",
    "            review_sents.append({\"scores\":res, \"text\":sentence.text, \"category\":cat})\n",
    "        except IndexError:\n",
    "            review_sents.append({\"scores\":res, \"text\":sentence.text, \"category\":\"overall\"})\n",
    "    reviews[i]=review_sents\n",
    "\n",
    "# summarise all reviews\n",
    "summary_scores = {\"overall\":[], \"service\":[], \"price\":[], \"food\":[]}\n",
    "# count total no of \n",
    "for item in reviews.items():\n",
    "    for ResultList in item[1]:\n",
    "        score = ResultList[\"scores\"]\n",
    "        for CatList in ResultList[\"category\"]:\n",
    "            summary_scores[CatList].append(score)\n",
    "\n",
    "# for each category, summarize how many reviews are positive, negative respectively\n",
    "print (summary_scores)\n",
    "for key, val in summary_scores.items():\n",
    "    #avg = round(np.mean(val),2)\n",
    "    pos = np.sum(np.array(val) >= 0, axis=0)\n",
    "    neg = np.sum(np.array(val) < 0, axis=0)\n",
    "    summary_scores[key]={\"pos\":pos,\"neg\": neg, \"Total\": pos + neg}\n",
    "#summary_scores[\"total no of reviews\"]=len(reviews)\n",
    "\n",
    "df_summary = pd.DataFrame(summary_scores)\n",
    "df_summary=df_summary.transpose()"
   ]
  },
  {
   "cell_type": "code",
   "execution_count": 46,
   "metadata": {
    "colab": {
     "base_uri": "https://localhost:8080/",
     "height": 173
    },
    "id": "ldUKN19_Xx5l",
    "outputId": "e51dd0cc-80c4-4702-f376-06d8354dc725"
   },
   "outputs": [
    {
     "data": {
      "text/html": [
       "<div>\n",
       "<style scoped>\n",
       "    .dataframe tbody tr th:only-of-type {\n",
       "        vertical-align: middle;\n",
       "    }\n",
       "\n",
       "    .dataframe tbody tr th {\n",
       "        vertical-align: top;\n",
       "    }\n",
       "\n",
       "    .dataframe thead th {\n",
       "        text-align: right;\n",
       "    }\n",
       "</style>\n",
       "<table border=\"1\" class=\"dataframe\">\n",
       "  <thead>\n",
       "    <tr style=\"text-align: right;\">\n",
       "      <th></th>\n",
       "      <th>pos</th>\n",
       "      <th>neg</th>\n",
       "      <th>Total</th>\n",
       "    </tr>\n",
       "  </thead>\n",
       "  <tbody>\n",
       "    <tr>\n",
       "      <th>overall</th>\n",
       "      <td>33</td>\n",
       "      <td>4</td>\n",
       "      <td>37</td>\n",
       "    </tr>\n",
       "    <tr>\n",
       "      <th>service</th>\n",
       "      <td>5</td>\n",
       "      <td>0</td>\n",
       "      <td>5</td>\n",
       "    </tr>\n",
       "    <tr>\n",
       "      <th>price</th>\n",
       "      <td>3</td>\n",
       "      <td>0</td>\n",
       "      <td>3</td>\n",
       "    </tr>\n",
       "    <tr>\n",
       "      <th>food</th>\n",
       "      <td>42</td>\n",
       "      <td>4</td>\n",
       "      <td>46</td>\n",
       "    </tr>\n",
       "  </tbody>\n",
       "</table>\n",
       "</div>"
      ],
      "text/plain": [
       "         pos  neg  Total\n",
       "overall   33    4     37\n",
       "service    5    0      5\n",
       "price      3    0      3\n",
       "food      42    4     46"
      ]
     },
     "execution_count": 46,
     "metadata": {
      "tags": []
     },
     "output_type": "execute_result"
    }
   ],
   "source": [
    "df_summary"
   ]
  },
  {
   "cell_type": "code",
   "execution_count": 47,
   "metadata": {
    "id": "O26CJ56HXx5m"
   },
   "outputs": [],
   "source": [
    "#add two new columns into the table\n",
    "df_summary[\"category\"] = df_summary.index\n",
    "#represent overall sentiment for the categary based on num of pos/neg\n",
    "df_summary[\"sentiment\"] = np.round((df_summary[\"pos\"]-df_summary[\"neg\"])/(df_summary[\"neg\"]+df_summary[\"pos\"]),2)\n"
   ]
  },
  {
   "cell_type": "code",
   "execution_count": 48,
   "metadata": {
    "colab": {
     "base_uri": "https://localhost:8080/",
     "height": 173
    },
    "id": "IHXmAdAMXx5p",
    "outputId": "1fe95f34-b94e-4226-8182-d91905da4d31"
   },
   "outputs": [
    {
     "data": {
      "text/html": [
       "<div>\n",
       "<style scoped>\n",
       "    .dataframe tbody tr th:only-of-type {\n",
       "        vertical-align: middle;\n",
       "    }\n",
       "\n",
       "    .dataframe tbody tr th {\n",
       "        vertical-align: top;\n",
       "    }\n",
       "\n",
       "    .dataframe thead th {\n",
       "        text-align: right;\n",
       "    }\n",
       "</style>\n",
       "<table border=\"1\" class=\"dataframe\">\n",
       "  <thead>\n",
       "    <tr style=\"text-align: right;\">\n",
       "      <th></th>\n",
       "      <th>pos</th>\n",
       "      <th>neg</th>\n",
       "      <th>Total</th>\n",
       "      <th>category</th>\n",
       "      <th>sentiment</th>\n",
       "    </tr>\n",
       "  </thead>\n",
       "  <tbody>\n",
       "    <tr>\n",
       "      <th>overall</th>\n",
       "      <td>33</td>\n",
       "      <td>4</td>\n",
       "      <td>37</td>\n",
       "      <td>overall</td>\n",
       "      <td>0.78</td>\n",
       "    </tr>\n",
       "    <tr>\n",
       "      <th>service</th>\n",
       "      <td>5</td>\n",
       "      <td>0</td>\n",
       "      <td>5</td>\n",
       "      <td>service</td>\n",
       "      <td>1.00</td>\n",
       "    </tr>\n",
       "    <tr>\n",
       "      <th>price</th>\n",
       "      <td>3</td>\n",
       "      <td>0</td>\n",
       "      <td>3</td>\n",
       "      <td>price</td>\n",
       "      <td>1.00</td>\n",
       "    </tr>\n",
       "    <tr>\n",
       "      <th>food</th>\n",
       "      <td>42</td>\n",
       "      <td>4</td>\n",
       "      <td>46</td>\n",
       "      <td>food</td>\n",
       "      <td>0.83</td>\n",
       "    </tr>\n",
       "  </tbody>\n",
       "</table>\n",
       "</div>"
      ],
      "text/plain": [
       "         pos  neg  Total category  sentiment\n",
       "overall   33    4     37  overall       0.78\n",
       "service    5    0      5  service       1.00\n",
       "price      3    0      3    price       1.00\n",
       "food      42    4     46     food       0.83"
      ]
     },
     "execution_count": 48,
     "metadata": {
      "tags": []
     },
     "output_type": "execute_result"
    }
   ],
   "source": [
    "df_summary"
   ]
  },
  {
   "cell_type": "markdown",
   "metadata": {
    "id": "LFIvmcSGXx5q"
   },
   "source": [
    "Notice that for most of the time, the reviewers are talking mostly about the food quality. \n",
    "\n",
    "Finally the last step to present the information visually. Here a treemap with color representing sentiment is appropriate. The implementation is however quite wieldy in Python. "
   ]
  },
  {
   "cell_type": "code",
   "execution_count": 30,
   "metadata": {
    "colab": {
     "base_uri": "https://localhost:8080/"
    },
    "id": "bFHf70l1e0J7",
    "outputId": "472a2fe5-eb7b-4b74-f407-8e8fef139162"
   },
   "outputs": [
    {
     "name": "stdout",
     "output_type": "stream",
     "text": [
      "Collecting squarify\n",
      "  Downloading squarify-0.4.3-py3-none-any.whl (4.3 kB)\n",
      "Installing collected packages: squarify\n",
      "Successfully installed squarify-0.4.3\n"
     ]
    }
   ],
   "source": [
    "!pip install squarify\n",
    "import squarify\n",
    "import matplotlib\n",
    "import matplotlib.pyplot as plt\n",
    "import pandas as pd"
   ]
  },
  {
   "cell_type": "code",
   "execution_count": 31,
   "metadata": {
    "colab": {
     "base_uri": "https://localhost:8080/",
     "height": 521
    },
    "id": "Qtp3AHx-Xx5r",
    "outputId": "7d8e20c0-7f22-48bb-8cc3-47973d1feea3"
   },
   "outputs": [
    {
     "data": {
      "text/plain": [
       "Text(0.5, 1.0, 'Sentiment Heat Map of Restaurant Aspects')"
      ]
     },
     "execution_count": 31,
     "metadata": {
      "tags": []
     },
     "output_type": "execute_result"
    },
    {
     "data": {
      "image/png": "[encoded data removed]",
      "text/plain": [
       "<Figure size 864x576 with 1 Axes>"
      ]
     },
     "metadata": {
      "needs_background": "light",
      "tags": []
     },
     "output_type": "display_data"
    }
   ],
   "source": [
    "norm = matplotlib.colors.Normalize(vmin=min(df_summary.sentiment), vmax=max(df_summary.sentiment))\n",
    "colors = [matplotlib.cm.Reds(norm(value)) for value in df_summary.sentiment]\n",
    "\n",
    "fig = plt.gcf()\n",
    "fig.set_size_inches(12, 8)\n",
    "\n",
    "#Use squarify to plot our data, label it and add colours. We add an alpha layer to ensure black labels show through\n",
    "# Also used color intensity to reflect the sentiment value. \n",
    "squarify.plot(label=df_summary.category,sizes=df_summary.Total, value = df_summary.sentiment,color = colors, alpha=.5, pad =True)\n",
    "plt.title(\"Sentiment Heat Map of Restaurant Aspects\",fontsize=20,fontweight=\"bold\")"
   ]
  },
  {
   "cell_type": "markdown",
   "metadata": {
    "id": "RR4AJyzTXx5r"
   },
   "source": [
    "### Conclusion\n",
    "This example illustrates how the reviews are categorised and sentiment classified based on 3 aspect categories - food, price and service, with the rest as overall.\n",
    "\n",
    "There are many ways to improve on it. This includes:\n",
    " - using lemmatization to identify mapped words\n",
    " - integrating with consistuency parsing to obtain NP chunks\n",
    " - using customized sentiment classifier\n",
    " - using co-reference resolution. The latter is useful as many of the pronouns like 'it', 'they'  have no identified targets in the subsequent sentences. They should similarly be mapped to the relevant entities and aspects."
   ]
  },
  {
   "cell_type": "markdown",
   "metadata": {
    "id": "Xu9iSrG9Xx5s"
   },
   "source": [
    "### Exercise\n",
    "\n",
    "- Perform the same exercise on another set of data - this time for rows of the airline sentiment data. What are the difficulties that you face? What aspects (and groups) do you consider in this case (heuristically)?"
   ]
  }
 ],
 "metadata": {
  "colab": {
   "collapsed_sections": [],
   "name": "NM 3.1 Entity & Aspect Mining - Heuristic.ipynb",
   "provenance": []
  },
  "kernelspec": {
   "display_name": "Python 3",
   "language": "python",
   "name": "python3"
  },
  "language_info": {
   "codemirror_mode": {
    "name": "ipython",
    "version": 3
   },
   "file_extension": ".py",
   "mimetype": "text/x-python",
   "name": "python",
   "nbconvert_exporter": "python",
   "pygments_lexer": "ipython3",
   "version": "3.7.10"
  }
 },
 "nbformat": 4,
 "nbformat_minor": 1
}
