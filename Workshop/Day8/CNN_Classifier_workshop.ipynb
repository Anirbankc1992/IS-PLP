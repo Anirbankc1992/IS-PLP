{
 "cells": [
  {
   "cell_type": "code",
   "execution_count": 1,
   "metadata": {
    "id": "40YIX2RMICLR"
   },
   "outputs": [
    {
     "name": "stdout",
     "output_type": "stream",
     "text": [
      "Requirement already satisfied: plot_keras_history in c:\\anaconda\\envs\\pyakc\\lib\\site-packages (1.1.29)\n",
      "Requirement already satisfied: scipy in c:\\anaconda\\envs\\pyakc\\lib\\site-packages (from plot_keras_history) (1.7.1)\n",
      "Requirement already satisfied: matplotlib in c:\\anaconda\\envs\\pyakc\\lib\\site-packages (from plot_keras_history) (3.4.3)\n",
      "Requirement already satisfied: pandas in c:\\anaconda\\envs\\pyakc\\lib\\site-packages (from plot_keras_history) (1.3.2)\n",
      "Requirement already satisfied: sanitize-ml-labels in c:\\anaconda\\envs\\pyakc\\lib\\site-packages (from plot_keras_history) (1.0.26)\n",
      "Requirement already satisfied: numpy<1.23.0,>=1.16.5 in c:\\anaconda\\envs\\pyakc\\lib\\site-packages (from scipy->plot_keras_history) (1.19.1)\n",
      "Requirement already satisfied: cycler>=0.10 in c:\\anaconda\\envs\\pyakc\\lib\\site-packages (from matplotlib->plot_keras_history) (0.10.0)\n",
      "Requirement already satisfied: pillow>=6.2.0 in c:\\anaconda\\envs\\pyakc\\lib\\site-packages (from matplotlib->plot_keras_history) (8.3.1)\n",
      "Requirement already satisfied: pyparsing>=2.2.1 in c:\\anaconda\\envs\\pyakc\\lib\\site-packages (from matplotlib->plot_keras_history) (2.4.7)\n",
      "Requirement already satisfied: python-dateutil>=2.7 in c:\\anaconda\\envs\\pyakc\\lib\\site-packages (from matplotlib->plot_keras_history) (2.8.2)\n",
      "Requirement already satisfied: kiwisolver>=1.0.1 in c:\\anaconda\\envs\\pyakc\\lib\\site-packages (from matplotlib->plot_keras_history) (1.3.2)\n",
      "Requirement already satisfied: pytz>=2017.3 in c:\\anaconda\\envs\\pyakc\\lib\\site-packages (from pandas->plot_keras_history) (2021.1)\n",
      "Requirement already satisfied: compress-json in c:\\anaconda\\envs\\pyakc\\lib\\site-packages (from sanitize-ml-labels->plot_keras_history) (1.0.4)\n",
      "Requirement already satisfied: six in c:\\anaconda\\envs\\pyakc\\lib\\site-packages (from cycler>=0.10->matplotlib->plot_keras_history) (1.15.0)\n"
     ]
    }
   ],
   "source": [
    "!pip install plot_keras_history"
   ]
  },
  {
   "cell_type": "code",
   "execution_count": 2,
   "metadata": {},
   "outputs": [
    {
     "name": "stdout",
     "output_type": "stream",
     "text": [
      "Requirement already satisfied: keras in c:\\anaconda\\envs\\pyakc\\lib\\site-packages (2.3.1)\n",
      "Requirement already satisfied: numpy>=1.9.1 in c:\\anaconda\\envs\\pyakc\\lib\\site-packages (from keras) (1.19.1)\n",
      "Requirement already satisfied: scipy>=0.14 in c:\\anaconda\\envs\\pyakc\\lib\\site-packages (from keras) (1.7.1)\n",
      "Requirement already satisfied: six>=1.9.0 in c:\\anaconda\\envs\\pyakc\\lib\\site-packages (from keras) (1.15.0)\n",
      "Requirement already satisfied: pyyaml in c:\\anaconda\\envs\\pyakc\\lib\\site-packages (from keras) (5.3.1)\n",
      "Requirement already satisfied: h5py in c:\\anaconda\\envs\\pyakc\\lib\\site-packages (from keras) (2.10.0)\n",
      "Requirement already satisfied: keras_applications>=1.0.6 in c:\\anaconda\\envs\\pyakc\\lib\\site-packages (from keras) (1.0.8)\n",
      "Requirement already satisfied: keras_preprocessing>=1.0.5 in c:\\anaconda\\envs\\pyakc\\lib\\site-packages (from keras) (1.1.0)\n"
     ]
    }
   ],
   "source": [
    "!pip install keras"
   ]
  },
  {
   "cell_type": "code",
   "execution_count": 3,
   "metadata": {
    "executionInfo": {
     "elapsed": 922,
     "status": "ok",
     "timestamp": 1610421863990,
     "user": {
      "displayName": "Aobo Wang",
      "photoUrl": "https://lh3.googleusercontent.com/a-/AOh14Gi1R4n3TLad19eGDFJcbKQpak37bv0BcjEpPoimgw=s64",
      "userId": "18082252328038546601"
     },
     "user_tz": -480
    },
    "id": "4OzlTSEZFOj_"
   },
   "outputs": [],
   "source": [
    "# -*- coding: utf-8 -*-\n",
    "\"\"\"\n",
    "Created on Wed Jul 15 21:39:26 2020\n",
    "\n",
    "@author: isswan\n",
    "\"\"\"\n",
    "\n",
    "import pandas as pd\n",
    "import numpy as np\n",
    "\n",
    "from numpy import array\n",
    "from numpy import argmax\n",
    "\n",
    "import sklearn\n",
    "from sklearn.preprocessing import LabelEncoder\n",
    "from sklearn.preprocessing import OneHotEncoder\n",
    "\n",
    "from sklearn.model_selection import train_test_split\n",
    "from sklearn.utils import class_weight\n",
    "from sklearn.metrics import classification_report, accuracy_score, confusion_matrix\n",
    "import joblib\n",
    "import matplotlib.pyplot as plt\n"
   ]
  },
  {
   "cell_type": "code",
   "execution_count": 4,
   "metadata": {},
   "outputs": [
    {
     "name": "stderr",
     "output_type": "stream",
     "text": [
      "Using TensorFlow backend.\n"
     ]
    }
   ],
   "source": [
    "\n",
    "from keras import layers\n",
    "from keras.models import Sequential\n",
    "from keras.preprocessing.text import Tokenizer, one_hot\n",
    "from keras.preprocessing.sequence import pad_sequences\n",
    "from keras.layers import Embedding, Conv1D, GlobalMaxPooling1D,Reshape, Dense, Dropout, Flatten, MaxPooling1D, Input, Concatenate\n",
    "from keras.models import load_model\n",
    "from plot_keras_history import plot_history"
   ]
  },
  {
   "cell_type": "code",
   "execution_count": 5,
   "metadata": {
    "colab": {
     "base_uri": "https://localhost:8080/",
     "height": 329
    },
    "executionInfo": {
     "elapsed": 4304,
     "status": "ok",
     "timestamp": 1610421957640,
     "user": {
      "displayName": "Aobo Wang",
      "photoUrl": "https://lh3.googleusercontent.com/a-/AOh14Gi1R4n3TLad19eGDFJcbKQpak37bv0BcjEpPoimgw=s64",
      "userId": "18082252328038546601"
     },
     "user_tz": -480
    },
    "id": "iU8yZsHLIApG",
    "outputId": "59fc8a35-4750-4576-a11e-cf2d55e01422"
   },
   "outputs": [
    {
     "data": {
      "text/plain": [
       "<Figure size 432x288 with 0 Axes>"
      ]
     },
     "execution_count": 5,
     "metadata": {},
     "output_type": "execute_result"
    },
    {
     "data": {
      "image/png": "[encoded data removed]",
      "text/plain": [
       "<Figure size 432x288 with 9 Axes>"
      ]
     },
     "metadata": {
      "needs_background": "light"
     },
     "output_type": "display_data"
    },
    {
     "data": {
      "text/plain": [
       "<Figure size 432x288 with 0 Axes>"
      ]
     },
     "metadata": {},
     "output_type": "display_data"
    }
   ],
   "source": [
    "#Data Preparation\n",
    "import pandas as pd\n",
    "news=pd.read_table('r8-full-data.txt',header=None,names = [\"Class\", \"Text\"])\n",
    "news.head()\n",
    "a = news.groupby(\"Class\")\n",
    "a.head()\n",
    "a.describe()\n",
    "y=news['Class']\n",
    "X=news['Text']\n",
    "\n",
    "##check the length to determine the document length for DNN\n",
    "\n",
    "length=news['Text'].apply(len)\n",
    "news=news.assign(Length=length)\n",
    "\n",
    "#Plot the distribution of the document length for each category\n",
    "import matplotlib.pyplot as plt\n",
    "news.hist(column='Length',by='Class',bins=50)\n",
    "\n",
    "plt.figure()"
   ]
  },
  {
   "cell_type": "code",
   "execution_count": 6,
   "metadata": {
    "colab": {
     "base_uri": "https://localhost:8080/"
    },
    "executionInfo": {
     "elapsed": 10952,
     "status": "ok",
     "timestamp": 1610422048238,
     "user": {
      "displayName": "Aobo Wang",
      "photoUrl": "https://lh3.googleusercontent.com/a-/AOh14Gi1R4n3TLad19eGDFJcbKQpak37bv0BcjEpPoimgw=s64",
      "userId": "18082252328038546601"
     },
     "user_tz": -480
    },
    "id": "RFHYtfQ4JXZl",
    "outputId": "ee5e209a-1523-49e0-cfb3-2b05b31c8a6f",
    "scrolled": false
   },
   "outputs": [
    {
     "name": "stdout",
     "output_type": "stream",
     "text": [
      "vocabubary size: 19998\n",
      "max length text: 964\n",
      "0.848034803480348\n"
     ]
    }
   ],
   "source": [
    "#Data Preprocessing \n",
    "\n",
    "# Split train & test\n",
    "text_train, text_test, y_train, y_test = train_test_split(X, y, test_size=0.3, random_state=1)\n",
    "\n",
    "#tokenization\n",
    "tokenizer = Tokenizer()\n",
    "tokenizer.fit_on_texts(text_train)\n",
    "X_train = tokenizer.texts_to_sequences(text_train)\n",
    "X_test = tokenizer.texts_to_sequences(text_test)\n",
    "\n",
    "word_index = tokenizer.word_index\n",
    "vocab_size = len(word_index) + 1  # Adding 1 because of reserved 0 index\n",
    "maxlen = max(len(x) for x in X_train) # longest text in train set\n",
    "print('vocabubary size:',vocab_size)\n",
    "print('max length text:',maxlen)\n",
    "\n",
    "#Padding the sentences\n",
    "X_train = pad_sequences(X_train, padding='post', maxlen=maxlen)\n",
    "X_test = pad_sequences(X_test, padding='post', maxlen=maxlen)\n",
    "\n",
    "#embedding dimension should align with the GLOVE\n",
    "embedding_dim = 100\n",
    "vocab_size = len(word_index) + 1\n",
    "\n",
    "GLOVE_6B_100D_PATH =\"glove.6B.100d.txt\"\n",
    "encoding=\"utf-8\"\n",
    "with open(GLOVE_6B_100D_PATH, \"rb\") as lines:\n",
    "    embeddings_index = {line.split()[0].decode(encoding): np.array(line.split()[1:],dtype=np.float32)\n",
    "               for line in lines}\n",
    "\n",
    "# Prepare embedding matrix from pre-trained model\n",
    "embedding_matrix = np.zeros((len(word_index) + 1, embedding_dim))\n",
    "\n",
    "for word, i in word_index.items():\n",
    "    embedding_vector = embeddings_index.get(word)\n",
    "    if embedding_vector is not None:\n",
    "        # words not found in embedding index will be all-zeros.\n",
    "        embedding_matrix[i] = embedding_vector\n",
    "\n",
    "# Check % words with embeddings \n",
    "nonzero_elements = np.count_nonzero(np.count_nonzero(embedding_matrix, axis=1))\n",
    "print(nonzero_elements / vocab_size)   "
   ]
  },
  {
   "cell_type": "code",
   "execution_count": 7,
   "metadata": {
    "colab": {
     "base_uri": "https://localhost:8080/"
    },
    "executionInfo": {
     "elapsed": 868,
     "status": "ok",
     "timestamp": 1610422166676,
     "user": {
      "displayName": "Aobo Wang",
      "photoUrl": "https://lh3.googleusercontent.com/a-/AOh14Gi1R4n3TLad19eGDFJcbKQpak37bv0BcjEpPoimgw=s64",
      "userId": "18082252328038546601"
     },
     "user_tz": -480
    },
    "id": "yHhOokCoFcPC",
    "outputId": "6fce9544-e403-4ccf-d28f-c8ad3e359a7d"
   },
   "outputs": [
    {
     "name": "stderr",
     "output_type": "stream",
     "text": [
      "c:\\anaconda\\envs\\pyakc\\lib\\site-packages\\sklearn\\utils\\validation.py:72: FutureWarning: Pass classes=['acq' 'crude' 'earn' 'grain' 'interest' 'money-fx' 'ship' 'trade'], y=3759    ship\n",
      "2907    ship\n",
      "4935    earn\n",
      "1396    earn\n",
      "931      acq\n",
      "        ... \n",
      "905      acq\n",
      "5192    earn\n",
      "3980    earn\n",
      "235     earn\n",
      "5157    earn\n",
      "Name: Class, Length: 5371, dtype: object as keyword args. From version 1.0 (renaming of 0.25) passing these as positional arguments will result in an error\n",
      "  \"will result in an error\", FutureWarning)\n"
     ]
    },
    {
     "data": {
      "text/plain": [
       "(2303, 8)"
      ]
     },
     "execution_count": 7,
     "metadata": {},
     "output_type": "execute_result"
    }
   ],
   "source": [
    "#create class weight dict for unbanlanced dataset\n",
    "#If 'balanced', class weights will be given by n_samples / (n_classes * np.bincount(y)\n",
    "\n",
    "class_weights = class_weight.compute_class_weight('balanced', np.unique(y_train), y_train)\n",
    "class_weights_d = dict(enumerate(class_weights))\n",
    "\n",
    "##onehot encoding for y\n",
    "def categoricalList2Onehot(listOfClasses):\n",
    "    # integer encode\n",
    "    label_encoder = LabelEncoder()\n",
    "    integer_encoded = label_encoder.fit_transform(listOfClasses)\n",
    "    # binary encode\n",
    "    onehot_encoder = OneHotEncoder(sparse=False)\n",
    "    integer_encoded = integer_encoded.reshape(len(integer_encoded), 1)\n",
    "    onehot_encoded = onehot_encoder.fit_transform(integer_encoded)\n",
    "    \n",
    "    return onehot_encoded\n",
    "\n",
    "y_train_onehot = categoricalList2Onehot(y_train)\n",
    "y_train_onehot.shape\n",
    "y_test_onehot = categoricalList2Onehot(y_test)\n",
    "y_test_onehot.shape"
   ]
  },
  {
   "cell_type": "code",
   "execution_count": 8,
   "metadata": {
    "id": "xzM_Vh2oH6L-"
   },
   "outputs": [
    {
     "ename": "SyntaxError",
     "evalue": "invalid syntax (Temp/ipykernel_24004/3063993384.py, line 4)",
     "output_type": "error",
     "traceback": [
      "\u001b[1;36m  File \u001b[1;32m\"C:\\Users\\anirban\\AppData\\Local\\Temp/ipykernel_24004/3063993384.py\"\u001b[1;36m, line \u001b[1;32m4\u001b[0m\n\u001b[1;33m    model.add(Embedding(input_dim=???, output_dim=???, input_length=maxlen,weights=[embedding_matrix],trainable=False))\u001b[0m\n\u001b[1;37m                                  ^\u001b[0m\n\u001b[1;31mSyntaxError\u001b[0m\u001b[1;31m:\u001b[0m invalid syntax\n"
     ]
    }
   ],
   "source": [
    "# Shallow CNN\n",
    "# Todo: replace the \"???\" with correct piece of code\n",
    "model = Sequential()\n",
    "model.add(Embedding(input_dim=???, output_dim=???, input_length=maxlen,weights=[embedding_matrix],trainable=False))\n",
    "model.add(Conv1D(512, 3, activation='relu'))\n",
    "model.add(GlobalMaxPooling1D())\n",
    "model.add(Dense(8, activation=???))\n",
    "model.compile(optimizer='adam',\n",
    "              loss=???,\n",
    "              metrics=['accuracy'])\n",
    "model.summary()\n"
   ]
  },
  {
   "cell_type": "code",
   "execution_count": null,
   "metadata": {
    "id": "i8HuFgqLJug8"
   },
   "outputs": [],
   "source": [
    "#train the model\n",
    "\n",
    "hist = model.fit(X_train, y_train_onehot,\n",
    "                    class_weight = class_weights_d,\n",
    "                    epochs=5,\n",
    "                    verbose=True,\n",
    "                    validation_data=(X_test, y_test_onehot),\n",
    "                    batch_size=64).history\n",
    "\n",
    "loss, accuracy = model.evaluate(X_train, y_train_onehot, verbose=True)\n",
    "print(\"Training Accuracy: {:.4f}\".format(accuracy))\n",
    "loss, accuracy = model.evaluate(X_test, y_test_onehot, verbose=False)\n",
    "print(\"Testing Accuracy:  {:.4f}\".format(accuracy))\n",
    "plot_history(hist)"
   ]
  },
  {
   "cell_type": "code",
   "execution_count": null,
   "metadata": {
    "id": "aQVjdrrYWqY8"
   },
   "outputs": [],
   "source": [
    "# Excersice : Modify Shallow CNN with dropout Layer\n",
    "#To do: add Dropout layer within the model defination and correct the ???\n",
    "\n",
    "model_dp = Sequential()\n",
    "model_dp.add(Embedding(input_dim=???, output_dim=???, input_length=maxlen,weights=[embedding_matrix],trainable=False))\n",
    "model_dp.add(Conv1D(512, 3, activation='relu'))\n",
    "model_dp.add(GlobalMaxPooling1D())\n",
    "#model_dp.add(Dense(64, activation=???))\n",
    "#dropout layer\n",
    "model_dp.add(Dense(8, activation=???))\n",
    "model_dp.compile(optimizer=???,\n",
    "              loss=???,\n",
    "              metrics=['accuracy'])\n",
    "model_dp.summary()"
   ]
  },
  {
   "cell_type": "code",
   "execution_count": null,
   "metadata": {
    "id": "-6g0bn54W7mC"
   },
   "outputs": [],
   "source": [
    "#train the model\n",
    "\n",
    "hist_dp = model_dp.fit(X_train, y_train_onehot,\n",
    "                    class_weight = class_weights_d,\n",
    "                    epochs=5,\n",
    "                    verbose=True,\n",
    "                    validation_data=(X_test, y_test_onehot),\n",
    "                    batch_size=64).history\n",
    "\n",
    "loss, accuracy = model_dp.evaluate(X_train, y_train_onehot, verbose=True)\n",
    "print(\"Training Accuracy: {:.4f}\".format(accuracy))\n",
    "loss, accuracy = model_dp.evaluate(X_test, y_test_onehot, verbose=False)\n",
    "print(\"Testing Accuracy:  {:.4f}\".format(accuracy))\n",
    "plot_history(hist_dp)"
   ]
  },
  {
   "cell_type": "code",
   "execution_count": null,
   "metadata": {
    "id": "VT74T7V-XBYj"
   },
   "outputs": [],
   "source": [
    "##Deep CNN \n",
    "# define the model\n",
    "from keras.layers.merge import concatenate\n",
    "\n",
    "def define_model(length, vocab_size,embedding_dim):\n",
    "\t# channel 1\n",
    "\tinputs1 = Input(shape=(length,))\n",
    "\tembedding1 = Embedding(vocab_size, embedding_dim,weights=[embedding_matrix],trainable=False)(inputs1)\n",
    "\tconv1 = Conv1D(filters=128, kernel_size=2, activation='relu')(embedding1)\n",
    "\tdrop1 = Dropout(0.5)(conv1)\n",
    "\tpool1 = MaxPooling1D(pool_size=2)(drop1)\n",
    "\tflat1 = Flatten()(pool1)\n",
    "\t# channel 2\n",
    "\tinputs2 = Input(shape=(length,))\n",
    "\tembedding2 = Embedding(vocab_size, embedding_dim,weights=[embedding_matrix],trainable=False)(inputs2)\n",
    "\tconv2 = Conv1D(filters=128, kernel_size=3, activation='relu')(embedding2)\n",
    "\tdrop2 = Dropout(0.5)(conv2)\n",
    "\tpool2 = MaxPooling1D(pool_size=2)(drop2)\n",
    "\tflat2 = Flatten()(pool2)\n",
    "\t# channel 3\n",
    "\tinputs3 = Input(shape=(length,))\n",
    "\tembedding3 = Embedding(vocab_size, embedding_dim,weights=[embedding_matrix],trainable=False)(inputs3)\n",
    "\tconv3 = Conv1D(filters=128, kernel_size=5, activation='relu')(embedding3)\n",
    "\tdrop3 = Dropout(0.5)(conv3)\n",
    "\tpool3 = MaxPooling1D(pool_size=2)(drop3)\n",
    "\tflat3 = Flatten()(pool3)\n",
    "\t# merge\n",
    "\tmerged = concatenate([flat1, flat2, flat3])\n",
    "\t# interpretation\n",
    "\tdense1 = Dense(64, activation='relu')(merged)\n",
    "\toutputs = Dense(8, activation='softmax')(dense1)\n",
    "\tmodel = Model(inputs=[inputs1, inputs2, inputs3], outputs=outputs)\n",
    "\t# compile\n",
    "\tmodel.compile(loss='categorical_crossentropy', optimizer='adam', metrics=['accuracy'])\n",
    "\t# summarize\n",
    "\tprint(model.summary())\n",
    "\treturn model\n",
    "\n",
    "model_deep = define_model(maxlen,vocab_size,embedding_dim)"
   ]
  },
  {
   "cell_type": "code",
   "execution_count": null,
   "metadata": {
    "id": "cQgQXiQIXCKS"
   },
   "outputs": [],
   "source": [
    "#train the model\n",
    "\n",
    "hist_deep = model_deep.fit([X_train,X_train,X_train], y_train_onehot,\n",
    "                    class_weight = class_weights_d,\n",
    "                    epochs=5,\n",
    "                    verbose=True,\n",
    "                    validation_data=([X_test,X_test,X_test], y_test_onehot),\n",
    "                    batch_size=64).history\n",
    "\n",
    "loss, accuracy = model_deep.evaluate([X_train,X_train,X_train], y_train_onehot, verbose=True)\n",
    "print(\"Training Accuracy: {:.4f}\".format(accuracy))\n",
    "loss, accuracy = model_deep.evaluate([X_test,X_test,X_test], y_test_onehot, verbose=False)\n",
    "print(\"Testing Accuracy:  {:.4f}\".format(accuracy))\n",
    "plot_history(hist_deep)"
   ]
  },
  {
   "cell_type": "code",
   "execution_count": null,
   "metadata": {
    "id": "8kqYirJxXPJD"
   },
   "outputs": [],
   "source": [
    "#Compare all the models\n",
    "\n",
    "plt.plot(hist['loss'], label='shallow CNN')\n",
    "plt.plot(hist_dp['loss'], label='CNN with dropout')\n",
    "plt.plot(hist_deep['loss'], label='Deep CNN')\n",
    "plt.legend(loc='upper right')\n",
    "plt.show()\n",
    "\n",
    "plt.plot(hist['val_accuracy'], label='shallow CNN')\n",
    "plt.plot(hist_dp['val_accuracy'], label='CNN with dropout')\n",
    "plt.plot(hist_deep['val_accuracy'], label='Deep CNN')\n",
    "plt.legend(loc='lower right')\n",
    "plt.show()\n"
   ]
  }
 ],
 "metadata": {
  "accelerator": "GPU",
  "colab": {
   "authorship_tag": "ABX9TyMB7j17+d5oajQAHRiTrr1F",
   "collapsed_sections": [],
   "mount_file_id": "1j3Fy_OWyWsBozxftUtwFGgIC6maxrEpg",
   "name": "CNN_Classifier_workshop.ipynb",
   "provenance": []
  },
  "kernelspec": {
   "display_name": "Python 3 (ipykernel)",
   "language": "python",
   "name": "python3"
  },
  "language_info": {
   "codemirror_mode": {
    "name": "ipython",
    "version": 3
   },
   "file_extension": ".py",
   "mimetype": "text/x-python",
   "name": "python",
   "nbconvert_exporter": "python",
   "pygments_lexer": "ipython3",
   "version": "3.7.9"
  }
 },
 "nbformat": 4,
 "nbformat_minor": 1
}
