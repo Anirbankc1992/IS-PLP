{
 "cells": [
  {
   "cell_type": "code",
   "execution_count": 1,
   "metadata": {
    "id": "JvLP7JaZmAse"
   },
   "outputs": [
    {
     "name": "stdout",
     "output_type": "stream",
     "text": [
      "Requirement already satisfied: tensorflow==2.1.0 in c:\\anaconda\\envs\\pyakc\\lib\\site-packages (2.1.0)\n",
      "Requirement already satisfied: keras-preprocessing>=1.1.0 in c:\\anaconda\\envs\\pyakc\\lib\\site-packages (from tensorflow==2.1.0) (1.1.0)\n",
      "Requirement already satisfied: grpcio>=1.8.6 in c:\\anaconda\\envs\\pyakc\\lib\\site-packages (from tensorflow==2.1.0) (1.31.0)\n",
      "Requirement already satisfied: scipy==1.4.1; python_version >= \"3\" in c:\\anaconda\\envs\\pyakc\\lib\\site-packages (from tensorflow==2.1.0) (1.4.1)\n",
      "Requirement already satisfied: tensorboard<2.2.0,>=2.1.0 in c:\\anaconda\\envs\\pyakc\\lib\\site-packages (from tensorflow==2.1.0) (2.1.1)\n",
      "Requirement already satisfied: protobuf>=3.8.0 in c:\\anaconda\\envs\\pyakc\\lib\\site-packages (from tensorflow==2.1.0) (3.13.0)\n",
      "Requirement already satisfied: opt-einsum>=2.3.2 in c:\\anaconda\\envs\\pyakc\\lib\\site-packages (from tensorflow==2.1.0) (3.1.0)\n",
      "Requirement already satisfied: google-pasta>=0.1.6 in c:\\anaconda\\envs\\pyakc\\lib\\site-packages (from tensorflow==2.1.0) (0.2.0)\n",
      "Requirement already satisfied: tensorflow-estimator<2.2.0,>=2.1.0rc0 in c:\\anaconda\\envs\\pyakc\\lib\\site-packages (from tensorflow==2.1.0) (2.1.0)\n",
      "Requirement already satisfied: six>=1.12.0 in c:\\anaconda\\envs\\pyakc\\lib\\site-packages (from tensorflow==2.1.0) (1.15.0)\n",
      "Requirement already satisfied: numpy<2.0,>=1.16.0 in c:\\anaconda\\envs\\pyakc\\lib\\site-packages (from tensorflow==2.1.0) (1.19.1)\n",
      "Requirement already satisfied: wheel>=0.26; python_version >= \"3\" in c:\\anaconda\\envs\\pyakc\\lib\\site-packages (from tensorflow==2.1.0) (0.35.1)\n",
      "Requirement already satisfied: termcolor>=1.1.0 in c:\\anaconda\\envs\\pyakc\\lib\\site-packages (from tensorflow==2.1.0) (1.1.0)\n",
      "Requirement already satisfied: absl-py>=0.7.0 in c:\\anaconda\\envs\\pyakc\\lib\\site-packages (from tensorflow==2.1.0) (0.10.0)\n",
      "Requirement already satisfied: wrapt>=1.11.1 in c:\\anaconda\\envs\\pyakc\\lib\\site-packages (from tensorflow==2.1.0) (1.12.1)\n",
      "Requirement already satisfied: keras-applications>=1.0.8 in c:\\anaconda\\envs\\pyakc\\lib\\site-packages (from tensorflow==2.1.0) (1.0.8)\n",
      "Requirement already satisfied: astor>=0.6.0 in c:\\anaconda\\envs\\pyakc\\lib\\site-packages (from tensorflow==2.1.0) (0.8.1)\n",
      "Requirement already satisfied: gast==0.2.2 in c:\\anaconda\\envs\\pyakc\\lib\\site-packages (from tensorflow==2.1.0) (0.2.2)\n",
      "Requirement already satisfied: google-auth<2,>=1.6.3 in c:\\anaconda\\envs\\pyakc\\lib\\site-packages (from tensorboard<2.2.0,>=2.1.0->tensorflow==2.1.0) (1.22.1)\n",
      "Requirement already satisfied: google-auth-oauthlib<0.5,>=0.4.1 in c:\\anaconda\\envs\\pyakc\\lib\\site-packages (from tensorboard<2.2.0,>=2.1.0->tensorflow==2.1.0) (0.4.1)\n",
      "Requirement already satisfied: requests<3,>=2.21.0 in c:\\anaconda\\envs\\pyakc\\lib\\site-packages (from tensorboard<2.2.0,>=2.1.0->tensorflow==2.1.0) (2.24.0)\n",
      "Requirement already satisfied: werkzeug>=0.11.15 in c:\\anaconda\\envs\\pyakc\\lib\\site-packages (from tensorboard<2.2.0,>=2.1.0->tensorflow==2.1.0) (0.14.1)\n",
      "Requirement already satisfied: markdown>=2.6.8 in c:\\anaconda\\envs\\pyakc\\lib\\site-packages (from tensorboard<2.2.0,>=2.1.0->tensorflow==2.1.0) (3.3.2)\n",
      "Requirement already satisfied: setuptools>=41.0.0 in c:\\anaconda\\envs\\pyakc\\lib\\site-packages (from tensorboard<2.2.0,>=2.1.0->tensorflow==2.1.0) (50.3.0.post20201006)\n",
      "Requirement already satisfied: h5py in c:\\anaconda\\envs\\pyakc\\lib\\site-packages (from keras-applications>=1.0.8->tensorflow==2.1.0) (2.10.0)\n",
      "Requirement already satisfied: rsa<5,>=3.1.4; python_version >= \"3.5\" in c:\\anaconda\\envs\\pyakc\\lib\\site-packages (from google-auth<2,>=1.6.3->tensorboard<2.2.0,>=2.1.0->tensorflow==2.1.0) (4.6)\n",
      "Requirement already satisfied: pyasn1-modules>=0.2.1 in c:\\anaconda\\envs\\pyakc\\lib\\site-packages (from google-auth<2,>=1.6.3->tensorboard<2.2.0,>=2.1.0->tensorflow==2.1.0) (0.2.8)\n",
      "Requirement already satisfied: cachetools<5.0,>=2.0.0 in c:\\anaconda\\envs\\pyakc\\lib\\site-packages (from google-auth<2,>=1.6.3->tensorboard<2.2.0,>=2.1.0->tensorflow==2.1.0) (4.1.1)\n",
      "Requirement already satisfied: requests-oauthlib>=0.7.0 in c:\\anaconda\\envs\\pyakc\\lib\\site-packages (from google-auth-oauthlib<0.5,>=0.4.1->tensorboard<2.2.0,>=2.1.0->tensorflow==2.1.0) (1.3.0)\n",
      "Requirement already satisfied: urllib3!=1.25.0,!=1.25.1,<1.26,>=1.21.1 in c:\\anaconda\\envs\\pyakc\\lib\\site-packages (from requests<3,>=2.21.0->tensorboard<2.2.0,>=2.1.0->tensorflow==2.1.0) (1.25.11)\n",
      "Requirement already satisfied: certifi>=2017.4.17 in c:\\anaconda\\envs\\pyakc\\lib\\site-packages (from requests<3,>=2.21.0->tensorboard<2.2.0,>=2.1.0->tensorflow==2.1.0) (2021.5.30)\n",
      "Requirement already satisfied: chardet<4,>=3.0.2 in c:\\anaconda\\envs\\pyakc\\lib\\site-packages (from requests<3,>=2.21.0->tensorboard<2.2.0,>=2.1.0->tensorflow==2.1.0) (3.0.4)\n",
      "Requirement already satisfied: idna<3,>=2.5 in c:\\anaconda\\envs\\pyakc\\lib\\site-packages (from requests<3,>=2.21.0->tensorboard<2.2.0,>=2.1.0->tensorflow==2.1.0) (2.10)\n",
      "Requirement already satisfied: importlib-metadata; python_version < \"3.8\" in c:\\anaconda\\envs\\pyakc\\lib\\site-packages (from markdown>=2.6.8->tensorboard<2.2.0,>=2.1.0->tensorflow==2.1.0) (4.8.0)\n",
      "Requirement already satisfied: pyasn1>=0.1.3 in c:\\anaconda\\envs\\pyakc\\lib\\site-packages (from rsa<5,>=3.1.4; python_version >= \"3.5\"->google-auth<2,>=1.6.3->tensorboard<2.2.0,>=2.1.0->tensorflow==2.1.0) (0.4.8)\n",
      "Requirement already satisfied: oauthlib>=3.0.0 in c:\\anaconda\\envs\\pyakc\\lib\\site-packages (from requests-oauthlib>=0.7.0->google-auth-oauthlib<0.5,>=0.4.1->tensorboard<2.2.0,>=2.1.0->tensorflow==2.1.0) (3.1.0)\n",
      "Requirement already satisfied: typing-extensions>=3.6.4; python_version < \"3.8\" in c:\\anaconda\\envs\\pyakc\\lib\\site-packages (from importlib-metadata; python_version < \"3.8\"->markdown>=2.6.8->tensorboard<2.2.0,>=2.1.0->tensorflow==2.1.0) (3.10.0.0)\n",
      "Requirement already satisfied: zipp>=0.5 in c:\\anaconda\\envs\\pyakc\\lib\\site-packages (from importlib-metadata; python_version < \"3.8\"->markdown>=2.6.8->tensorboard<2.2.0,>=2.1.0->tensorflow==2.1.0) (3.3.1)\n",
      "Requirement already satisfied: keras==2.3.1 in c:\\anaconda\\envs\\pyakc\\lib\\site-packages (2.3.1)\n",
      "Requirement already satisfied: numpy>=1.9.1 in c:\\anaconda\\envs\\pyakc\\lib\\site-packages (from keras==2.3.1) (1.19.1)\n",
      "Requirement already satisfied: scipy>=0.14 in c:\\anaconda\\envs\\pyakc\\lib\\site-packages (from keras==2.3.1) (1.4.1)\n",
      "Requirement already satisfied: six>=1.9.0 in c:\\anaconda\\envs\\pyakc\\lib\\site-packages (from keras==2.3.1) (1.15.0)\n",
      "Requirement already satisfied: pyyaml in c:\\anaconda\\envs\\pyakc\\lib\\site-packages (from keras==2.3.1) (5.3.1)\n",
      "Requirement already satisfied: h5py in c:\\anaconda\\envs\\pyakc\\lib\\site-packages (from keras==2.3.1) (2.10.0)\n",
      "Requirement already satisfied: keras_applications>=1.0.6 in c:\\anaconda\\envs\\pyakc\\lib\\site-packages (from keras==2.3.1) (1.0.8)\n",
      "Requirement already satisfied: keras_preprocessing>=1.0.5 in c:\\anaconda\\envs\\pyakc\\lib\\site-packages (from keras==2.3.1) (1.1.0)\n"
     ]
    }
   ],
   "source": [
    "!pip install tensorflow==2.1.0\n",
    "!pip install keras==2.3.1"
   ]
  },
  {
   "cell_type": "code",
   "execution_count": 2,
   "metadata": {
    "colab": {
     "base_uri": "https://localhost:8080/"
    },
    "id": "Nx4zEe5-SXWF",
    "outputId": "9c5b6415-b9f6-41f4-f19e-bdcbbca4f393"
   },
   "outputs": [
    {
     "name": "stderr",
     "output_type": "stream",
     "text": [
      "Using TensorFlow backend.\n"
     ]
    },
    {
     "name": "stdout",
     "output_type": "stream",
     "text": [
      "2.3.1\n",
      "2.1.0\n"
     ]
    }
   ],
   "source": [
    "import keras\n",
    "print(keras.__version__)\n",
    "import tensorflow as tf;\n",
    "print(tf.__version__)\n"
   ]
  },
  {
   "cell_type": "code",
   "execution_count": 3,
   "metadata": {},
   "outputs": [],
   "source": [
    "import tensorflow as tf\n",
    "physical_devices = tf.config.list_physical_devices('GPU') \n",
    "for device in physical_devices:\n",
    "    tf.config.experimental.set_memory_growth(device, True)"
   ]
  },
  {
   "cell_type": "code",
   "execution_count": 4,
   "metadata": {
    "id": "6a9kxViHGv33"
   },
   "outputs": [
    {
     "name": "stderr",
     "output_type": "stream",
     "text": [
      "c:\\anaconda\\envs\\pyakc\\lib\\site-packages\\gensim\\similarities\\__init__.py:15: UserWarning: The gensim.similarities.levenshtein submodule is disabled, because the optional Levenshtein package <https://pypi.org/project/python-Levenshtein/> is unavailable. Install Levenhstein (e.g. `pip install python-Levenshtein`) to suppress this warning.\n",
      "  warnings.warn(msg)\n"
     ]
    }
   ],
   "source": [
    "import pandas as pd\n",
    "import numpy as np\n",
    "import string\n",
    "from string import digits\n",
    "import matplotlib.pyplot as plt\n",
    "%matplotlib inline\n",
    "import re\n",
    "from sklearn.model_selection import train_test_split\n",
    "from nltk import word_tokenize\n",
    "from gensim.corpora.dictionary import Dictionary\n",
    "from keras.preprocessing.text import Tokenizer, one_hot"
   ]
  },
  {
   "cell_type": "code",
   "execution_count": 5,
   "metadata": {
    "id": "kfOWnmsBRViz"
   },
   "outputs": [
    {
     "name": "stdout",
     "output_type": "stream",
     "text": [
      "Requirement already satisfied: plot_keras_history in c:\\anaconda\\envs\\pyakc\\lib\\site-packages (1.1.29)\n",
      "Requirement already satisfied: sanitize-ml-labels in c:\\anaconda\\envs\\pyakc\\lib\\site-packages (from plot_keras_history) (1.0.26)\n",
      "Requirement already satisfied: pandas in c:\\anaconda\\envs\\pyakc\\lib\\site-packages (from plot_keras_history) (1.3.2)\n",
      "Requirement already satisfied: scipy in c:\\anaconda\\envs\\pyakc\\lib\\site-packages (from plot_keras_history) (1.4.1)\n",
      "Requirement already satisfied: matplotlib in c:\\anaconda\\envs\\pyakc\\lib\\site-packages (from plot_keras_history) (3.4.3)\n",
      "Requirement already satisfied: compress-json in c:\\anaconda\\envs\\pyakc\\lib\\site-packages (from sanitize-ml-labels->plot_keras_history) (1.0.4)\n",
      "Requirement already satisfied: python-dateutil>=2.7.3 in c:\\anaconda\\envs\\pyakc\\lib\\site-packages (from pandas->plot_keras_history) (2.8.2)\n",
      "Requirement already satisfied: numpy>=1.17.3 in c:\\anaconda\\envs\\pyakc\\lib\\site-packages (from pandas->plot_keras_history) (1.19.1)\n",
      "Requirement already satisfied: pytz>=2017.3 in c:\\anaconda\\envs\\pyakc\\lib\\site-packages (from pandas->plot_keras_history) (2021.1)\n",
      "Requirement already satisfied: cycler>=0.10 in c:\\anaconda\\envs\\pyakc\\lib\\site-packages (from matplotlib->plot_keras_history) (0.10.0)\n",
      "Requirement already satisfied: kiwisolver>=1.0.1 in c:\\anaconda\\envs\\pyakc\\lib\\site-packages (from matplotlib->plot_keras_history) (1.3.2)\n",
      "Requirement already satisfied: pyparsing>=2.2.1 in c:\\anaconda\\envs\\pyakc\\lib\\site-packages (from matplotlib->plot_keras_history) (2.4.7)\n",
      "Requirement already satisfied: pillow>=6.2.0 in c:\\anaconda\\envs\\pyakc\\lib\\site-packages (from matplotlib->plot_keras_history) (8.3.1)\n",
      "Requirement already satisfied: six>=1.5 in c:\\anaconda\\envs\\pyakc\\lib\\site-packages (from python-dateutil>=2.7.3->pandas->plot_keras_history) (1.15.0)\n"
     ]
    }
   ],
   "source": [
    "!pip install plot_keras_history"
   ]
  },
  {
   "cell_type": "code",
   "execution_count": 6,
   "metadata": {
    "id": "dJGUagKRHYvg"
   },
   "outputs": [],
   "source": [
    "fullines= pd.read_csv('kopitiam.csv', header = 0)\n",
    "\n",
    "\n",
    "\n",
    "#Any pairwise and sequence data can be processed\n",
    "#Not only for translation OR Everything is \"translation\"\n",
    "#For example: \n",
    "  #Question , Answer pairs\n",
    "  #Image , caption pairs\n",
    "  #song , lyric pairs\n"
   ]
  },
  {
   "cell_type": "raw",
   "metadata": {
    "colab": {
     "base_uri": "https://localhost:8080/"
    },
    "id": "2LGVpf94kCOz",
    "outputId": "af8bf1bb-0b14-4916-d271-318db19e8cba"
   },
   "source": [
    "from google.colab import drive\n",
    "drive.mount('/content/drive')"
   ]
  },
  {
   "cell_type": "code",
   "execution_count": 7,
   "metadata": {
    "colab": {
     "base_uri": "https://localhost:8080/"
    },
    "id": "pYFRiZRsSYwu",
    "outputId": "c1134807-5473-4f6e-c62a-e6a9d597b2ed"
   },
   "outputs": [
    {
     "name": "stdout",
     "output_type": "stream",
     "text": [
      "           SeqA                                    SeqB\n",
      "0        Kopi O                 Black Coffee with Sugar\n",
      "1          Kopi        Black Coffee with Condensed Milk\n",
      "2        Kopi C       Black Coffee with Evaporated Milk\n",
      "3   Kopi Kosong      Black Coffee without sugar or milk\n",
      "4  Kopi Gah Dai  Black Coffee with extra condensed milk\n"
     ]
    }
   ],
   "source": [
    "print(fullines.head())"
   ]
  },
  {
   "cell_type": "code",
   "execution_count": 8,
   "metadata": {
    "id": "bBo654coK2g-"
   },
   "outputs": [],
   "source": [
    "#Data Preprocessing \n",
    "#Will differ according to the nature of the data. \n",
    "#This step is important!!! and time consuming!!!!\n",
    "\n",
    "#Lowercase\n",
    "fullines.SeqA=fullines.SeqA.apply(lambda x: x.lower())\n",
    "fullines.SeqB=fullines.SeqB.apply(lambda x: x.lower())\n",
    "\n",
    "#remove digits\n",
    "remove_digits = str.maketrans('', '', digits)\n",
    "fullines.SeqA=fullines.SeqA.apply(lambda x: x.translate(remove_digits))\n",
    "fullines.SeqB=fullines.SeqB.apply(lambda x: x.translate(remove_digits))\n",
    "\n",
    "#Special for Decoder SeqB\n",
    "fullines.SeqB = fullines.SeqB.apply(lambda x : '$START '+ x + ' END$')\n",
    "\n",
    "fullines.head()\n",
    "\n",
    "lines, testlines =  train_test_split(fullines, train_size = 0.8,random_state=9)\n",
    "\n"
   ]
  },
  {
   "cell_type": "code",
   "execution_count": 9,
   "metadata": {
    "colab": {
     "base_uri": "https://localhost:8080/"
    },
    "id": "jNcP2VyUR9_X",
    "outputId": "0a31830c-8985-4c43-d993-f7295b014004"
   },
   "outputs": [
    {
     "name": "stdout",
     "output_type": "stream",
     "text": [
      "           SeqA                                               SeqB\n",
      "0        kopi o                $START black coffee with sugar END$\n",
      "1          kopi       $START black coffee with condensed milk END$\n",
      "2        kopi c      $START black coffee with evaporated milk END$\n",
      "3   kopi kosong     $START black coffee without sugar or milk END$\n",
      "4  kopi gah dai  $START black coffee with extra condensed milk ...\n"
     ]
    }
   ],
   "source": [
    "print(fullines.head())"
   ]
  },
  {
   "cell_type": "code",
   "execution_count": 10,
   "metadata": {
    "colab": {
     "base_uri": "https://localhost:8080/"
    },
    "id": "XMtB_nxdRcti",
    "outputId": "1c5cd4ea-d269-4852-8487-0f6d496ac837"
   },
   "outputs": [
    {
     "name": "stdout",
     "output_type": "stream",
     "text": [
      "[[1, 5], [1, 7], [2, 4], [1, 6], [1, 7, 10, 3], [1, 7], [2, 29], [2, 6], [2, 6], [1, 4, 5]]\n",
      "vocabubary size: 63\n",
      "max length text: 5\n"
     ]
    }
   ],
   "source": [
    "#tokenize and index the sequence A\n",
    "\n",
    "tokenizer_A = Tokenizer()\n",
    "tokenizer_A.fit_on_texts(lines.SeqA)\n",
    "\n",
    "seqA = tokenizer_A.texts_to_sequences(lines.SeqA)\n",
    "print(seqA[0:10])\n",
    "word_index_A = tokenizer_A.word_index\n",
    "\n",
    "vocab_size_A = len(word_index_A) + 1  # Adding 1 because of reserved 0 index by Tokenizer\n",
    "maxlen_A = max(len(x) for x in seqA) # longest text in train set\n",
    "print('vocabubary size:',vocab_size_A)\n",
    "print('max length text:',maxlen_A)\n"
   ]
  },
  {
   "cell_type": "code",
   "execution_count": 11,
   "metadata": {
    "colab": {
     "base_uri": "https://localhost:8080/"
    },
    "id": "kT2BENUbSbOc",
    "outputId": "889cbe97-b90f-41fd-c6d5-39dfe0ebf196"
   },
   "outputs": [
    {
     "name": "stdout",
     "output_type": "stream",
     "text": [
      "[[1, 12, 5, 15, 6, 22, 4, 2], [1, 23, 5, 3, 9, 4, 2], [1, 7, 3, 6, 28, 2], [1, 12, 5, 3, 13, 4, 2], [1, 10, 5, 3, 9, 4, 8, 11, 5, 14, 8, 11, 6, 2], [1, 10, 5, 3, 9, 4, 8, 6, 8, 11, 5, 14, 2], [1, 7, 3, 13, 4, 2], [1, 10, 7, 3, 13, 4, 8, 6, 2], [1, 7, 3, 13, 4, 8, 6, 40, 17, 9, 4, 2], [1, 5, 15, 6, 22, 4, 2]]\n",
      "{'$start': 1, 'end$': 2, 'with': 3, 'milk': 4, 'coffee': 5, 'sugar': 6, 'tea': 7, 'and': 8, 'condensed': 9, 'hot': 10, 'more': 11, 'black': 12, 'evaporated': 13, 'powder': 14, 'without': 15, 'lesser': 16, 'of': 17, 'less': 18, 'iced': 19, 'water': 20, 'milo': 21, 'or': 22, 'strong': 23, 'but': 24, 'the': 25, 'no': 26, 'added': 27, 'only': 28, 'brew': 29, 'a': 30, 'to': 31, 'version': 32, 'initial': 33, 'ice': 34, 'weaker': 35, 'horlicks': 36, 'pulled': 37, 'is': 38, 'ginger': 39, 'instead': 40, 'they': 41, 'add': 42, 'iced\\xa0tea': 43, 'heaviest': 44, 'purest': 45, 'at': 46, 'all': 47, 'simply': 48, 'any': 49, 'kind': 50, 'weak': 51, 'thicker': 52, 'robust': 53, 'for': 54, 'heavier': 55, 'taste': 56, 'malay': 57, 'stout': 58, 'served': 59, 'teabag': 60, 'includes': 61, 'bean': 62, 'undissolved': 63, 'lemon': 64, 'chinese': 65, 'extra': 66, 'frothy': 67, 'sweet': 68, 'thinner': 69, 'dilute': 70, 'beverage': 71, 'described': 72, 'above': 73, 'cofee': 74, 'cappuccino': 75, 'concentration': 76, 'guinness': 77, 'chrysanthemum': 78, 'soya': 79, 'mixed': 80, 'grass': 81, 'jelly': 82, '‘pulled’': 83, 'specialty': 84, 'plus': 85, 'very': 86, 'lager': 87, 'guiness': 88, 'as': 89, 'topping': 90, 'home': 91, 'brewed': 92, 'chin': 93, 'chow': 94, 'soy': 95, 'pepsi': 96, 'cola': 97, 'kickapoo': 98, 'in': 99, 'bags': 100, 'thin': 101, 'takeaway': 102, 'scoop': 103, 'on': 104, 'top': 105, 'rose': 106, 'syrup': 107, 'drink': 108}\n",
      "vocabubary size: 109\n",
      "max length text: 17\n"
     ]
    }
   ],
   "source": [
    "#tokenize and index the sequence B\n",
    "\n",
    "tokenizer_B = Tokenizer(filters='!\"#%&()*+,-./:;<=>?@[\\\\]^_`{|}~\\t\\n',)\n",
    "tokenizer_B.fit_on_texts(lines.SeqB)\n",
    "\n",
    "seqB = tokenizer_B.texts_to_sequences(lines.SeqB)\n",
    "print(seqB[0:10])\n",
    "word_index_B = tokenizer_B.word_index\n",
    "\n",
    "print(word_index_B)\n",
    "\n",
    "vocab_size_B = len(word_index_B) + 1  # Adding 1 because of reserved 0 index by Tokenizer\n",
    "maxlen_B = max(len(x) for x in seqB) # longest text in train set\n",
    "print('vocabubary size:',vocab_size_B)\n",
    "print('max length text:',maxlen_B)"
   ]
  },
  {
   "cell_type": "code",
   "execution_count": 12,
   "metadata": {
    "id": "WofBOOxCSzFh"
   },
   "outputs": [],
   "source": [
    "# seqA_vec -> encoder -> seqB_vec -> decoder -> seqB_one-hot-matrix (ahead by one timestep)\n",
    "\n",
    "# First define the vectors' shape with all 0s as value\n",
    "\n",
    "encoder_input_data = np.zeros((len(seqA), maxlen_A, vocab_size_A), dtype='float32')\n",
    "decoder_input_data = np.zeros((len(seqA), maxlen_B, vocab_size_B), dtype='float32')\n",
    "decoder_target_data = np.zeros((len(seqA), maxlen_B, vocab_size_B),dtype='float32')\n"
   ]
  },
  {
   "cell_type": "code",
   "execution_count": 13,
   "metadata": {
    "id": "3D7T4v9DWxfu"
   },
   "outputs": [],
   "source": [
    "#Then populate the word_index as the value\n",
    "for i, (input_text, target_text) in enumerate(zip(seqA, seqB)):\n",
    "    for t, word_id in enumerate(input_text):\n",
    "        encoder_input_data[i, t, word_id] = 1.\n",
    "#    encoder_input_data[i, t + 1:, input_token_index[' ']] = 1.\n",
    "    for t, word_id in enumerate(target_text):\n",
    "        # decoder_target_data is ahead of decoder_input_data by one timestep\n",
    "        decoder_input_data[i, t, word_id] = 1.\n",
    "        if t > 0:\n",
    "            # decoder_target_data will be ahead by one timestep\n",
    "            # and will not include the start character.\n",
    "            decoder_target_data[i, t - 1, word_id] = 1.0\n",
    "    #decoder_input_data[i, t + 1:, target_token_index[' ']] = 1.\n",
    "    #decoder_target_data[i, t:, target_token_index[' ']] = 1.\n"
   ]
  },
  {
   "cell_type": "code",
   "execution_count": 14,
   "metadata": {
    "colab": {
     "base_uri": "https://localhost:8080/"
    },
    "id": "mLwuoSaOaVDK",
    "outputId": "a038c1bb-e6df-41da-c1b2-92b1cf247d5b"
   },
   "outputs": [
    {
     "name": "stdout",
     "output_type": "stream",
     "text": [
      "encoder:\n",
      "[[0. 1. 0. 0. 0. 0. 0. 0. 0. 0. 0. 0. 0. 0. 0. 0. 0. 0. 0. 0. 0. 0. 0. 0.\n",
      "  0. 0. 0. 0. 0. 0. 0. 0. 0. 0. 0. 0. 0. 0. 0. 0. 0. 0. 0. 0. 0. 0. 0. 0.\n",
      "  0. 0. 0. 0. 0. 0. 0. 0. 0. 0. 0. 0. 0. 0. 0.]\n",
      " [0. 0. 0. 0. 0. 1. 0. 0. 0. 0. 0. 0. 0. 0. 0. 0. 0. 0. 0. 0. 0. 0. 0. 0.\n",
      "  0. 0. 0. 0. 0. 0. 0. 0. 0. 0. 0. 0. 0. 0. 0. 0. 0. 0. 0. 0. 0. 0. 0. 0.\n",
      "  0. 0. 0. 0. 0. 0. 0. 0. 0. 0. 0. 0. 0. 0. 0.]\n",
      " [0. 0. 0. 0. 0. 0. 0. 0. 0. 0. 0. 0. 0. 0. 0. 0. 0. 0. 0. 0. 0. 0. 0. 0.\n",
      "  0. 0. 0. 0. 0. 0. 0. 0. 0. 0. 0. 0. 0. 0. 0. 0. 0. 0. 0. 0. 0. 0. 0. 0.\n",
      "  0. 0. 0. 0. 0. 0. 0. 0. 0. 0. 0. 0. 0. 0. 0.]\n",
      " [0. 0. 0. 0. 0. 0. 0. 0. 0. 0. 0. 0. 0. 0. 0. 0. 0. 0. 0. 0. 0. 0. 0. 0.\n",
      "  0. 0. 0. 0. 0. 0. 0. 0. 0. 0. 0. 0. 0. 0. 0. 0. 0. 0. 0. 0. 0. 0. 0. 0.\n",
      "  0. 0. 0. 0. 0. 0. 0. 0. 0. 0. 0. 0. 0. 0. 0.]\n",
      " [0. 0. 0. 0. 0. 0. 0. 0. 0. 0. 0. 0. 0. 0. 0. 0. 0. 0. 0. 0. 0. 0. 0. 0.\n",
      "  0. 0. 0. 0. 0. 0. 0. 0. 0. 0. 0. 0. 0. 0. 0. 0. 0. 0. 0. 0. 0. 0. 0. 0.\n",
      "  0. 0. 0. 0. 0. 0. 0. 0. 0. 0. 0. 0. 0. 0. 0.]]\n",
      "[[0. 1. 0. ... 0. 0. 0.]\n",
      " [0. 0. 0. ... 0. 0. 0.]\n",
      " [0. 0. 0. ... 0. 0. 0.]\n",
      " ...\n",
      " [0. 0. 0. ... 0. 0. 0.]\n",
      " [0. 0. 0. ... 0. 0. 0.]\n",
      " [0. 0. 0. ... 0. 0. 0.]]\n",
      "target:\n",
      "[0. 0. 0. 0. 0. 0. 0. 0. 0. 0. 0. 0. 1. 0. 0. 0. 0. 0. 0. 0. 0. 0. 0. 0.\n",
      " 0. 0. 0. 0. 0. 0. 0. 0. 0. 0. 0. 0. 0. 0. 0. 0. 0. 0. 0. 0. 0. 0. 0. 0.\n",
      " 0. 0. 0. 0. 0. 0. 0. 0. 0. 0. 0. 0. 0. 0. 0. 0. 0. 0. 0. 0. 0. 0. 0. 0.\n",
      " 0. 0. 0. 0. 0. 0. 0. 0. 0. 0. 0. 0. 0. 0. 0. 0. 0. 0. 0. 0. 0. 0. 0. 0.\n",
      " 0. 0. 0. 0. 0. 0. 0. 0. 0. 0. 0. 0. 0.]\n",
      "[0. 0. 0. 0. 0. 1. 0. 0. 0. 0. 0. 0. 0. 0. 0. 0. 0. 0. 0. 0. 0. 0. 0. 0.\n",
      " 0. 0. 0. 0. 0. 0. 0. 0. 0. 0. 0. 0. 0. 0. 0. 0. 0. 0. 0. 0. 0. 0. 0. 0.\n",
      " 0. 0. 0. 0. 0. 0. 0. 0. 0. 0. 0. 0. 0. 0. 0. 0. 0. 0. 0. 0. 0. 0. 0. 0.\n",
      " 0. 0. 0. 0. 0. 0. 0. 0. 0. 0. 0. 0. 0. 0. 0. 0. 0. 0. 0. 0. 0. 0. 0. 0.\n",
      " 0. 0. 0. 0. 0. 0. 0. 0. 0. 0. 0. 0. 0.]\n",
      "[0. 0. 0. 0. 0. 0. 0. 0. 0. 0. 0. 0. 0. 0. 0. 1. 0. 0. 0. 0. 0. 0. 0. 0.\n",
      " 0. 0. 0. 0. 0. 0. 0. 0. 0. 0. 0. 0. 0. 0. 0. 0. 0. 0. 0. 0. 0. 0. 0. 0.\n",
      " 0. 0. 0. 0. 0. 0. 0. 0. 0. 0. 0. 0. 0. 0. 0. 0. 0. 0. 0. 0. 0. 0. 0. 0.\n",
      " 0. 0. 0. 0. 0. 0. 0. 0. 0. 0. 0. 0. 0. 0. 0. 0. 0. 0. 0. 0. 0. 0. 0. 0.\n",
      " 0. 0. 0. 0. 0. 0. 0. 0. 0. 0. 0. 0. 0.]\n"
     ]
    }
   ],
   "source": [
    "#check the index for the first pair \n",
    "print(\"encoder:\")\n",
    "print(encoder_input_data[0])\n",
    "print(decoder_input_data[0])\n",
    "print(\"target:\")\n",
    "print(decoder_target_data[0,0])\n",
    "print(decoder_target_data[0,1])\n",
    "print(decoder_target_data[0,2])"
   ]
  },
  {
   "cell_type": "code",
   "execution_count": 15,
   "metadata": {
    "colab": {
     "base_uri": "https://localhost:8080/"
    },
    "id": "iMfJYAVlbLLG",
    "outputId": "fa1f9584-7ef9-42a4-c00a-d39bd3296c22"
   },
   "outputs": [
    {
     "name": "stdout",
     "output_type": "stream",
     "text": [
      "Model: \"model_1\"\n",
      "__________________________________________________________________________________________________\n",
      "Layer (type)                    Output Shape         Param #     Connected to                     \n",
      "==================================================================================================\n",
      "input_1 (InputLayer)            (None, None, 63)     0                                            \n",
      "__________________________________________________________________________________________________\n",
      "input_2 (InputLayer)            (None, None, 109)    0                                            \n",
      "__________________________________________________________________________________________________\n",
      "lstm_1 (LSTM)                   [(None, 32), (None,  12288       input_1[0][0]                    \n",
      "__________________________________________________________________________________________________\n",
      "lstm_2 (LSTM)                   [(None, None, 32), ( 18176       input_2[0][0]                    \n",
      "                                                                 lstm_1[0][1]                     \n",
      "                                                                 lstm_1[0][2]                     \n",
      "__________________________________________________________________________________________________\n",
      "dense_1 (Dense)                 (None, None, 109)    3597        lstm_2[0][0]                     \n",
      "==================================================================================================\n",
      "Total params: 34,061\n",
      "Trainable params: 34,061\n",
      "Non-trainable params: 0\n",
      "__________________________________________________________________________________________________\n"
     ]
    }
   ],
   "source": [
    "#Build Seq2Seq model using LSTM\n",
    "\n",
    "embedding_size = 64\n",
    "hidden_dim = 32\n",
    "\n",
    "from keras.layers import Input, LSTM, Embedding, Dense\n",
    "from keras.models import Model\n",
    "from keras.utils import plot_model\n",
    "\n",
    "\n",
    "#Encoder Part: {encoder_input -> lstm} -> encoder_states\n",
    "encoder_inputs = Input(shape=(None, vocab_size_A))\n",
    "encoder = LSTM(hidden_dim, return_state=True)\n",
    "encoder_outputs, state_h, state_c = encoder(encoder_inputs)\n",
    "encoder_states = [state_h, state_c]\n",
    "\n",
    "\n",
    "# Decoder Part:{[decoder_input , encoder_states] ----> lstm} --> last_dense_layer\n",
    "decoder_inputs = Input(shape=(None, vocab_size_B))\n",
    "decoder_lstm = LSTM(hidden_dim, return_sequences=True, return_state=True)#define lstm\n",
    "decoder_outputs, _, _ = decoder_lstm(decoder_inputs,initial_state=encoder_states)#link: [decoder_input,encoder_states] ----> lstm\n",
    "decoder_dense = Dense(vocab_size_B, activation='softmax')#define last_dense_layer\n",
    "decoder_outputs = decoder_dense(decoder_outputs)#link:{[decoder_input,encoder_states] ----> lstm} -> last_dense_layer\n",
    "\n",
    "#Link encoder -> decoder \n",
    "model = Model([encoder_inputs, decoder_inputs], decoder_outputs)\n",
    "\n",
    "model.compile(optimizer='rmsprop', loss='categorical_crossentropy',\n",
    "              metrics=['accuracy'])\n",
    "\n",
    "model.summary()"
   ]
  },
  {
   "cell_type": "code",
   "execution_count": 16,
   "metadata": {
    "colab": {
     "base_uri": "https://localhost:8080/"
    },
    "id": "wJ2Tw6fsUIC8",
    "outputId": "01ed6b2b-5b55-44db-80fa-9ac3828dedae",
    "scrolled": true
   },
   "outputs": [
    {
     "name": "stdout",
     "output_type": "stream",
     "text": [
      "Train on 107 samples, validate on 27 samples\n",
      "Epoch 1/200\n",
      "107/107 [==============================] - 1s 10ms/step - loss: 2.0504 - accuracy: 0.0429 - val_loss: 1.8844 - val_accuracy: 0.0654\n",
      "Epoch 2/200\n",
      "107/107 [==============================] - 0s 2ms/step - loss: 1.9485 - accuracy: 0.0588 - val_loss: 1.6962 - val_accuracy: 0.0588\n",
      "Epoch 3/200\n",
      "107/107 [==============================] - 0s 2ms/step - loss: 1.7155 - accuracy: 0.0583 - val_loss: 1.4835 - val_accuracy: 0.0588\n",
      "Epoch 4/200\n",
      "107/107 [==============================] - 0s 2ms/step - loss: 1.5778 - accuracy: 0.0588 - val_loss: 1.4047 - val_accuracy: 0.0588\n",
      "Epoch 5/200\n",
      "107/107 [==============================] - 0s 2ms/step - loss: 1.5276 - accuracy: 0.0594 - val_loss: 1.3723 - val_accuracy: 0.0588\n",
      "Epoch 6/200\n",
      "107/107 [==============================] - 0s 2ms/step - loss: 1.5020 - accuracy: 0.0720 - val_loss: 1.3601 - val_accuracy: 0.0915\n",
      "Epoch 7/200\n",
      "107/107 [==============================] - 0s 3ms/step - loss: 1.4828 - accuracy: 0.0896 - val_loss: 1.3460 - val_accuracy: 0.1068\n",
      "Epoch 8/200\n",
      "107/107 [==============================] - 0s 2ms/step - loss: 1.4690 - accuracy: 0.1072 - val_loss: 1.3376 - val_accuracy: 0.1068\n",
      "Epoch 9/200\n",
      "107/107 [==============================] - 0s 2ms/step - loss: 1.4545 - accuracy: 0.1023 - val_loss: 1.3279 - val_accuracy: 0.1198\n",
      "Epoch 10/200\n",
      "107/107 [==============================] - 0s 2ms/step - loss: 1.4393 - accuracy: 0.1017 - val_loss: 1.3188 - val_accuracy: 0.1089\n",
      "Epoch 11/200\n",
      "107/107 [==============================] - 0s 2ms/step - loss: 1.4259 - accuracy: 0.1100 - val_loss: 1.3073 - val_accuracy: 0.1176\n",
      "Epoch 12/200\n",
      "107/107 [==============================] - 0s 2ms/step - loss: 1.4128 - accuracy: 0.1094 - val_loss: 1.2990 - val_accuracy: 0.1198\n",
      "Epoch 13/200\n",
      "107/107 [==============================] - 0s 2ms/step - loss: 1.3992 - accuracy: 0.1089 - val_loss: 1.2909 - val_accuracy: 0.1111\n",
      "Epoch 14/200\n",
      "107/107 [==============================] - 0s 2ms/step - loss: 1.3856 - accuracy: 0.1089 - val_loss: 1.2807 - val_accuracy: 0.1198\n",
      "Epoch 15/200\n",
      "107/107 [==============================] - 0s 2ms/step - loss: 1.3707 - accuracy: 0.1143 - val_loss: 1.2684 - val_accuracy: 0.1133\n",
      "Epoch 16/200\n",
      "107/107 [==============================] - 0s 2ms/step - loss: 1.3560 - accuracy: 0.1143 - val_loss: 1.2593 - val_accuracy: 0.1155\n",
      "Epoch 17/200\n",
      "107/107 [==============================] - 0s 2ms/step - loss: 1.3400 - accuracy: 0.1171 - val_loss: 1.2540 - val_accuracy: 0.1264\n",
      "Epoch 18/200\n",
      "107/107 [==============================] - 0s 2ms/step - loss: 1.3246 - accuracy: 0.1226 - val_loss: 1.2384 - val_accuracy: 0.1133\n",
      "Epoch 19/200\n",
      "107/107 [==============================] - 0s 2ms/step - loss: 1.3122 - accuracy: 0.1248 - val_loss: 1.2312 - val_accuracy: 0.1220\n",
      "Epoch 20/200\n",
      "107/107 [==============================] - 0s 2ms/step - loss: 1.2962 - accuracy: 0.1325 - val_loss: 1.2198 - val_accuracy: 0.1176\n",
      "Epoch 21/200\n",
      "107/107 [==============================] - 0s 2ms/step - loss: 1.2837 - accuracy: 0.1264 - val_loss: 1.2202 - val_accuracy: 0.1242\n",
      "Epoch 22/200\n",
      "107/107 [==============================] - 0s 2ms/step - loss: 1.2690 - accuracy: 0.1341 - val_loss: 1.2086 - val_accuracy: 0.1351\n",
      "Epoch 23/200\n",
      "107/107 [==============================] - 0s 2ms/step - loss: 1.2547 - accuracy: 0.1341 - val_loss: 1.1989 - val_accuracy: 0.1373\n",
      "Epoch 24/200\n",
      "107/107 [==============================] - 0s 2ms/step - loss: 1.2412 - accuracy: 0.1363 - val_loss: 1.1905 - val_accuracy: 0.1307\n",
      "Epoch 25/200\n",
      "107/107 [==============================] - 0s 2ms/step - loss: 1.2298 - accuracy: 0.1396 - val_loss: 1.1885 - val_accuracy: 0.1285\n",
      "Epoch 26/200\n",
      "107/107 [==============================] - 0s 2ms/step - loss: 1.2174 - accuracy: 0.1413 - val_loss: 1.1777 - val_accuracy: 0.1307\n",
      "Epoch 27/200\n",
      "107/107 [==============================] - 0s 2ms/step - loss: 1.2055 - accuracy: 0.1380 - val_loss: 1.1734 - val_accuracy: 0.1329\n",
      "Epoch 28/200\n",
      "107/107 [==============================] - 0s 2ms/step - loss: 1.1929 - accuracy: 0.1446 - val_loss: 1.1649 - val_accuracy: 0.1351\n",
      "Epoch 29/200\n",
      "107/107 [==============================] - 0s 2ms/step - loss: 1.1811 - accuracy: 0.1473 - val_loss: 1.1590 - val_accuracy: 0.1351\n",
      "Epoch 30/200\n",
      "107/107 [==============================] - 0s 2ms/step - loss: 1.1681 - accuracy: 0.1468 - val_loss: 1.1506 - val_accuracy: 0.1503\n",
      "Epoch 31/200\n",
      "107/107 [==============================] - 0s 2ms/step - loss: 1.1586 - accuracy: 0.1479 - val_loss: 1.1485 - val_accuracy: 0.1394\n",
      "Epoch 32/200\n",
      "107/107 [==============================] - 0s 2ms/step - loss: 1.1468 - accuracy: 0.1501 - val_loss: 1.1413 - val_accuracy: 0.1416\n",
      "Epoch 33/200\n",
      "107/107 [==============================] - 0s 2ms/step - loss: 1.1364 - accuracy: 0.1556 - val_loss: 1.1405 - val_accuracy: 0.1460\n",
      "Epoch 34/200\n",
      "107/107 [==============================] - 0s 2ms/step - loss: 1.1256 - accuracy: 0.1567 - val_loss: 1.1299 - val_accuracy: 0.1460\n",
      "Epoch 35/200\n",
      "107/107 [==============================] - 0s 2ms/step - loss: 1.1145 - accuracy: 0.1578 - val_loss: 1.1339 - val_accuracy: 0.1460\n",
      "Epoch 36/200\n",
      "107/107 [==============================] - 0s 2ms/step - loss: 1.1027 - accuracy: 0.1611 - val_loss: 1.1228 - val_accuracy: 0.1438\n",
      "Epoch 37/200\n",
      "107/107 [==============================] - 0s 2ms/step - loss: 1.0927 - accuracy: 0.1627 - val_loss: 1.1183 - val_accuracy: 0.1438\n",
      "Epoch 38/200\n",
      "107/107 [==============================] - 0s 2ms/step - loss: 1.0830 - accuracy: 0.1655 - val_loss: 1.1143 - val_accuracy: 0.1481\n",
      "Epoch 39/200\n",
      "107/107 [==============================] - 0s 2ms/step - loss: 1.0715 - accuracy: 0.1688 - val_loss: 1.1102 - val_accuracy: 0.1503\n",
      "Epoch 40/200\n",
      "107/107 [==============================] - 0s 2ms/step - loss: 1.0617 - accuracy: 0.1748 - val_loss: 1.1125 - val_accuracy: 0.1503\n",
      "Epoch 41/200\n",
      "107/107 [==============================] - 0s 2ms/step - loss: 1.0510 - accuracy: 0.1737 - val_loss: 1.1033 - val_accuracy: 0.1481\n",
      "Epoch 42/200\n",
      "107/107 [==============================] - 0s 2ms/step - loss: 1.0414 - accuracy: 0.1748 - val_loss: 1.1100 - val_accuracy: 0.1547\n",
      "Epoch 43/200\n",
      "107/107 [==============================] - 0s 2ms/step - loss: 1.0306 - accuracy: 0.1803 - val_loss: 1.0979 - val_accuracy: 0.1612\n",
      "Epoch 44/200\n",
      "107/107 [==============================] - 0s 2ms/step - loss: 1.0204 - accuracy: 0.1781 - val_loss: 1.0985 - val_accuracy: 0.1634\n",
      "Epoch 45/200\n",
      "107/107 [==============================] - 0s 2ms/step - loss: 1.0106 - accuracy: 0.1853 - val_loss: 1.0931 - val_accuracy: 0.1678\n",
      "Epoch 46/200\n",
      "107/107 [==============================] - 0s 2ms/step - loss: 0.9992 - accuracy: 0.1891 - val_loss: 1.0870 - val_accuracy: 0.1612\n",
      "Epoch 47/200\n",
      "107/107 [==============================] - 0s 2ms/step - loss: 0.9877 - accuracy: 0.1919 - val_loss: 1.0819 - val_accuracy: 0.1634\n",
      "Epoch 48/200\n",
      "107/107 [==============================] - 0s 2ms/step - loss: 0.9781 - accuracy: 0.1930 - val_loss: 1.0793 - val_accuracy: 0.1634\n",
      "Epoch 49/200\n",
      "107/107 [==============================] - 0s 2ms/step - loss: 0.9678 - accuracy: 0.1930 - val_loss: 1.0734 - val_accuracy: 0.1634\n",
      "Epoch 50/200\n",
      "107/107 [==============================] - 0s 2ms/step - loss: 0.9561 - accuracy: 0.1946 - val_loss: 1.0743 - val_accuracy: 0.1634\n",
      "Epoch 51/200\n",
      "107/107 [==============================] - 0s 2ms/step - loss: 0.9475 - accuracy: 0.1919 - val_loss: 1.0709 - val_accuracy: 0.1743\n",
      "Epoch 52/200\n",
      "107/107 [==============================] - 0s 2ms/step - loss: 0.9367 - accuracy: 0.1990 - val_loss: 1.0656 - val_accuracy: 0.1765\n",
      "Epoch 53/200\n",
      "107/107 [==============================] - 0s 2ms/step - loss: 0.9271 - accuracy: 0.2040 - val_loss: 1.0578 - val_accuracy: 0.1808\n",
      "Epoch 54/200\n",
      "107/107 [==============================] - 0s 2ms/step - loss: 0.9157 - accuracy: 0.2001 - val_loss: 1.0551 - val_accuracy: 0.1874\n",
      "Epoch 55/200\n",
      "107/107 [==============================] - 0s 2ms/step - loss: 0.9077 - accuracy: 0.2007 - val_loss: 1.0539 - val_accuracy: 0.1699\n",
      "Epoch 56/200\n",
      "107/107 [==============================] - 0s 2ms/step - loss: 0.8945 - accuracy: 0.2128 - val_loss: 1.0489 - val_accuracy: 0.1743\n",
      "Epoch 57/200\n"
     ]
    },
    {
     "name": "stdout",
     "output_type": "stream",
     "text": [
      "107/107 [==============================] - 0s 2ms/step - loss: 0.8881 - accuracy: 0.2122 - val_loss: 1.0435 - val_accuracy: 0.1743\n",
      "Epoch 58/200\n",
      "107/107 [==============================] - 0s 2ms/step - loss: 0.8740 - accuracy: 0.2177 - val_loss: 1.0457 - val_accuracy: 0.1808\n",
      "Epoch 59/200\n",
      "107/107 [==============================] - 0s 2ms/step - loss: 0.8646 - accuracy: 0.2155 - val_loss: 1.0434 - val_accuracy: 0.1895\n",
      "Epoch 60/200\n",
      "107/107 [==============================] - 0s 2ms/step - loss: 0.8566 - accuracy: 0.2270 - val_loss: 1.0342 - val_accuracy: 0.1917\n",
      "Epoch 61/200\n",
      "107/107 [==============================] - 0s 2ms/step - loss: 0.8462 - accuracy: 0.2259 - val_loss: 1.0331 - val_accuracy: 0.1983\n",
      "Epoch 62/200\n",
      "107/107 [==============================] - 0s 2ms/step - loss: 0.8364 - accuracy: 0.2287 - val_loss: 1.0298 - val_accuracy: 0.1895\n",
      "Epoch 63/200\n",
      "107/107 [==============================] - 0s 2ms/step - loss: 0.8276 - accuracy: 0.2320 - val_loss: 1.0315 - val_accuracy: 0.1939\n",
      "Epoch 64/200\n",
      "107/107 [==============================] - 0s 2ms/step - loss: 0.8183 - accuracy: 0.2325 - val_loss: 1.0192 - val_accuracy: 0.1939\n",
      "Epoch 65/200\n",
      "107/107 [==============================] - 0s 2ms/step - loss: 0.8081 - accuracy: 0.2424 - val_loss: 1.0212 - val_accuracy: 0.2004\n",
      "Epoch 66/200\n",
      "107/107 [==============================] - 0s 2ms/step - loss: 0.7983 - accuracy: 0.2430 - val_loss: 1.0184 - val_accuracy: 0.2004\n",
      "Epoch 67/200\n",
      "107/107 [==============================] - 0s 2ms/step - loss: 0.7898 - accuracy: 0.2457 - val_loss: 1.0150 - val_accuracy: 0.2092\n",
      "Epoch 68/200\n",
      "107/107 [==============================] - 0s 2ms/step - loss: 0.7811 - accuracy: 0.2496 - val_loss: 1.0105 - val_accuracy: 0.2092\n",
      "Epoch 69/200\n",
      "107/107 [==============================] - 0s 2ms/step - loss: 0.7725 - accuracy: 0.2496 - val_loss: 1.0083 - val_accuracy: 0.2092\n",
      "Epoch 70/200\n",
      "107/107 [==============================] - 0s 2ms/step - loss: 0.7624 - accuracy: 0.2562 - val_loss: 1.0159 - val_accuracy: 0.1983\n",
      "Epoch 71/200\n",
      "107/107 [==============================] - 0s 2ms/step - loss: 0.7551 - accuracy: 0.2562 - val_loss: 1.0099 - val_accuracy: 0.2113\n",
      "Epoch 72/200\n",
      "107/107 [==============================] - 0s 2ms/step - loss: 0.7438 - accuracy: 0.2556 - val_loss: 1.0060 - val_accuracy: 0.2070\n",
      "Epoch 73/200\n",
      "107/107 [==============================] - 0s 2ms/step - loss: 0.7381 - accuracy: 0.2595 - val_loss: 0.9954 - val_accuracy: 0.2070\n",
      "Epoch 74/200\n",
      "107/107 [==============================] - 0s 2ms/step - loss: 0.7278 - accuracy: 0.2622 - val_loss: 0.9971 - val_accuracy: 0.2179\n",
      "Epoch 75/200\n",
      "107/107 [==============================] - 0s 2ms/step - loss: 0.7194 - accuracy: 0.2633 - val_loss: 1.0020 - val_accuracy: 0.2048\n",
      "Epoch 76/200\n",
      "107/107 [==============================] - 0s 2ms/step - loss: 0.7109 - accuracy: 0.2688 - val_loss: 0.9935 - val_accuracy: 0.2113\n",
      "Epoch 77/200\n",
      "107/107 [==============================] - 0s 2ms/step - loss: 0.7038 - accuracy: 0.2688 - val_loss: 0.9825 - val_accuracy: 0.2179\n",
      "Epoch 78/200\n",
      "107/107 [==============================] - 0s 2ms/step - loss: 0.6956 - accuracy: 0.2743 - val_loss: 0.9904 - val_accuracy: 0.2092\n",
      "Epoch 79/200\n",
      "107/107 [==============================] - 0s 2ms/step - loss: 0.6899 - accuracy: 0.2727 - val_loss: 0.9790 - val_accuracy: 0.2113\n",
      "Epoch 80/200\n",
      "107/107 [==============================] - 0s 2ms/step - loss: 0.6797 - accuracy: 0.2776 - val_loss: 0.9766 - val_accuracy: 0.2157\n",
      "Epoch 81/200\n",
      "107/107 [==============================] - 0s 2ms/step - loss: 0.6736 - accuracy: 0.2754 - val_loss: 0.9679 - val_accuracy: 0.2157\n",
      "Epoch 82/200\n",
      "107/107 [==============================] - 0s 2ms/step - loss: 0.6640 - accuracy: 0.2782 - val_loss: 0.9812 - val_accuracy: 0.2244\n",
      "Epoch 83/200\n",
      "107/107 [==============================] - 0s 2ms/step - loss: 0.6582 - accuracy: 0.2793 - val_loss: 0.9715 - val_accuracy: 0.2244\n",
      "Epoch 84/200\n",
      "107/107 [==============================] - 0s 2ms/step - loss: 0.6508 - accuracy: 0.2809 - val_loss: 0.9643 - val_accuracy: 0.2200\n",
      "Epoch 85/200\n",
      "107/107 [==============================] - 0s 2ms/step - loss: 0.6408 - accuracy: 0.2853 - val_loss: 0.9611 - val_accuracy: 0.2200\n",
      "Epoch 86/200\n",
      "107/107 [==============================] - 0s 2ms/step - loss: 0.6383 - accuracy: 0.2842 - val_loss: 0.9669 - val_accuracy: 0.2200\n",
      "Epoch 87/200\n",
      "107/107 [==============================] - 0s 2ms/step - loss: 0.6278 - accuracy: 0.2870 - val_loss: 0.9601 - val_accuracy: 0.2200\n",
      "Epoch 88/200\n",
      "107/107 [==============================] - 0s 2ms/step - loss: 0.6209 - accuracy: 0.2886 - val_loss: 0.9560 - val_accuracy: 0.2222\n",
      "Epoch 89/200\n",
      "107/107 [==============================] - 0s 2ms/step - loss: 0.6139 - accuracy: 0.2870 - val_loss: 0.9628 - val_accuracy: 0.2222\n",
      "Epoch 90/200\n",
      "107/107 [==============================] - 0s 2ms/step - loss: 0.6050 - accuracy: 0.2897 - val_loss: 0.9763 - val_accuracy: 0.2113\n",
      "Epoch 91/200\n",
      "107/107 [==============================] - 0s 2ms/step - loss: 0.6007 - accuracy: 0.2919 - val_loss: 0.9583 - val_accuracy: 0.2222\n",
      "Epoch 92/200\n",
      "107/107 [==============================] - 0s 2ms/step - loss: 0.5914 - accuracy: 0.2980 - val_loss: 0.9503 - val_accuracy: 0.2222\n",
      "Epoch 93/200\n",
      "107/107 [==============================] - 0s 2ms/step - loss: 0.5866 - accuracy: 0.2936 - val_loss: 0.9478 - val_accuracy: 0.2309\n",
      "Epoch 94/200\n",
      "107/107 [==============================] - 0s 2ms/step - loss: 0.5792 - accuracy: 0.2980 - val_loss: 0.9422 - val_accuracy: 0.2222\n",
      "Epoch 95/200\n",
      "107/107 [==============================] - 0s 2ms/step - loss: 0.5725 - accuracy: 0.2936 - val_loss: 0.9427 - val_accuracy: 0.2266\n",
      "Epoch 96/200\n",
      "107/107 [==============================] - 0s 2ms/step - loss: 0.5668 - accuracy: 0.3002 - val_loss: 0.9370 - val_accuracy: 0.2266\n",
      "Epoch 97/200\n",
      "107/107 [==============================] - 0s 2ms/step - loss: 0.5617 - accuracy: 0.2991 - val_loss: 0.9447 - val_accuracy: 0.2222\n",
      "Epoch 98/200\n",
      "107/107 [==============================] - 0s 2ms/step - loss: 0.5545 - accuracy: 0.2996 - val_loss: 0.9331 - val_accuracy: 0.2266\n",
      "Epoch 99/200\n",
      "107/107 [==============================] - 0s 2ms/step - loss: 0.5487 - accuracy: 0.3013 - val_loss: 0.9328 - val_accuracy: 0.2309\n",
      "Epoch 100/200\n",
      "107/107 [==============================] - 0s 2ms/step - loss: 0.5425 - accuracy: 0.3035 - val_loss: 0.9408 - val_accuracy: 0.2200\n",
      "Epoch 101/200\n",
      "107/107 [==============================] - 0s 2ms/step - loss: 0.5350 - accuracy: 0.3024 - val_loss: 0.9321 - val_accuracy: 0.2288\n",
      "Epoch 102/200\n",
      "107/107 [==============================] - 0s 2ms/step - loss: 0.5315 - accuracy: 0.3024 - val_loss: 0.9379 - val_accuracy: 0.2179\n",
      "Epoch 103/200\n",
      "107/107 [==============================] - 0s 2ms/step - loss: 0.5237 - accuracy: 0.3079 - val_loss: 0.9385 - val_accuracy: 0.2266\n",
      "Epoch 104/200\n",
      "107/107 [==============================] - 0s 2ms/step - loss: 0.5194 - accuracy: 0.3101 - val_loss: 0.9251 - val_accuracy: 0.2288\n",
      "Epoch 105/200\n",
      "107/107 [==============================] - 0s 2ms/step - loss: 0.5128 - accuracy: 0.3090 - val_loss: 0.9256 - val_accuracy: 0.2288\n",
      "Epoch 106/200\n",
      "107/107 [==============================] - 0s 2ms/step - loss: 0.5100 - accuracy: 0.3123 - val_loss: 0.9281 - val_accuracy: 0.2222\n",
      "Epoch 107/200\n",
      "107/107 [==============================] - 0s 2ms/step - loss: 0.5022 - accuracy: 0.3123 - val_loss: 0.9346 - val_accuracy: 0.2266\n",
      "Epoch 108/200\n",
      "107/107 [==============================] - 0s 2ms/step - loss: 0.4977 - accuracy: 0.3073 - val_loss: 0.9221 - val_accuracy: 0.2222\n",
      "Epoch 109/200\n",
      "107/107 [==============================] - 0s 2ms/step - loss: 0.4903 - accuracy: 0.3145 - val_loss: 0.9243 - val_accuracy: 0.2244\n",
      "Epoch 110/200\n",
      "107/107 [==============================] - 0s 2ms/step - loss: 0.4876 - accuracy: 0.3156 - val_loss: 0.9257 - val_accuracy: 0.2266\n",
      "Epoch 111/200\n",
      "107/107 [==============================] - 0s 2ms/step - loss: 0.4839 - accuracy: 0.3123 - val_loss: 0.9170 - val_accuracy: 0.2222\n",
      "Epoch 112/200\n",
      "107/107 [==============================] - 0s 2ms/step - loss: 0.4773 - accuracy: 0.3167 - val_loss: 0.9235 - val_accuracy: 0.2200\n",
      "Epoch 113/200\n",
      "107/107 [==============================] - 0s 3ms/step - loss: 0.4712 - accuracy: 0.3222 - val_loss: 0.9149 - val_accuracy: 0.2266\n"
     ]
    },
    {
     "name": "stdout",
     "output_type": "stream",
     "text": [
      "Epoch 114/200\n",
      "107/107 [==============================] - 0s 2ms/step - loss: 0.4672 - accuracy: 0.3189 - val_loss: 0.9171 - val_accuracy: 0.2200\n",
      "Epoch 115/200\n",
      "107/107 [==============================] - 0s 3ms/step - loss: 0.4620 - accuracy: 0.3200 - val_loss: 0.9136 - val_accuracy: 0.2266\n",
      "Epoch 116/200\n",
      "107/107 [==============================] - 0s 3ms/step - loss: 0.4563 - accuracy: 0.3238 - val_loss: 0.9174 - val_accuracy: 0.2222\n",
      "Epoch 117/200\n",
      "107/107 [==============================] - 0s 2ms/step - loss: 0.4540 - accuracy: 0.3200 - val_loss: 0.9222 - val_accuracy: 0.2222\n",
      "Epoch 118/200\n",
      "107/107 [==============================] - 0s 3ms/step - loss: 0.4476 - accuracy: 0.3271 - val_loss: 0.9146 - val_accuracy: 0.2266\n",
      "Epoch 119/200\n",
      "107/107 [==============================] - 0s 2ms/step - loss: 0.4409 - accuracy: 0.3238 - val_loss: 0.9147 - val_accuracy: 0.2179\n",
      "Epoch 120/200\n",
      "107/107 [==============================] - 0s 3ms/step - loss: 0.4387 - accuracy: 0.3260 - val_loss: 0.9153 - val_accuracy: 0.2179\n",
      "Epoch 121/200\n",
      "107/107 [==============================] - 0s 3ms/step - loss: 0.4330 - accuracy: 0.3277 - val_loss: 0.9151 - val_accuracy: 0.2266\n",
      "Epoch 122/200\n",
      "107/107 [==============================] - 0s 2ms/step - loss: 0.4287 - accuracy: 0.3299 - val_loss: 0.9193 - val_accuracy: 0.2244\n",
      "Epoch 123/200\n",
      "107/107 [==============================] - 0s 3ms/step - loss: 0.4256 - accuracy: 0.3304 - val_loss: 0.9134 - val_accuracy: 0.2266\n",
      "Epoch 124/200\n",
      "107/107 [==============================] - 0s 3ms/step - loss: 0.4218 - accuracy: 0.3266 - val_loss: 0.9065 - val_accuracy: 0.2244\n",
      "Epoch 125/200\n",
      "107/107 [==============================] - 0s 3ms/step - loss: 0.4159 - accuracy: 0.3332 - val_loss: 0.9372 - val_accuracy: 0.2200\n",
      "Epoch 126/200\n",
      "107/107 [==============================] - 0s 3ms/step - loss: 0.4103 - accuracy: 0.3321 - val_loss: 0.9227 - val_accuracy: 0.2266\n",
      "Epoch 127/200\n",
      "107/107 [==============================] - 0s 2ms/step - loss: 0.4075 - accuracy: 0.3332 - val_loss: 0.9044 - val_accuracy: 0.2309\n",
      "Epoch 128/200\n",
      "107/107 [==============================] - 0s 2ms/step - loss: 0.4036 - accuracy: 0.3337 - val_loss: 0.9160 - val_accuracy: 0.2244\n",
      "Epoch 129/200\n",
      "107/107 [==============================] - 0s 3ms/step - loss: 0.4014 - accuracy: 0.3326 - val_loss: 0.9179 - val_accuracy: 0.2244\n",
      "Epoch 130/200\n",
      "107/107 [==============================] - 0s 2ms/step - loss: 0.3958 - accuracy: 0.3342 - val_loss: 0.9176 - val_accuracy: 0.2288\n",
      "Epoch 131/200\n",
      "107/107 [==============================] - 0s 3ms/step - loss: 0.3906 - accuracy: 0.3348 - val_loss: 0.9172 - val_accuracy: 0.2309\n",
      "Epoch 132/200\n",
      "107/107 [==============================] - 0s 3ms/step - loss: 0.3860 - accuracy: 0.3337 - val_loss: 0.9067 - val_accuracy: 0.2375\n",
      "Epoch 133/200\n",
      "107/107 [==============================] - 0s 3ms/step - loss: 0.3823 - accuracy: 0.3359 - val_loss: 0.9174 - val_accuracy: 0.2266\n",
      "Epoch 134/200\n",
      "107/107 [==============================] - 0s 3ms/step - loss: 0.3788 - accuracy: 0.3414 - val_loss: 0.9141 - val_accuracy: 0.2331\n",
      "Epoch 135/200\n",
      "107/107 [==============================] - 0s 3ms/step - loss: 0.3775 - accuracy: 0.3375 - val_loss: 0.9066 - val_accuracy: 0.2375\n",
      "Epoch 136/200\n",
      "107/107 [==============================] - 0s 3ms/step - loss: 0.3722 - accuracy: 0.3397 - val_loss: 0.9214 - val_accuracy: 0.2288\n",
      "Epoch 137/200\n",
      "107/107 [==============================] - 0s 3ms/step - loss: 0.3677 - accuracy: 0.3419 - val_loss: 0.9253 - val_accuracy: 0.2331\n",
      "Epoch 138/200\n",
      "107/107 [==============================] - 0s 3ms/step - loss: 0.3642 - accuracy: 0.3414 - val_loss: 0.9117 - val_accuracy: 0.2179\n",
      "Epoch 139/200\n",
      "107/107 [==============================] - 0s 3ms/step - loss: 0.3651 - accuracy: 0.3441 - val_loss: 0.9105 - val_accuracy: 0.2375\n",
      "Epoch 140/200\n",
      "107/107 [==============================] - 0s 3ms/step - loss: 0.3539 - accuracy: 0.3436 - val_loss: 0.9092 - val_accuracy: 0.2288\n",
      "Epoch 141/200\n",
      "107/107 [==============================] - 0s 3ms/step - loss: 0.3533 - accuracy: 0.3458 - val_loss: 0.9009 - val_accuracy: 0.2353\n",
      "Epoch 142/200\n",
      "107/107 [==============================] - 0s 3ms/step - loss: 0.3507 - accuracy: 0.3474 - val_loss: 0.9064 - val_accuracy: 0.2353\n",
      "Epoch 143/200\n",
      "107/107 [==============================] - 0s 3ms/step - loss: 0.3443 - accuracy: 0.3469 - val_loss: 0.9280 - val_accuracy: 0.2244\n",
      "Epoch 144/200\n",
      "107/107 [==============================] - 0s 3ms/step - loss: 0.3439 - accuracy: 0.3485 - val_loss: 0.9073 - val_accuracy: 0.2309\n",
      "Epoch 145/200\n",
      "107/107 [==============================] - 0s 3ms/step - loss: 0.3389 - accuracy: 0.3518 - val_loss: 0.8985 - val_accuracy: 0.2331\n",
      "Epoch 146/200\n",
      "107/107 [==============================] - 0s 2ms/step - loss: 0.3354 - accuracy: 0.3524 - val_loss: 0.9033 - val_accuracy: 0.2288\n",
      "Epoch 147/200\n",
      "107/107 [==============================] - 0s 2ms/step - loss: 0.3309 - accuracy: 0.3529 - val_loss: 0.9043 - val_accuracy: 0.2288\n",
      "Epoch 148/200\n",
      "107/107 [==============================] - 0s 2ms/step - loss: 0.3309 - accuracy: 0.3529 - val_loss: 0.9045 - val_accuracy: 0.2266\n",
      "Epoch 149/200\n",
      "107/107 [==============================] - 0s 2ms/step - loss: 0.3259 - accuracy: 0.3540 - val_loss: 0.9327 - val_accuracy: 0.2309\n",
      "Epoch 150/200\n",
      "107/107 [==============================] - 0s 2ms/step - loss: 0.3248 - accuracy: 0.3584 - val_loss: 0.8997 - val_accuracy: 0.2353\n",
      "Epoch 151/200\n",
      "107/107 [==============================] - 0s 2ms/step - loss: 0.3163 - accuracy: 0.3579 - val_loss: 0.9132 - val_accuracy: 0.2266\n",
      "Epoch 152/200\n",
      "107/107 [==============================] - 0s 2ms/step - loss: 0.3168 - accuracy: 0.3601 - val_loss: 0.9119 - val_accuracy: 0.2331\n",
      "Epoch 153/200\n",
      "107/107 [==============================] - 0s 2ms/step - loss: 0.3135 - accuracy: 0.3612 - val_loss: 0.8964 - val_accuracy: 0.2288\n",
      "Epoch 154/200\n",
      "107/107 [==============================] - 0s 2ms/step - loss: 0.3085 - accuracy: 0.3606 - val_loss: 0.9167 - val_accuracy: 0.2266\n",
      "Epoch 155/200\n",
      "107/107 [==============================] - 0s 2ms/step - loss: 0.3073 - accuracy: 0.3617 - val_loss: 0.9034 - val_accuracy: 0.2331\n",
      "Epoch 156/200\n",
      "107/107 [==============================] - 0s 2ms/step - loss: 0.3023 - accuracy: 0.3623 - val_loss: 0.9078 - val_accuracy: 0.2266\n",
      "Epoch 157/200\n",
      "107/107 [==============================] - 0s 2ms/step - loss: 0.2991 - accuracy: 0.3628 - val_loss: 0.9142 - val_accuracy: 0.2309\n",
      "Epoch 158/200\n",
      "107/107 [==============================] - 0s 2ms/step - loss: 0.2963 - accuracy: 0.3661 - val_loss: 0.8974 - val_accuracy: 0.2331\n",
      "Epoch 159/200\n",
      "107/107 [==============================] - 0s 2ms/step - loss: 0.2927 - accuracy: 0.3650 - val_loss: 0.8972 - val_accuracy: 0.2375\n",
      "Epoch 160/200\n",
      "107/107 [==============================] - 0s 2ms/step - loss: 0.2902 - accuracy: 0.3667 - val_loss: 0.9050 - val_accuracy: 0.2309\n",
      "Epoch 161/200\n",
      "107/107 [==============================] - 0s 2ms/step - loss: 0.2941 - accuracy: 0.3639 - val_loss: 0.9092 - val_accuracy: 0.2266\n",
      "Epoch 162/200\n",
      "107/107 [==============================] - 0s 2ms/step - loss: 0.2820 - accuracy: 0.3727 - val_loss: 0.9069 - val_accuracy: 0.2288\n",
      "Epoch 163/200\n",
      "107/107 [==============================] - 0s 2ms/step - loss: 0.2808 - accuracy: 0.3705 - val_loss: 0.9140 - val_accuracy: 0.2288\n",
      "Epoch 164/200\n",
      "107/107 [==============================] - 0s 2ms/step - loss: 0.2794 - accuracy: 0.3722 - val_loss: 0.9086 - val_accuracy: 0.2309\n",
      "Epoch 165/200\n",
      "107/107 [==============================] - 0s 2ms/step - loss: 0.2753 - accuracy: 0.3705 - val_loss: 0.9025 - val_accuracy: 0.2266\n",
      "Epoch 166/200\n",
      "107/107 [==============================] - 0s 2ms/step - loss: 0.2733 - accuracy: 0.3705 - val_loss: 0.9092 - val_accuracy: 0.2331\n",
      "Epoch 167/200\n",
      "107/107 [==============================] - 0s 2ms/step - loss: 0.2687 - accuracy: 0.3749 - val_loss: 0.9068 - val_accuracy: 0.2418\n",
      "Epoch 168/200\n",
      "107/107 [==============================] - 0s 2ms/step - loss: 0.2700 - accuracy: 0.3755 - val_loss: 0.9096 - val_accuracy: 0.2288\n",
      "Epoch 169/200\n",
      "107/107 [==============================] - 0s 2ms/step - loss: 0.2644 - accuracy: 0.3777 - val_loss: 0.9136 - val_accuracy: 0.2331\n",
      "Epoch 170/200\n"
     ]
    },
    {
     "name": "stdout",
     "output_type": "stream",
     "text": [
      "107/107 [==============================] - 0s 2ms/step - loss: 0.2611 - accuracy: 0.3782 - val_loss: 0.9040 - val_accuracy: 0.2331\n",
      "Epoch 171/200\n",
      "107/107 [==============================] - 0s 2ms/step - loss: 0.2596 - accuracy: 0.3766 - val_loss: 0.9185 - val_accuracy: 0.2331\n",
      "Epoch 172/200\n",
      "107/107 [==============================] - 0s 2ms/step - loss: 0.2555 - accuracy: 0.3782 - val_loss: 0.9328 - val_accuracy: 0.2331\n",
      "Epoch 173/200\n",
      "107/107 [==============================] - 0s 2ms/step - loss: 0.2549 - accuracy: 0.3793 - val_loss: 0.8978 - val_accuracy: 0.2288\n",
      "Epoch 174/200\n",
      "107/107 [==============================] - 0s 2ms/step - loss: 0.2507 - accuracy: 0.3810 - val_loss: 0.9116 - val_accuracy: 0.2288\n",
      "Epoch 175/200\n",
      "107/107 [==============================] - 0s 2ms/step - loss: 0.2496 - accuracy: 0.3804 - val_loss: 0.9095 - val_accuracy: 0.2375\n",
      "Epoch 176/200\n",
      "107/107 [==============================] - 0s 2ms/step - loss: 0.2463 - accuracy: 0.3810 - val_loss: 0.9122 - val_accuracy: 0.2331\n",
      "Epoch 177/200\n",
      "107/107 [==============================] - 0s 2ms/step - loss: 0.2429 - accuracy: 0.3865 - val_loss: 0.9083 - val_accuracy: 0.2331\n",
      "Epoch 178/200\n",
      "107/107 [==============================] - 0s 2ms/step - loss: 0.2423 - accuracy: 0.3837 - val_loss: 0.9144 - val_accuracy: 0.2353\n",
      "Epoch 179/200\n",
      "107/107 [==============================] - 0s 2ms/step - loss: 0.2383 - accuracy: 0.3815 - val_loss: 0.9189 - val_accuracy: 0.2266\n",
      "Epoch 180/200\n",
      "107/107 [==============================] - 0s 2ms/step - loss: 0.2360 - accuracy: 0.3832 - val_loss: 0.9287 - val_accuracy: 0.2353\n",
      "Epoch 181/200\n",
      "107/107 [==============================] - 0s 2ms/step - loss: 0.2333 - accuracy: 0.3832 - val_loss: 0.9166 - val_accuracy: 0.2331\n",
      "Epoch 182/200\n",
      "107/107 [==============================] - 0s 2ms/step - loss: 0.2307 - accuracy: 0.3876 - val_loss: 0.9265 - val_accuracy: 0.2331\n",
      "Epoch 183/200\n",
      "107/107 [==============================] - 0s 2ms/step - loss: 0.2309 - accuracy: 0.3837 - val_loss: 0.9075 - val_accuracy: 0.2331\n",
      "Epoch 184/200\n",
      "107/107 [==============================] - 0s 2ms/step - loss: 0.2265 - accuracy: 0.3870 - val_loss: 0.9061 - val_accuracy: 0.2375\n",
      "Epoch 185/200\n",
      "107/107 [==============================] - 0s 2ms/step - loss: 0.2230 - accuracy: 0.3859 - val_loss: 0.9480 - val_accuracy: 0.2244\n",
      "Epoch 186/200\n",
      "107/107 [==============================] - 0s 2ms/step - loss: 0.2236 - accuracy: 0.3870 - val_loss: 0.9159 - val_accuracy: 0.2309\n",
      "Epoch 187/200\n",
      "107/107 [==============================] - 0s 2ms/step - loss: 0.2199 - accuracy: 0.3903 - val_loss: 0.9129 - val_accuracy: 0.2331\n",
      "Epoch 188/200\n",
      "107/107 [==============================] - 0s 2ms/step - loss: 0.2175 - accuracy: 0.3903 - val_loss: 0.9253 - val_accuracy: 0.2288\n",
      "Epoch 189/200\n",
      "107/107 [==============================] - 0s 2ms/step - loss: 0.2164 - accuracy: 0.3876 - val_loss: 0.9294 - val_accuracy: 0.2309\n",
      "Epoch 190/200\n",
      "107/107 [==============================] - 0s 2ms/step - loss: 0.2156 - accuracy: 0.3925 - val_loss: 0.9135 - val_accuracy: 0.2309\n",
      "Epoch 191/200\n",
      "107/107 [==============================] - 0s 2ms/step - loss: 0.2124 - accuracy: 0.3898 - val_loss: 0.9137 - val_accuracy: 0.2331\n",
      "Epoch 192/200\n",
      "107/107 [==============================] - 0s 2ms/step - loss: 0.2069 - accuracy: 0.3964 - val_loss: 0.9171 - val_accuracy: 0.2331\n",
      "Epoch 193/200\n",
      "107/107 [==============================] - 0s 2ms/step - loss: 0.2081 - accuracy: 0.3914 - val_loss: 0.9252 - val_accuracy: 0.2266\n",
      "Epoch 194/200\n",
      "107/107 [==============================] - 0s 2ms/step - loss: 0.2036 - accuracy: 0.3931 - val_loss: 0.9026 - val_accuracy: 0.2331\n",
      "Epoch 195/200\n",
      "107/107 [==============================] - 0s 2ms/step - loss: 0.2037 - accuracy: 0.3920 - val_loss: 0.9315 - val_accuracy: 0.2331\n",
      "Epoch 196/200\n",
      "107/107 [==============================] - 0s 2ms/step - loss: 0.2002 - accuracy: 0.3931 - val_loss: 0.9307 - val_accuracy: 0.2331\n",
      "Epoch 197/200\n",
      "107/107 [==============================] - 0s 2ms/step - loss: 0.1987 - accuracy: 0.3947 - val_loss: 0.9160 - val_accuracy: 0.2375\n",
      "Epoch 198/200\n",
      "107/107 [==============================] - 0s 2ms/step - loss: 0.1945 - accuracy: 0.3986 - val_loss: 0.9520 - val_accuracy: 0.2222\n",
      "Epoch 199/200\n",
      "107/107 [==============================] - 0s 2ms/step - loss: 0.1946 - accuracy: 0.3947 - val_loss: 0.9202 - val_accuracy: 0.2309\n",
      "Epoch 200/200\n",
      "107/107 [==============================] - 0s 2ms/step - loss: 0.1915 - accuracy: 0.3964 - val_loss: 0.9258 - val_accuracy: 0.2353\n"
     ]
    }
   ],
   "source": [
    "#Train the model\n",
    "hist = model.fit([encoder_input_data, decoder_input_data], decoder_target_data,\n",
    "          batch_size=8,\n",
    "          epochs=200,\n",
    "          validation_split=0.2).history\n",
    "# Save model\n",
    "model.save('s2s.h5')"
   ]
  },
  {
   "cell_type": "code",
   "execution_count": 17,
   "metadata": {
    "colab": {
     "base_uri": "https://localhost:8080/",
     "height": 369
    },
    "id": "F7CLju35P3oK",
    "outputId": "63ab40e2-0823-4a49-c4e4-f41dbf5d99db"
   },
   "outputs": [
    {
     "data": {
      "text/plain": [
       "(<Figure size 720x360 with 2 Axes>,\n",
       " array([<AxesSubplot:title={'center':'Loss'}, xlabel='Epochs', ylabel='Loss'>,\n",
       "        <AxesSubplot:title={'center':'Accuracy'}, xlabel='Epochs', ylabel='Accuracy'>],\n",
       "       dtype=object))"
      ]
     },
     "execution_count": 17,
     "metadata": {},
     "output_type": "execute_result"
    },
    {
     "data": {
      "image/png": "[encoded data removed]",
      "text/plain": [
       "<Figure size 720x360 with 2 Axes>"
      ]
     },
     "metadata": {
      "needs_background": "light"
     },
     "output_type": "display_data"
    }
   ],
   "source": [
    "\n",
    "from plot_keras_history import plot_history\n",
    "plot_history(hist)"
   ]
  },
  {
   "cell_type": "code",
   "execution_count": 18,
   "metadata": {
    "id": "lsz6McDxix8Y"
   },
   "outputs": [],
   "source": [
    "#We are ready for inference. \n",
    "#(kopi o <pad> <pad> <pad>)\t---------> ($START black coffee with sugar END$)\n",
    "  ##Encoder(kopi o <pad> <pad> <pad>) = (h0,c0)\n",
    "    ##(h0,c0) +  $START ----decoder-----> (black,  (h1,c1)) \n",
    "    ##(h1,c1)\t+  black -----decoder---->  (coffee, (h2,c2))\n",
    "    ##(h2,c2)\t+  coffee ----decoder-----> (with,   (h3,c3))\n",
    "    ##(h3,c3)\t+  with ------decoder--->   (sugar,  (h4,c4))\n",
    "    ##(h4,c4)\t+  sugar -----decoder---->  (END$,   (h5,c5))\n",
    "\n",
    "\n",
    "#To decode a test sentence, we will repeatedly:\n",
    "#1) Encode the input sentence and retrieve the initial state (encoder_states = [state_h, state_c])\n",
    "        ##(kopi o)--->encoder_states = [state_h, state_c]\n",
    "#2) Run one step of the decoder ([state_h, state_c] + START_ -----> black)\n",
    "    #initial state(encoder_states = [state_h, state_c]) and a \"START_\" token as input. \n",
    "    #The output will be the next Target_Word (may or maynot be \"black\").\n",
    "#3) Append the Target_Word with previous input (\"START_ Target_Word\")  and REPEAT (utill \"_END\" predicted)."
   ]
  },
  {
   "cell_type": "code",
   "execution_count": 19,
   "metadata": {
    "colab": {
     "base_uri": "https://localhost:8080/"
    },
    "id": "lCk7N-le65Lp",
    "outputId": "9cce4a39-17ff-4270-ea96-f3a80fb6a30a"
   },
   "outputs": [
    {
     "name": "stdout",
     "output_type": "stream",
     "text": [
      "Model: \"model_2\"\n",
      "_________________________________________________________________\n",
      "Layer (type)                 Output Shape              Param #   \n",
      "=================================================================\n",
      "input_1 (InputLayer)         (None, None, 63)          0         \n",
      "_________________________________________________________________\n",
      "lstm_1 (LSTM)                [(None, 32), (None, 32),  12288     \n",
      "=================================================================\n",
      "Total params: 12,288\n",
      "Trainable params: 12,288\n",
      "Non-trainable params: 0\n",
      "_________________________________________________________________\n",
      "Model: \"model_3\"\n",
      "__________________________________________________________________________________________________\n",
      "Layer (type)                    Output Shape         Param #     Connected to                     \n",
      "==================================================================================================\n",
      "input_2 (InputLayer)            (None, None, 109)    0                                            \n",
      "__________________________________________________________________________________________________\n",
      "input_3 (InputLayer)            (None, 32)           0                                            \n",
      "__________________________________________________________________________________________________\n",
      "input_4 (InputLayer)            (None, 32)           0                                            \n",
      "__________________________________________________________________________________________________\n",
      "lstm_2 (LSTM)                   [(None, None, 32), ( 18176       input_2[0][0]                    \n",
      "                                                                 input_3[0][0]                    \n",
      "                                                                 input_4[0][0]                    \n",
      "__________________________________________________________________________________________________\n",
      "dense_1 (Dense)                 (None, None, 109)    3597        lstm_2[1][0]                     \n",
      "==================================================================================================\n",
      "Total params: 21,773\n",
      "Trainable params: 21,773\n",
      "Non-trainable params: 0\n",
      "__________________________________________________________________________________________________\n"
     ]
    }
   ],
   "source": [
    "#define encode_model seperatly as training stage \n",
    "#(kopi o)--->encoder_states = [state_h, state_c]\n",
    "encoder_model = Model(encoder_inputs, encoder_states) #reusing the [encoder_inputs,encoder_states]\n",
    "encoder_model.summary()\n",
    "\n",
    "#define decoder_model seperatly as training stages\n",
    "#[_h, _c] for decoder LSTM\n",
    "decoder_state_input_h = Input(shape=(hidden_dim,))\n",
    "decoder_state_input_c = Input(shape=(hidden_dim,))\n",
    "decoder_states_inputs = [decoder_state_input_h, decoder_state_input_c]\n",
    "\n",
    "# [decoder_input, h_t0, c_t0] for decoder LSTM\n",
    "decoder_outputs, state_h, state_c = decoder_lstm(decoder_inputs, initial_state=decoder_states_inputs)\n",
    "# predict [h_t1, c_t1]\n",
    "decoder_states = [state_h, state_c]\n",
    "# predict [target_Seq_t1]\n",
    "decoder_outputs = decoder_dense(decoder_outputs)\n",
    "\n",
    "decoder_model = Model([decoder_inputs] + decoder_states_inputs, [decoder_outputs] + decoder_states)\n",
    "decoder_model.summary()\n"
   ]
  },
  {
   "cell_type": "code",
   "execution_count": 20,
   "metadata": {
    "id": "9SUHvsHC67mN"
   },
   "outputs": [],
   "source": [
    " ##Encoder(kopi o <pad> <pad> <pad>) = (h0,c0)\n",
    "    ##(h0,c0) +  $START ----decoder-----> (black,  (h1,c1)) \n",
    "    ##(h1,c1)\t+  black -----decoder---->  (coffee, (h2,c2))\n",
    "    ##(h2,c2)\t+  coffee ----decoder-----> (with,   (h3,c3))\n",
    "    ##(h3,c3)\t+  with ------decoder--->   (sugar,  (h4,c4))\n",
    "    ##(h4,c4)\t+  sugar -----decoder---->  (END$,   (h5,c5))\n",
    "\n",
    "def decode_sequence(input_seq,num_decoder_tokens,encoder_model,decoder_model,vocab_B,max_decoder_seq_length,maxlen_A,vocab_size_A):\n",
    "\n",
    "    if len(input_seq)==0:\n",
    "        return [vocab_B['end$']]\n",
    "\n",
    "    # Encode the input as state vectors.\n",
    "    ##Encoder(kopi o <pad> <pad> <pad>) = (h0,c0)\n",
    "\n",
    "    encoder_input_text = np.zeros((1, maxlen_A, vocab_size_A), dtype='float32')\n",
    "    for t, word_id in enumerate(input_seq):\n",
    "        encoder_input_text[0, t, word_id] = 1.\n",
    "\n",
    "    states_value = encoder_model.predict(encoder_input_text)\n",
    "\n",
    "    # Generate empty target sequence of word_token.\n",
    "    target_seq = np.zeros((1, 1, num_decoder_tokens))\n",
    "\n",
    "    # Initialize with $start\n",
    "    target_seq[0, 0, vocab_B['$start']] = 1.\n",
    "\n",
    "    # Sampling loop for a batch of sequences\n",
    "    # (to simplify, here we assume a batch of size 1 (greedy decoding)).\n",
    "    stop_condition = False\n",
    "    decoded_word_index = []\n",
    "    \n",
    "    while not stop_condition:\n",
    "        ##(h0,c0) +  $START ----decoder-----> (???,  (h1,c1)) \n",
    "        output_tokens, h, c = decoder_model.predict([target_seq] + states_value)\n",
    "\n",
    "        # Predict the best token (black)\n",
    "        predict_token_index = np.argmax(output_tokens[0, -1, :])\n",
    "        decoded_word_index.append(predict_token_index)\n",
    "\n",
    "        # Exit condition: either hit max length # or find stop character.\n",
    "        if (predict_token_index == vocab_B['end$'] or len(decoded_word_index) > max_decoder_seq_length):\n",
    "            stop_condition = True\n",
    "\n",
    "        ##(h1,c1)\t+  black -----decoder---->  (???, (h2,c2))\n",
    "\n",
    "        # Update the target sequence to the predict word_token\n",
    "        target_seq = np.zeros((1, 1, num_decoder_tokens))\n",
    "        target_seq[0, 0, predict_token_index] = 1.\n",
    "\n",
    "        # Update states\n",
    "        states_value = [h, c]\n",
    "\n",
    "    return decoded_word_index"
   ]
  },
  {
   "cell_type": "code",
   "execution_count": 21,
   "metadata": {
    "colab": {
     "base_uri": "https://localhost:8080/"
    },
    "id": "LHsBrNmnAjN_",
    "outputId": "43c076c7-3f81-4f5c-af8e-84e4e4193302"
   },
   "outputs": [
    {
     "name": "stdout",
     "output_type": "stream",
     "text": [
      "[1, 5]\n",
      "[5, 3, 9, 4, 24, 26, 6, 2]\n"
     ]
    }
   ],
   "source": [
    "#Try with the first row\n",
    "\n",
    "print(seqA[0])\n",
    "r = decode_sequence(seqA[0],vocab_size_B,encoder_model,decoder_model,word_index_B,maxlen_B,maxlen_A,vocab_size_A)\n",
    "print (r)\n"
   ]
  },
  {
   "cell_type": "code",
   "execution_count": 22,
   "metadata": {
    "colab": {
     "base_uri": "https://localhost:8080/"
    },
    "id": "h47IfppdVbCt",
    "outputId": "0d90e30e-17fb-4451-9f06-378e6f8416f7"
   },
   "outputs": [
    {
     "name": "stdout",
     "output_type": "stream",
     "text": [
      "['kopi', 'kosong']\n",
      "['coffee', 'with', 'condensed', 'milk', 'but', 'no', 'sugar', 'end$']\n"
     ]
    }
   ],
   "source": [
    "# Creating a reverse dictionary\n",
    "\n",
    "reverse_word_map_A = dict(map(reversed, tokenizer_A.word_index.items()))\n",
    "reverse_word_map_B = dict(map(reversed, tokenizer_B.word_index.items()))\n",
    "\n",
    "# Function takes a tokenized sentence and returns the words\n",
    "def indexSeq_to_text_A(list_of_indices):\n",
    "    # Looking up words in dictionary\n",
    "    words = [reverse_word_map_A.get(letter) for letter in list_of_indices]\n",
    "    return(words)\n",
    "\n",
    "def indexSeq_to_text_B(list_of_indices):\n",
    "    # Looking up words in dictionary\n",
    "    words = [reverse_word_map_B.get(letter) for letter in list_of_indices]\n",
    "    return(words)\n",
    "\n",
    "print(indexSeq_to_text_A(seqA[0]))\n",
    "print(indexSeq_to_text_B(r))"
   ]
  },
  {
   "cell_type": "code",
   "execution_count": 23,
   "metadata": {
    "id": "03e1PEIfj2AM"
   },
   "outputs": [],
   "source": [
    "#Translater for a list of seqA to seqB     \n",
    "def testSeq2Sq(listOfSeqA):\n",
    "    listOfSeqB=[]\n",
    "    token_seqA = tokenizer_A.texts_to_sequences(listOfSeqA)\n",
    "    \n",
    "    for a in token_seqA:\n",
    "        r = decode_sequence(a,vocab_size_B,encoder_model,decoder_model,word_index_B,maxlen_B,maxlen_A,vocab_size_A)\n",
    "        tokens_b = indexSeq_to_text_B(r)\n",
    "        sentB = ' '.join(tokens_b)\n",
    "        listOfSeqB.append(sentB)\n",
    "        \n",
    "    return listOfSeqB"
   ]
  },
  {
   "cell_type": "code",
   "execution_count": 24,
   "metadata": {
    "colab": {
     "base_uri": "https://localhost:8080/",
     "height": 301
    },
    "id": "PeDvkEVFxdVs",
    "outputId": "5bc4a108-f196-45fb-ec50-50733787ac04"
   },
   "outputs": [
    {
     "name": "stderr",
     "output_type": "stream",
     "text": [
      "c:\\anaconda\\envs\\pyakc\\lib\\site-packages\\ipykernel_launcher.py:4: SettingWithCopyWarning: \n",
      "A value is trying to be set on a copy of a slice from a DataFrame.\n",
      "Try using .loc[row_indexer,col_indexer] = value instead\n",
      "\n",
      "See the caveats in the documentation: https://pandas.pydata.org/pandas-docs/stable/user_guide/indexing.html#returning-a-view-versus-a-copy\n",
      "  after removing the cwd from sys.path.\n"
     ]
    },
    {
     "data": {
      "text/html": [
       "<div>\n",
       "<style scoped>\n",
       "    .dataframe tbody tr th:only-of-type {\n",
       "        vertical-align: middle;\n",
       "    }\n",
       "\n",
       "    .dataframe tbody tr th {\n",
       "        vertical-align: top;\n",
       "    }\n",
       "\n",
       "    .dataframe thead th {\n",
       "        text-align: right;\n",
       "    }\n",
       "</style>\n",
       "<table border=\"1\" class=\"dataframe\">\n",
       "  <thead>\n",
       "    <tr style=\"text-align: right;\">\n",
       "      <th></th>\n",
       "      <th>SeqA</th>\n",
       "      <th>SeqB</th>\n",
       "      <th>Translated</th>\n",
       "    </tr>\n",
       "  </thead>\n",
       "  <tbody>\n",
       "    <tr>\n",
       "      <th>13</th>\n",
       "      <td>kopi gau peng</td>\n",
       "      <td>$START strong iced coffee with condensed milk ...</td>\n",
       "      <td>iced coffee with condensed milk end$</td>\n",
       "    </tr>\n",
       "    <tr>\n",
       "      <th>159</th>\n",
       "      <td>teh c</td>\n",
       "      <td>$START tea with evaporated milk and sugar END$</td>\n",
       "      <td>tea with evaporated milk and sugar end$</td>\n",
       "    </tr>\n",
       "    <tr>\n",
       "      <th>69</th>\n",
       "      <td>diao yu</td>\n",
       "      <td>$START chinese tea END$</td>\n",
       "      <td>chinese tea end$</td>\n",
       "    </tr>\n",
       "    <tr>\n",
       "      <th>148</th>\n",
       "      <td>kopi gau</td>\n",
       "      <td>$START strong brew of coffee with condensed mi...</td>\n",
       "      <td>strong coffee with condensed milk end$</td>\n",
       "    </tr>\n",
       "    <tr>\n",
       "      <th>44</th>\n",
       "      <td>kopi o gau siew dai</td>\n",
       "      <td>$START hot black coffee with more coffee powde...</td>\n",
       "      <td>hot black coffee with more coffee powder and m...</td>\n",
       "    </tr>\n",
       "  </tbody>\n",
       "</table>\n",
       "</div>"
      ],
      "text/plain": [
       "                    SeqA                                               SeqB  \\\n",
       "13         kopi gau peng  $START strong iced coffee with condensed milk ...   \n",
       "159                teh c     $START tea with evaporated milk and sugar END$   \n",
       "69               diao yu                            $START chinese tea END$   \n",
       "148             kopi gau  $START strong brew of coffee with condensed mi...   \n",
       "44   kopi o gau siew dai  $START hot black coffee with more coffee powde...   \n",
       "\n",
       "                                            Translated  \n",
       "13                iced coffee with condensed milk end$  \n",
       "159            tea with evaporated milk and sugar end$  \n",
       "69                                    chinese tea end$  \n",
       "148             strong coffee with condensed milk end$  \n",
       "44   hot black coffee with more coffee powder and m...  "
      ]
     },
     "execution_count": 24,
     "metadata": {},
     "output_type": "execute_result"
    }
   ],
   "source": [
    "#test with fresh data\n",
    "\n",
    "decode_testSeqB = testSeq2Sq(testlines.SeqA)\n",
    "testlines['Translated'] = decode_testSeqB\n",
    "testlines.head()\n",
    "\n"
   ]
  },
  {
   "cell_type": "code",
   "execution_count": 25,
   "metadata": {
    "colab": {
     "base_uri": "https://localhost:8080/",
     "height": 301
    },
    "id": "PCTXYqFZkGNK",
    "outputId": "973ef60f-3814-4b9e-87f4-c8ef22f930c5"
   },
   "outputs": [
    {
     "name": "stderr",
     "output_type": "stream",
     "text": [
      "c:\\anaconda\\envs\\pyakc\\lib\\site-packages\\ipykernel_launcher.py:4: SettingWithCopyWarning: \n",
      "A value is trying to be set on a copy of a slice from a DataFrame.\n",
      "Try using .loc[row_indexer,col_indexer] = value instead\n",
      "\n",
      "See the caveats in the documentation: https://pandas.pydata.org/pandas-docs/stable/user_guide/indexing.html#returning-a-view-versus-a-copy\n",
      "  after removing the cwd from sys.path.\n"
     ]
    },
    {
     "data": {
      "text/html": [
       "<div>\n",
       "<style scoped>\n",
       "    .dataframe tbody tr th:only-of-type {\n",
       "        vertical-align: middle;\n",
       "    }\n",
       "\n",
       "    .dataframe tbody tr th {\n",
       "        vertical-align: top;\n",
       "    }\n",
       "\n",
       "    .dataframe thead th {\n",
       "        text-align: right;\n",
       "    }\n",
       "</style>\n",
       "<table border=\"1\" class=\"dataframe\">\n",
       "  <thead>\n",
       "    <tr style=\"text-align: right;\">\n",
       "      <th></th>\n",
       "      <th>SeqA</th>\n",
       "      <th>SeqB</th>\n",
       "      <th>Translated</th>\n",
       "    </tr>\n",
       "  </thead>\n",
       "  <tbody>\n",
       "    <tr>\n",
       "      <th>3</th>\n",
       "      <td>kopi kosong</td>\n",
       "      <td>$START black coffee without sugar or milk END$</td>\n",
       "      <td>coffee with condensed milk but no sugar end$</td>\n",
       "    </tr>\n",
       "    <tr>\n",
       "      <th>9</th>\n",
       "      <td>kopi gau</td>\n",
       "      <td>$START strong coffee with condensed milk END$</td>\n",
       "      <td>strong coffee with condensed milk end$</td>\n",
       "    </tr>\n",
       "    <tr>\n",
       "      <th>161</th>\n",
       "      <td>teh o</td>\n",
       "      <td>$START tea with sugar only END$</td>\n",
       "      <td>tea without milk but with sugar end$</td>\n",
       "    </tr>\n",
       "    <tr>\n",
       "      <th>2</th>\n",
       "      <td>kopi c</td>\n",
       "      <td>$START black coffee with evaporated milk END$</td>\n",
       "      <td>hot coffee with evaporated milk and sugar end$</td>\n",
       "    </tr>\n",
       "    <tr>\n",
       "      <th>25</th>\n",
       "      <td>kopi gau ga dai</td>\n",
       "      <td>$START hot coffee with condensed milk and more...</td>\n",
       "      <td>hot coffee with condensed milk and more coffee...</td>\n",
       "    </tr>\n",
       "  </tbody>\n",
       "</table>\n",
       "</div>"
      ],
      "text/plain": [
       "                SeqA                                               SeqB  \\\n",
       "3        kopi kosong     $START black coffee without sugar or milk END$   \n",
       "9           kopi gau      $START strong coffee with condensed milk END$   \n",
       "161            teh o                    $START tea with sugar only END$   \n",
       "2             kopi c      $START black coffee with evaporated milk END$   \n",
       "25   kopi gau ga dai  $START hot coffee with condensed milk and more...   \n",
       "\n",
       "                                            Translated  \n",
       "3         coffee with condensed milk but no sugar end$  \n",
       "9               strong coffee with condensed milk end$  \n",
       "161               tea without milk but with sugar end$  \n",
       "2       hot coffee with evaporated milk and sugar end$  \n",
       "25   hot coffee with condensed milk and more coffee...  "
      ]
     },
     "execution_count": 25,
     "metadata": {},
     "output_type": "execute_result"
    }
   ],
   "source": [
    "#test with known training data\n",
    "sample_train=lines[:10]\n",
    "decode_sample_train = testSeq2Sq(sample_train.SeqA)\n",
    "sample_train['Translated'] = decode_sample_train\n",
    "sample_train.head()"
   ]
  }
 ],
 "metadata": {
  "accelerator": "GPU",
  "colab": {
   "collapsed_sections": [],
   "name": "Seq2Seq_LSTM_woeb.ipynb",
   "provenance": []
  },
  "kernelspec": {
   "display_name": "Python 3 (ipykernel)",
   "language": "python",
   "name": "python3"
  },
  "language_info": {
   "codemirror_mode": {
    "name": "ipython",
    "version": 3
   },
   "file_extension": ".py",
   "mimetype": "text/x-python",
   "name": "python",
   "nbconvert_exporter": "python",
   "pygments_lexer": "ipython3",
   "version": "3.7.9"
  }
 },
 "nbformat": 4,
 "nbformat_minor": 1
}
